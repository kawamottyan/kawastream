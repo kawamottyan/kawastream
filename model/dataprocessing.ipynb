{
 "cells": [
  {
   "cell_type": "markdown",
   "id": "c2130436-953a-473d-ab51-e9cf694ee9b1",
   "metadata": {},
   "source": [
    "#### 目次\n",
    "1. movielensのデータを取得する\n",
    "2. movielensのデータを加工し、保存する\n",
    "3. TMDBのデータを取得する\n",
    "4. TMDBのデータを保存する\n",
    "5. 上記よりtrain, valid, testを作成する"
   ]
  },
  {
   "cell_type": "code",
   "execution_count": 1,
   "id": "e2098bad-e92d-45c8-a88c-ea7f89f7f238",
   "metadata": {},
   "outputs": [],
   "source": [
    "import requests\n",
    "import zipfile\n",
    "from io import BytesIO\n",
    "import os\n",
    "from tqdm import tqdm\n",
    "from dotenv import load_dotenv\n",
    "\n",
    "import json\n",
    "import pandas as pd\n",
    "import numpy as np"
   ]
  },
  {
   "cell_type": "code",
   "execution_count": 2,
   "id": "a410787b-8b9e-476c-b9de-c8612b695170",
   "metadata": {},
   "outputs": [],
   "source": [
    "pd.set_option('display.max_columns', 100)"
   ]
  },
  {
   "cell_type": "code",
   "execution_count": 3,
   "id": "4dd7f0d5-a116-40df-9ca8-d569c75c2536",
   "metadata": {},
   "outputs": [],
   "source": [
    "load_dotenv()\n",
    "tmdb_key = os.getenv('TMDB_KEY')"
   ]
  },
  {
   "cell_type": "markdown",
   "id": "6f101aca-3515-46f3-8ca2-8eec427f7ef2",
   "metadata": {},
   "source": [
    "#### 1.movielensのデータを取得する"
   ]
  },
  {
   "cell_type": "markdown",
   "id": "973d89ee-2391-4778-ab62-fad1ad264f7b",
   "metadata": {},
   "source": [
    "下記のデータをダウンロードし、ml-20mフォルダに入れる  \n",
    "https://grouplens.org/datasets/movielens/20m/"
   ]
  },
  {
   "cell_type": "code",
   "execution_count": 4,
   "id": "cff9d36e-61c4-42d8-ae7e-31b94c9c58cd",
   "metadata": {},
   "outputs": [
    {
     "name": "stdout",
     "output_type": "stream",
     "text": [
      "MovieLens 20M データセットが ml-20m/ ディレクトリに保存されました。\n"
     ]
    }
   ],
   "source": [
    "url = \"http://files.grouplens.org/datasets/movielens/ml-20m.zip\"\n",
    "\n",
    "response = requests.get(url)\n",
    "with zipfile.ZipFile(BytesIO(response.content)) as z:\n",
    "    ml_20m_dir = [info.filename for info in z.infolist() if info.filename.endswith('ml-20m/')][0]\n",
    "    z.extractall(path=\".\", members=[info for info in z.infolist() if info.filename.startswith(ml_20m_dir)])\n",
    "\n",
    "print(\"MovieLens 20M データセットが ml-20m/ ディレクトリに保存されました。\")"
   ]
  },
  {
   "cell_type": "markdown",
   "id": "8fa98ab9-3168-47f3-84e5-37da31612321",
   "metadata": {},
   "source": [
    "#### 2.movielensのデータを加工し、保存する"
   ]
  },
  {
   "cell_type": "code",
   "execution_count": 5,
   "id": "a68b135e-58d3-4767-9b8b-9313a27940bd",
   "metadata": {},
   "outputs": [],
   "source": [
    "movies_path = './ml-20m/movies.csv'\n",
    "ratings_path = './ml-20m/ratings.csv'\n",
    "links_path = './ml-20m/links.csv'\n",
    "tags_path = './ml-20m/tags.csv'\n",
    "genome_scores_path = './ml-20m/genome-scores.csv'\n",
    "genome_tags_path = './ml-20m/genome-tags.csv'"
   ]
  },
  {
   "cell_type": "code",
   "execution_count": 6,
   "id": "538ac095-66eb-4b15-a1f9-f9435fa0d3d0",
   "metadata": {},
   "outputs": [],
   "source": [
    "movies_df = pd.read_csv(movies_path)\n",
    "ratings_df = pd.read_csv(ratings_path)\n",
    "links_df = pd.read_csv(links_path)\n",
    "tags_df = pd.read_csv(tags_path)\n",
    "genome_scores_df = pd.read_csv(genome_scores_path)\n",
    "genome_tags_df = pd.read_csv(genome_tags_path)"
   ]
  },
  {
   "cell_type": "code",
   "execution_count": 7,
   "id": "59a5e352-e160-4c0a-bb46-393c820123f8",
   "metadata": {},
   "outputs": [
    {
     "name": "stdout",
     "output_type": "stream",
     "text": [
      "Length of movies_df: 27278\n",
      "Length of ratings_df: 20000263\n",
      "Length of links_df: 27278\n",
      "Length of tags_df: 465564\n",
      "Length of genome_scores_df: 11709768\n",
      "Length of genome_tags_df: 1128\n"
     ]
    }
   ],
   "source": [
    "print(f\"Length of movies_df: {len(movies_df)}\")\n",
    "print(f\"Length of ratings_df: {len(ratings_df)}\")\n",
    "print(f\"Length of links_df: {len(links_df)}\")\n",
    "print(f\"Length of tags_df: {len(tags_df)}\")\n",
    "print(f\"Length of genome_scores_df: {len(genome_scores_df)}\")\n",
    "print(f\"Length of genome_tags_df: {len(genome_tags_df)}\")"
   ]
  },
  {
   "cell_type": "code",
   "execution_count": 8,
   "id": "739bd102-476f-4350-97cc-fb933172d68f",
   "metadata": {},
   "outputs": [
    {
     "data": {
      "text/html": [
       "<div>\n",
       "<style scoped>\n",
       "    .dataframe tbody tr th:only-of-type {\n",
       "        vertical-align: middle;\n",
       "    }\n",
       "\n",
       "    .dataframe tbody tr th {\n",
       "        vertical-align: top;\n",
       "    }\n",
       "\n",
       "    .dataframe thead th {\n",
       "        text-align: right;\n",
       "    }\n",
       "</style>\n",
       "<table border=\"1\" class=\"dataframe\">\n",
       "  <thead>\n",
       "    <tr style=\"text-align: right;\">\n",
       "      <th></th>\n",
       "      <th>movieId</th>\n",
       "      <th>title</th>\n",
       "      <th>genres</th>\n",
       "    </tr>\n",
       "  </thead>\n",
       "  <tbody>\n",
       "    <tr>\n",
       "      <th>0</th>\n",
       "      <td>1</td>\n",
       "      <td>Toy Story (1995)</td>\n",
       "      <td>Adventure|Animation|Children|Comedy|Fantasy</td>\n",
       "    </tr>\n",
       "  </tbody>\n",
       "</table>\n",
       "</div>"
      ],
      "text/plain": [
       "   movieId             title                                       genres\n",
       "0        1  Toy Story (1995)  Adventure|Animation|Children|Comedy|Fantasy"
      ]
     },
     "execution_count": 8,
     "metadata": {},
     "output_type": "execute_result"
    }
   ],
   "source": [
    "movies_df.head(1)"
   ]
  },
  {
   "cell_type": "markdown",
   "id": "83d6fafa-d1fe-4b9c-afb9-3ce48d338c7a",
   "metadata": {},
   "source": [
    "movies_df(映画情報)\n",
    "- 映画ID\n",
    "- タイトル\n",
    "- ジャンル"
   ]
  },
  {
   "cell_type": "code",
   "execution_count": 9,
   "id": "028e243f-f62a-4123-b4c8-7515d326f9ef",
   "metadata": {},
   "outputs": [
    {
     "data": {
      "text/html": [
       "<div>\n",
       "<style scoped>\n",
       "    .dataframe tbody tr th:only-of-type {\n",
       "        vertical-align: middle;\n",
       "    }\n",
       "\n",
       "    .dataframe tbody tr th {\n",
       "        vertical-align: top;\n",
       "    }\n",
       "\n",
       "    .dataframe thead th {\n",
       "        text-align: right;\n",
       "    }\n",
       "</style>\n",
       "<table border=\"1\" class=\"dataframe\">\n",
       "  <thead>\n",
       "    <tr style=\"text-align: right;\">\n",
       "      <th></th>\n",
       "      <th>userId</th>\n",
       "      <th>movieId</th>\n",
       "      <th>rating</th>\n",
       "      <th>timestamp</th>\n",
       "    </tr>\n",
       "  </thead>\n",
       "  <tbody>\n",
       "    <tr>\n",
       "      <th>0</th>\n",
       "      <td>1</td>\n",
       "      <td>2</td>\n",
       "      <td>3.5</td>\n",
       "      <td>1112486027</td>\n",
       "    </tr>\n",
       "  </tbody>\n",
       "</table>\n",
       "</div>"
      ],
      "text/plain": [
       "   userId  movieId  rating   timestamp\n",
       "0       1        2     3.5  1112486027"
      ]
     },
     "execution_count": 9,
     "metadata": {},
     "output_type": "execute_result"
    }
   ],
   "source": [
    "ratings_df.head(1)"
   ]
  },
  {
   "cell_type": "markdown",
   "id": "f36c8d89-f352-4f4c-a21f-177df660a4a9",
   "metadata": {},
   "source": [
    "ratings_df(ユーザーごとの映画評価値)\n",
    "- ユーザーID\n",
    "- 映画ID\n",
    "- 評価値\n",
    "- タイムスタンプ"
   ]
  },
  {
   "cell_type": "code",
   "execution_count": 10,
   "id": "7fdf33a6-1fe8-465e-930d-5792bcaab93e",
   "metadata": {},
   "outputs": [
    {
     "data": {
      "text/html": [
       "<div>\n",
       "<style scoped>\n",
       "    .dataframe tbody tr th:only-of-type {\n",
       "        vertical-align: middle;\n",
       "    }\n",
       "\n",
       "    .dataframe tbody tr th {\n",
       "        vertical-align: top;\n",
       "    }\n",
       "\n",
       "    .dataframe thead th {\n",
       "        text-align: right;\n",
       "    }\n",
       "</style>\n",
       "<table border=\"1\" class=\"dataframe\">\n",
       "  <thead>\n",
       "    <tr style=\"text-align: right;\">\n",
       "      <th></th>\n",
       "      <th>movieId</th>\n",
       "      <th>imdbId</th>\n",
       "      <th>tmdbId</th>\n",
       "    </tr>\n",
       "  </thead>\n",
       "  <tbody>\n",
       "    <tr>\n",
       "      <th>0</th>\n",
       "      <td>1</td>\n",
       "      <td>114709</td>\n",
       "      <td>862.0</td>\n",
       "    </tr>\n",
       "  </tbody>\n",
       "</table>\n",
       "</div>"
      ],
      "text/plain": [
       "   movieId  imdbId  tmdbId\n",
       "0        1  114709   862.0"
      ]
     },
     "execution_count": 10,
     "metadata": {},
     "output_type": "execute_result"
    }
   ],
   "source": [
    "links_df.head(1)"
   ]
  },
  {
   "cell_type": "markdown",
   "id": "da2a3801-cabb-41d8-b0c6-4e128a519c4c",
   "metadata": {},
   "source": [
    "links_df(各プラットフォーム毎のID)\n",
    "- 映画ID\n",
    "- IMDB映画ID\n",
    "- TMDB映画ID"
   ]
  },
  {
   "cell_type": "code",
   "execution_count": 11,
   "id": "b610f094-02c9-4b99-8e51-49e37799e74c",
   "metadata": {},
   "outputs": [
    {
     "data": {
      "text/html": [
       "<div>\n",
       "<style scoped>\n",
       "    .dataframe tbody tr th:only-of-type {\n",
       "        vertical-align: middle;\n",
       "    }\n",
       "\n",
       "    .dataframe tbody tr th {\n",
       "        vertical-align: top;\n",
       "    }\n",
       "\n",
       "    .dataframe thead th {\n",
       "        text-align: right;\n",
       "    }\n",
       "</style>\n",
       "<table border=\"1\" class=\"dataframe\">\n",
       "  <thead>\n",
       "    <tr style=\"text-align: right;\">\n",
       "      <th></th>\n",
       "      <th>userId</th>\n",
       "      <th>movieId</th>\n",
       "      <th>tag</th>\n",
       "      <th>timestamp</th>\n",
       "    </tr>\n",
       "  </thead>\n",
       "  <tbody>\n",
       "    <tr>\n",
       "      <th>0</th>\n",
       "      <td>18</td>\n",
       "      <td>4141</td>\n",
       "      <td>Mark Waters</td>\n",
       "      <td>1240597180</td>\n",
       "    </tr>\n",
       "  </tbody>\n",
       "</table>\n",
       "</div>"
      ],
      "text/plain": [
       "   userId  movieId          tag   timestamp\n",
       "0      18     4141  Mark Waters  1240597180"
      ]
     },
     "execution_count": 11,
     "metadata": {},
     "output_type": "execute_result"
    }
   ],
   "source": [
    "tags_df.head(1)"
   ]
  },
  {
   "cell_type": "markdown",
   "id": "01c974d0-5b00-40b3-8b19-df8201a228c6",
   "metadata": {},
   "source": [
    "tags_df(ユーザー入力のタグ)\n",
    "- ユーザーID\n",
    "- 映画ID\n",
    "- タグ\n",
    "- タイムスタンプ"
   ]
  },
  {
   "cell_type": "code",
   "execution_count": 12,
   "id": "8965d069-6a03-4e34-81f9-94a26f394d3d",
   "metadata": {},
   "outputs": [
    {
     "data": {
      "text/html": [
       "<div>\n",
       "<style scoped>\n",
       "    .dataframe tbody tr th:only-of-type {\n",
       "        vertical-align: middle;\n",
       "    }\n",
       "\n",
       "    .dataframe tbody tr th {\n",
       "        vertical-align: top;\n",
       "    }\n",
       "\n",
       "    .dataframe thead th {\n",
       "        text-align: right;\n",
       "    }\n",
       "</style>\n",
       "<table border=\"1\" class=\"dataframe\">\n",
       "  <thead>\n",
       "    <tr style=\"text-align: right;\">\n",
       "      <th></th>\n",
       "      <th>movieId</th>\n",
       "      <th>tagId</th>\n",
       "      <th>relevance</th>\n",
       "    </tr>\n",
       "  </thead>\n",
       "  <tbody>\n",
       "    <tr>\n",
       "      <th>0</th>\n",
       "      <td>1</td>\n",
       "      <td>1</td>\n",
       "      <td>0.025</td>\n",
       "    </tr>\n",
       "  </tbody>\n",
       "</table>\n",
       "</div>"
      ],
      "text/plain": [
       "   movieId  tagId  relevance\n",
       "0        1      1      0.025"
      ]
     },
     "execution_count": 12,
     "metadata": {},
     "output_type": "execute_result"
    }
   ],
   "source": [
    "genome_scores_df.head(1)"
   ]
  },
  {
   "cell_type": "markdown",
   "id": "6c686ec3-27c8-47c7-a24b-f530e32e98c7",
   "metadata": {},
   "source": [
    "genome_scores_df(映画とタグの関連度)\n",
    "- 映画ID\n",
    "- タグID\n",
    "- 関連度"
   ]
  },
  {
   "cell_type": "code",
   "execution_count": 13,
   "id": "99d398c4-e997-4053-8560-e1452e57a9c4",
   "metadata": {},
   "outputs": [
    {
     "data": {
      "text/html": [
       "<div>\n",
       "<style scoped>\n",
       "    .dataframe tbody tr th:only-of-type {\n",
       "        vertical-align: middle;\n",
       "    }\n",
       "\n",
       "    .dataframe tbody tr th {\n",
       "        vertical-align: top;\n",
       "    }\n",
       "\n",
       "    .dataframe thead th {\n",
       "        text-align: right;\n",
       "    }\n",
       "</style>\n",
       "<table border=\"1\" class=\"dataframe\">\n",
       "  <thead>\n",
       "    <tr style=\"text-align: right;\">\n",
       "      <th></th>\n",
       "      <th>tagId</th>\n",
       "      <th>tag</th>\n",
       "    </tr>\n",
       "  </thead>\n",
       "  <tbody>\n",
       "    <tr>\n",
       "      <th>0</th>\n",
       "      <td>1</td>\n",
       "      <td>007</td>\n",
       "    </tr>\n",
       "  </tbody>\n",
       "</table>\n",
       "</div>"
      ],
      "text/plain": [
       "   tagId  tag\n",
       "0      1  007"
      ]
     },
     "execution_count": 13,
     "metadata": {},
     "output_type": "execute_result"
    }
   ],
   "source": [
    "genome_tags_df.head(1)"
   ]
  },
  {
   "cell_type": "markdown",
   "id": "cec92ea8-077c-46bf-8be6-85e8c68b6af9",
   "metadata": {},
   "source": [
    "genome_tags_df(タグIDとタグ)\n",
    "- タグID\n",
    "- タグ"
   ]
  },
  {
   "cell_type": "markdown",
   "id": "2385b1cb-9018-455e-921a-54ce46b5ff3e",
   "metadata": {},
   "source": [
    "1. ratings_dfのmovieIdをlinks_dfのtmdbIdに変更する\n",
    "2. 重複と欠損値の行を削除する\n",
    "3. それ以外は使用しない"
   ]
  },
  {
   "cell_type": "code",
   "execution_count": 14,
   "id": "f6eff24f-41ac-4f31-9b7c-9ef056b00b1f",
   "metadata": {},
   "outputs": [],
   "source": [
    "ratings_df = ratings_df.merge(links_df, on='movieId')"
   ]
  },
  {
   "cell_type": "code",
   "execution_count": 15,
   "id": "0992a731-68d6-46b2-9789-97af3c1aade6",
   "metadata": {},
   "outputs": [],
   "source": [
    "ratings_df = ratings_df[['userId', 'tmdbId', 'rating', 'timestamp']]"
   ]
  },
  {
   "cell_type": "code",
   "execution_count": 16,
   "id": "dc8712bb-3681-4ea8-8083-d775a3380f3b",
   "metadata": {},
   "outputs": [
    {
     "name": "stdout",
     "output_type": "stream",
     "text": [
      "Column: userId\n",
      "最大値: 138493\n",
      "最小値: 1\n",
      "平均値: 69045.87258292554\n",
      "欠損値の数: 0\n",
      "---\n",
      "Column: tmdbId\n",
      "最大値: 420743.0\n",
      "最小値: 2.0\n",
      "平均値: 9379.592749253903\n",
      "欠損値の数: 12582\n",
      "---\n",
      "Column: rating\n",
      "最大値: 5.0\n",
      "最小値: 0.5\n",
      "平均値: 3.5255285642993797\n",
      "欠損値の数: 0\n",
      "---\n",
      "Column: timestamp\n",
      "最大値: 1427784002\n",
      "最小値: 789652004\n",
      "平均値: 1100917921.6771142\n",
      "欠損値の数: 0\n",
      "---\n"
     ]
    }
   ],
   "source": [
    "# 各列の統計値を個別に計算して表示\n",
    "for column in ratings_df.columns:\n",
    "    print(f\"Column: {column}\")\n",
    "    print(f\"最大値: {ratings_df[column].max()}\")\n",
    "    print(f\"最小値: {ratings_df[column].min()}\")\n",
    "    print(f\"平均値: {ratings_df[column].mean()}\" if pd.api.types.is_numeric_dtype(ratings_df[column]) else \"平均値: N/A\")\n",
    "    print(f\"欠損値の数: {ratings_df[column].isnull().sum()}\")\n",
    "    print('---')"
   ]
  },
  {
   "cell_type": "code",
   "execution_count": 17,
   "id": "7550deb2-3679-4942-8c0d-ac5bdab82a86",
   "metadata": {},
   "outputs": [],
   "source": [
    "ratings_df['tmdbId'] = pd.to_numeric(ratings_df['tmdbId'], errors='coerce')\n",
    "ratings_df.dropna(subset=['tmdbId'], inplace=True)\n",
    "ratings_df['tmdbId'] = ratings_df['tmdbId'].astype(int)"
   ]
  },
  {
   "cell_type": "code",
   "execution_count": 18,
   "id": "1670aeef-9fd6-4316-b19b-f79f626eaf10",
   "metadata": {},
   "outputs": [
    {
     "data": {
      "text/html": [
       "<div>\n",
       "<style scoped>\n",
       "    .dataframe tbody tr th:only-of-type {\n",
       "        vertical-align: middle;\n",
       "    }\n",
       "\n",
       "    .dataframe tbody tr th {\n",
       "        vertical-align: top;\n",
       "    }\n",
       "\n",
       "    .dataframe thead th {\n",
       "        text-align: right;\n",
       "    }\n",
       "</style>\n",
       "<table border=\"1\" class=\"dataframe\">\n",
       "  <thead>\n",
       "    <tr style=\"text-align: right;\">\n",
       "      <th></th>\n",
       "      <th>userId</th>\n",
       "      <th>tmdbId</th>\n",
       "      <th>rating</th>\n",
       "      <th>timestamp</th>\n",
       "    </tr>\n",
       "  </thead>\n",
       "  <tbody>\n",
       "    <tr>\n",
       "      <th>0</th>\n",
       "      <td>1</td>\n",
       "      <td>8844</td>\n",
       "      <td>3.5</td>\n",
       "      <td>1112486027</td>\n",
       "    </tr>\n",
       "  </tbody>\n",
       "</table>\n",
       "</div>"
      ],
      "text/plain": [
       "   userId  tmdbId  rating   timestamp\n",
       "0       1    8844     3.5  1112486027"
      ]
     },
     "execution_count": 18,
     "metadata": {},
     "output_type": "execute_result"
    }
   ],
   "source": [
    "ratings_df.head(1)"
   ]
  },
  {
   "cell_type": "code",
   "execution_count": 19,
   "id": "0ccd0432-e412-4a9f-8821-ea8fffcc2bb7",
   "metadata": {},
   "outputs": [],
   "source": [
    "ratings_df.to_csv('./data/ratings_df.csv', index=False)"
   ]
  },
  {
   "cell_type": "markdown",
   "id": "31e34544-cfb2-4da7-ad65-567085092e70",
   "metadata": {},
   "source": [
    "#### 3.TMDBのデータを取得する"
   ]
  },
  {
   "cell_type": "markdown",
   "id": "36380964-50f1-4fb6-a787-1ab6fd2c9823",
   "metadata": {},
   "source": [
    "- tmdbIdのユニークな値からデータフレームを作成\n",
    "- かなり時間がかかるので注意（データ数を減らしたり、取得する項目を減らして調整してください）"
   ]
  },
  {
   "cell_type": "code",
   "execution_count": 20,
   "id": "31644beb-093c-43ef-9a76-7aa2c5ebc29c",
   "metadata": {},
   "outputs": [
    {
     "name": "stdout",
     "output_type": "stream",
     "text": [
      "Length of movies_df: 26483\n"
     ]
    }
   ],
   "source": [
    "unique_tmdbIds = ratings_df['tmdbId'].unique()\n",
    "unique_tmdbIds.sort()\n",
    "movies_df = pd.DataFrame(unique_tmdbIds, columns=['tmdbId'])\n",
    "print(f\"Length of movies_df: {len(movies_df)}\")"
   ]
  },
  {
   "cell_type": "code",
   "execution_count": 21,
   "id": "9b99fcaa-8e8f-4585-9ed2-ebcdc0a18cb3",
   "metadata": {},
   "outputs": [
    {
     "name": "stdout",
     "output_type": "stream",
     "text": [
      "<class 'pandas.core.frame.DataFrame'>\n",
      "RangeIndex: 26483 entries, 0 to 26482\n",
      "Data columns (total 28 columns):\n",
      " #   Column                               Non-Null Count  Dtype         \n",
      "---  ------                               --------------  -----         \n",
      " 0   tmdbId                               26483 non-null  int32         \n",
      " 1   is_adult                             0 non-null      boolean       \n",
      " 2   budget                               26483 non-null  Int64         \n",
      " 3   genre_names                          0 non-null      string        \n",
      " 4   genre_ids                            0 non-null      string        \n",
      " 5   original_language                    0 non-null      string        \n",
      " 6   original_title                       0 non-null      string        \n",
      " 7   overview                             0 non-null      string        \n",
      " 8   popularity                           26483 non-null  float64       \n",
      " 9   production_companies_names           0 non-null      string        \n",
      " 10  production_companies_ids             0 non-null      string        \n",
      " 11  production_companies_origin_country  0 non-null      string        \n",
      " 12  production_countries_names           0 non-null      string        \n",
      " 13  release_date                         0 non-null      datetime64[ns]\n",
      " 14  revenue                              26483 non-null  Int64         \n",
      " 15  runtime                              26483 non-null  Int64         \n",
      " 16  spoken_languages_english_name        0 non-null      string        \n",
      " 17  status                               0 non-null      string        \n",
      " 18  tagline                              0 non-null      string        \n",
      " 19  title                                0 non-null      string        \n",
      " 20  video                                0 non-null      boolean       \n",
      " 21  vote_average                         26483 non-null  float64       \n",
      " 22  vote_count                           26483 non-null  Int64         \n",
      " 23  backdrop_path                        0 non-null      string        \n",
      " 24  poster_path                          0 non-null      string        \n",
      " 25  overview_jp                          0 non-null      string        \n",
      " 26  tagline_jp                           0 non-null      string        \n",
      " 27  title_jp                             0 non-null      string        \n",
      "dtypes: Int64(4), boolean(2), datetime64[ns](1), float64(2), int32(1), string(18)\n",
      "memory usage: 5.4 MB\n",
      "None\n"
     ]
    }
   ],
   "source": [
    "column_types = {\n",
    "    'is_adult': ('boolean', np.nan),\n",
    "    'budget': ('Int64', 0),\n",
    "    'genre_names': ('string', np.nan),\n",
    "    'genre_ids': ('string', np.nan),\n",
    "    'original_language': ('string', np.nan),\n",
    "    'original_title': ('string', np.nan),\n",
    "    'overview': ('string', np.nan),\n",
    "    'popularity': ('float64', 0),\n",
    "    'production_companies_names': ('string', np.nan),\n",
    "    'production_companies_ids': ('string', np.nan),\n",
    "    'production_companies_origin_country': ('string', np.nan),\n",
    "    'production_countries_names': ('string', np.nan),\n",
    "    'release_date': ('datetime64[ns]', pd.NaT),\n",
    "    'revenue': ('Int64', 0),\n",
    "    'runtime': ('Int64', 0),\n",
    "    'spoken_languages_english_name': ('string', np.nan),\n",
    "    'status': ('string', np.nan),\n",
    "    'tagline': ('string', np.nan),\n",
    "    'title': ('string', np.nan),\n",
    "    'video': ('boolean', np.nan),\n",
    "    'vote_average': ('float64', 0),\n",
    "    'vote_count': ('Int64', 0),\n",
    "    'backdrop_path': ('string', np.nan),\n",
    "    'poster_path': ('string', np.nan),\n",
    "    'overview_jp': ('string', np.nan),\n",
    "    'tagline_jp': ('string', np.nan),\n",
    "    'title_jp': ('string', np.nan)\n",
    "}\n",
    "\n",
    "for column, (dtype, initial_value) in column_types.items():\n",
    "    movies_df[column] = initial_value\n",
    "    if dtype == 'datetime':\n",
    "        movies_df[column] = pd.to_datetime(movies_df[column])\n",
    "    else:\n",
    "        movies_df[column] = movies_df[column].astype(dtype)\n",
    "\n",
    "print(movies_df.info())"
   ]
  },
  {
   "cell_type": "code",
   "execution_count": 22,
   "id": "53799a97-be66-454e-9a07-a57fb5f48597",
   "metadata": {},
   "outputs": [],
   "source": [
    "processed_ids = set()"
   ]
  },
  {
   "cell_type": "code",
   "execution_count": 26,
   "id": "27fe36f6-b881-4893-adeb-507b823597c2",
   "metadata": {},
   "outputs": [
    {
     "name": "stderr",
     "output_type": "stream",
     "text": [
      "100%|████████████████████████████████████████████████████████████████████████████| 26483/26483 [09:57<00:00, 44.29it/s]\n"
     ]
    }
   ],
   "source": [
    "for movie_id in tqdm(movies_df['tmdbId'].tolist()):\n",
    "    if movie_id in processed_ids:\n",
    "        continue\n",
    "\n",
    "    try:\n",
    "        url = f'https://api.themoviedb.org/3/movie/{movie_id}?api_key={tmdb_key}'\n",
    "        response = requests.get(url)\n",
    "        data = json.loads(response.text)\n",
    "        \n",
    "        is_adult = data.get('adult')\n",
    "        movies_df.loc[movies_df['tmdbId'] == movie_id, 'is_adult'] = is_adult\n",
    "        \n",
    "        budget = data.get('budget')\n",
    "        movies_df.loc[movies_df['tmdbId'] == movie_id, 'budget'] = budget\n",
    "        \n",
    "        genres = data.get('genres')\n",
    "        if isinstance(genres, list):\n",
    "          genre_names = [genre['name'] for genre in genres]\n",
    "          genre_ids = [genre['id'] for genre in genres]\n",
    "        else:\n",
    "          genre_names = []\n",
    "          genre_ids = []\n",
    "        movies_df.loc[movies_df['tmdbId'] == movie_id, 'genre_names'] = [','.join(genre_names)]\n",
    "        movies_df.loc[movies_df['tmdbId'] == movie_id, 'genre_ids'] = [','.join(str(genre_ids))]\n",
    "        \n",
    "        original_language = data.get('original_language')\n",
    "        movies_df.loc[movies_df['tmdbId'] == movie_id, 'original_language'] = original_language\n",
    "        \n",
    "        original_title = data.get('original_title')\n",
    "        movies_df.loc[movies_df['tmdbId'] == movie_id, 'original_title'] = original_title\n",
    "        \n",
    "        overview = data.get('overview')\n",
    "        movies_df.loc[movies_df['tmdbId'] == movie_id, 'overview'] = overview\n",
    "        \n",
    "        popularity = data.get('popularity')\n",
    "        movies_df.loc[movies_df['tmdbId'] == movie_id, 'popularity'] = popularity\n",
    "        \n",
    "        production_companies = data.get('production_companies')\n",
    "        if isinstance(production_companies, list):\n",
    "          production_companies_names = [pc['name'] for pc in production_companies]\n",
    "          production_companies_ids = [pc['id'] for pc in production_companies]\n",
    "          production_companies_origin_country = [pc['origin_country'] for pc in production_companies]\n",
    "        else:\n",
    "          production_companies_names = []\n",
    "          production_companies_ids = []\n",
    "          production_companies_origin_country = []\n",
    "        movies_df.loc[movies_df['tmdbId'] == movie_id, 'production_companies_names'] = [','.join(production_companies_names)]\n",
    "        movies_df.loc[movies_df['tmdbId'] == movie_id, 'production_companies_ids'] = [','.join(str(production_companies_ids))]\n",
    "        movies_df.loc[movies_df['tmdbId'] == movie_id, 'production_companies_origin_country'] = [','.join(production_companies_origin_country)]\n",
    "        \n",
    "        production_countries = data.get('production_countries')\n",
    "        if isinstance(genres, list):\n",
    "          production_countries_names = [pc['name'] for pc in production_countries]\n",
    "          # production_countries_isos = [pc['iso_3166_1'] for pc in production_countries]\n",
    "        else:\n",
    "          genre_names = []\n",
    "          # genre_ids = []\n",
    "        movies_df.loc[movies_df['tmdbId'] == movie_id, 'production_countries_names'] = [','.join(production_countries_names)]\n",
    "        # movies_df.loc[movies_df['tmdbId'] == movie_id, 'production_countries_isos'] = [','.join(str(production_countries_isos))]\n",
    "        \n",
    "        release_date = data.get('release_date')\n",
    "        movies_df.loc[movies_df['tmdbId'] == movie_id, 'release_date'] = release_date\n",
    "        \n",
    "        revenue = data.get('revenue')\n",
    "        movies_df.loc[movies_df['tmdbId'] == movie_id, 'revenue'] = revenue\n",
    "        \n",
    "        runtime = data.get('runtime')\n",
    "        movies_df.loc[movies_df['tmdbId'] == movie_id, 'runtime'] = runtime\n",
    "        \n",
    "        spoken_languages = data.get('spoken_languages')\n",
    "        if isinstance(genres, list):\n",
    "          # spoken_languages_names = [sl['name'] for sl in spoken_languages]\n",
    "          spoken_languages_english_name = [sl['english_name'] for sl in spoken_languages]\n",
    "        else:\n",
    "          # spoken_languages_names = []\n",
    "          spoken_languages_english_name = []\n",
    "        # movies_df.loc[movies_df['tmdbId'] == movie_id, 'spoken_languages_names'] = [','.join(spoken_languages_names)]\n",
    "        movies_df.loc[movies_df['tmdbId'] == movie_id, 'spoken_languages_english_name'] = [','.join(spoken_languages_english_name)]\n",
    "        \n",
    "        status = data.get('status')\n",
    "        movies_df.loc[movies_df['tmdbId'] == movie_id, 'status'] = status\n",
    "        \n",
    "        tagline = data.get('tagline')\n",
    "        movies_df.loc[movies_df['tmdbId'] == movie_id, 'tagline'] = tagline\n",
    "        \n",
    "        title = data.get('title')\n",
    "        movies_df.loc[movies_df['tmdbId'] == movie_id, 'title'] = title\n",
    "        \n",
    "        video = data.get('video')\n",
    "        movies_df.loc[movies_df['tmdbId'] == movie_id, 'video'] = video\n",
    "        \n",
    "        vote_average = data.get('vote_average')\n",
    "        movies_df.loc[movies_df['tmdbId'] == movie_id, 'vote_average'] = vote_average\n",
    "        \n",
    "        vote_count = data.get('vote_count')\n",
    "        movies_df.loc[movies_df['tmdbId'] == movie_id, 'vote_count'] = vote_count\n",
    "        \n",
    "        poster_path = None\n",
    "        backdrop_path = None\n",
    "        poster_path = data.get('poster_path')\n",
    "        backdrop_path = data.get('poster_path')\n",
    "        if poster_path is not None and backdrop_path is not None:\n",
    "          movie_backdrop_path = \"https://image.tmdb.org/t/p/w500\" + backdrop_path\n",
    "          movie_poster_path = \"https://image.tmdb.org/t/p/w500\" + poster_path\n",
    "        \n",
    "          movies_df.loc[movies_df['tmdbId'] == movie_id, 'backdrop_path'] = movie_backdrop_path\n",
    "          movies_df.loc[movies_df['tmdbId'] == movie_id, 'poster_path'] = movie_poster_path\n",
    "        \n",
    "        url = f'https://api.themoviedb.org/3/movie/{movie_id}?api_key={tmdb_key}&language=ja'\n",
    "        response = requests.get(url)\n",
    "        data = json.loads(response.text)\n",
    "        \n",
    "        overview = data.get('overview')\n",
    "        movies_df.loc[movies_df['tmdbId'] == movie_id, 'overview_jp'] = overview\n",
    "        \n",
    "        tagline = data.get('tagline')\n",
    "        movies_df.loc[movies_df['tmdbId'] == movie_id, 'tagline_jp'] = tagline\n",
    "        \n",
    "        title = data.get('title')\n",
    "        movies_df.loc[movies_df['tmdbId'] == movie_id, 'title_jp'] = title\n",
    "\n",
    "        processed_ids.add(movie_id)\n",
    "    except Exception as e:\n",
    "        print(f\"エラー発生: {e} - movie_id: {movie_id}\")"
   ]
  },
  {
   "cell_type": "code",
   "execution_count": 27,
   "id": "ee21106c-dd2e-449e-b1a5-7a277cb825ad",
   "metadata": {},
   "outputs": [
    {
     "data": {
      "text/html": [
       "<div>\n",
       "<style scoped>\n",
       "    .dataframe tbody tr th:only-of-type {\n",
       "        vertical-align: middle;\n",
       "    }\n",
       "\n",
       "    .dataframe tbody tr th {\n",
       "        vertical-align: top;\n",
       "    }\n",
       "\n",
       "    .dataframe thead th {\n",
       "        text-align: right;\n",
       "    }\n",
       "</style>\n",
       "<table border=\"1\" class=\"dataframe\">\n",
       "  <thead>\n",
       "    <tr style=\"text-align: right;\">\n",
       "      <th></th>\n",
       "      <th>tmdbId</th>\n",
       "      <th>is_adult</th>\n",
       "      <th>budget</th>\n",
       "      <th>genre_names</th>\n",
       "      <th>genre_ids</th>\n",
       "      <th>original_language</th>\n",
       "      <th>original_title</th>\n",
       "      <th>overview</th>\n",
       "      <th>popularity</th>\n",
       "      <th>production_companies_names</th>\n",
       "      <th>production_companies_ids</th>\n",
       "      <th>production_companies_origin_country</th>\n",
       "      <th>production_countries_names</th>\n",
       "      <th>release_date</th>\n",
       "      <th>revenue</th>\n",
       "      <th>runtime</th>\n",
       "      <th>spoken_languages_english_name</th>\n",
       "      <th>status</th>\n",
       "      <th>tagline</th>\n",
       "      <th>title</th>\n",
       "      <th>video</th>\n",
       "      <th>vote_average</th>\n",
       "      <th>vote_count</th>\n",
       "      <th>backdrop_path</th>\n",
       "      <th>poster_path</th>\n",
       "      <th>overview_jp</th>\n",
       "      <th>tagline_jp</th>\n",
       "      <th>title_jp</th>\n",
       "    </tr>\n",
       "  </thead>\n",
       "  <tbody>\n",
       "    <tr>\n",
       "      <th>0</th>\n",
       "      <td>2</td>\n",
       "      <td>False</td>\n",
       "      <td>0</td>\n",
       "      <td>Drama,Comedy,Romance,Crime</td>\n",
       "      <td>[,1,8,,, ,3,5,,, ,1,0,7,4,9,,, ,8,0,]</td>\n",
       "      <td>fi</td>\n",
       "      <td>Ariel</td>\n",
       "      <td>After the coal mine he works at closes and his...</td>\n",
       "      <td>16.786</td>\n",
       "      <td>Villealfa Filmproductions</td>\n",
       "      <td>[,2,3,0,3,]</td>\n",
       "      <td>FI</td>\n",
       "      <td>Finland</td>\n",
       "      <td>1988-10-21</td>\n",
       "      <td>0</td>\n",
       "      <td>73</td>\n",
       "      <td>Finnish</td>\n",
       "      <td>Released</td>\n",
       "      <td></td>\n",
       "      <td>Ariel</td>\n",
       "      <td>False</td>\n",
       "      <td>7.1</td>\n",
       "      <td>275</td>\n",
       "      <td>https://image.tmdb.org/t/p/w500/ojDg0PGvs6R9xY...</td>\n",
       "      <td>https://image.tmdb.org/t/p/w500/ojDg0PGvs6R9xY...</td>\n",
       "      <td></td>\n",
       "      <td></td>\n",
       "      <td>真夜中の虹</td>\n",
       "    </tr>\n",
       "  </tbody>\n",
       "</table>\n",
       "</div>"
      ],
      "text/plain": [
       "   tmdbId  is_adult  budget                 genre_names  \\\n",
       "0       2     False       0  Drama,Comedy,Romance,Crime   \n",
       "\n",
       "                               genre_ids original_language original_title  \\\n",
       "0  [,1,8,,, ,3,5,,, ,1,0,7,4,9,,, ,8,0,]                fi          Ariel   \n",
       "\n",
       "                                            overview  popularity  \\\n",
       "0  After the coal mine he works at closes and his...      16.786   \n",
       "\n",
       "  production_companies_names production_companies_ids  \\\n",
       "0  Villealfa Filmproductions              [,2,3,0,3,]   \n",
       "\n",
       "  production_companies_origin_country production_countries_names release_date  \\\n",
       "0                                  FI                    Finland   1988-10-21   \n",
       "\n",
       "   revenue  runtime spoken_languages_english_name    status tagline  title  \\\n",
       "0        0       73                       Finnish  Released          Ariel   \n",
       "\n",
       "   video  vote_average  vote_count  \\\n",
       "0  False           7.1         275   \n",
       "\n",
       "                                       backdrop_path  \\\n",
       "0  https://image.tmdb.org/t/p/w500/ojDg0PGvs6R9xY...   \n",
       "\n",
       "                                         poster_path overview_jp tagline_jp  \\\n",
       "0  https://image.tmdb.org/t/p/w500/ojDg0PGvs6R9xY...                          \n",
       "\n",
       "  title_jp  \n",
       "0    真夜中の虹  "
      ]
     },
     "execution_count": 27,
     "metadata": {},
     "output_type": "execute_result"
    }
   ],
   "source": [
    "movies_df.head(1)"
   ]
  },
  {
   "cell_type": "code",
   "execution_count": 28,
   "id": "97b7447e-2d43-4bcf-8012-d80120311390",
   "metadata": {},
   "outputs": [],
   "source": [
    "movies_df = movies_df.replace('', np.nan)"
   ]
  },
  {
   "cell_type": "code",
   "execution_count": 29,
   "id": "d58b709b-7ca1-487f-b832-f040a8980d0f",
   "metadata": {},
   "outputs": [
    {
     "name": "stdout",
     "output_type": "stream",
     "text": [
      "tmdbId                                     0\n",
      "is_adult                                 273\n",
      "budget                                   273\n",
      "genre_names                              436\n",
      "genre_ids                                  0\n",
      "original_language                        273\n",
      "original_title                           273\n",
      "overview                                 357\n",
      "popularity                               273\n",
      "production_companies_names              2556\n",
      "production_companies_ids                   0\n",
      "production_companies_origin_country     4848\n",
      "production_countries_names               996\n",
      "release_date                             275\n",
      "revenue                                  273\n",
      "runtime                                  273\n",
      "spoken_languages_english_name            791\n",
      "status                                   273\n",
      "tagline                                 9268\n",
      "title                                    273\n",
      "video                                    273\n",
      "vote_average                             273\n",
      "vote_count                               273\n",
      "backdrop_path                            582\n",
      "poster_path                              582\n",
      "overview_jp                            21512\n",
      "tagline_jp                             24911\n",
      "title_jp                                 273\n",
      "dtype: int64\n"
     ]
    }
   ],
   "source": [
    "missing_values = movies_df.isnull().sum()\n",
    "print(missing_values)"
   ]
  },
  {
   "cell_type": "markdown",
   "id": "7c796845-7e2c-421c-aeb3-bd506a63025d",
   "metadata": {},
   "source": [
    "#### 4. TMDBのデータを保存する"
   ]
  },
  {
   "cell_type": "markdown",
   "id": "cd9c4906-3191-43d3-9c9a-ae6171c99099",
   "metadata": {},
   "source": [
    "- ジャンルをワンホットエンコーディング"
   ]
  },
  {
   "cell_type": "code",
   "execution_count": 30,
   "id": "c2dbbc49-6c2b-4b24-b07b-04a643891d48",
   "metadata": {},
   "outputs": [],
   "source": [
    "genres = movies_df['genre_names'].str.get_dummies(',')\n",
    "genres = genres.add_prefix('genre_')\n",
    "movies_df = pd.concat([movies_df, genres], axis=1)"
   ]
  },
  {
   "cell_type": "code",
   "execution_count": 31,
   "id": "0d116fc4-cd8e-4210-ac91-99960179e8e6",
   "metadata": {},
   "outputs": [
    {
     "data": {
      "text/html": [
       "<div>\n",
       "<style scoped>\n",
       "    .dataframe tbody tr th:only-of-type {\n",
       "        vertical-align: middle;\n",
       "    }\n",
       "\n",
       "    .dataframe tbody tr th {\n",
       "        vertical-align: top;\n",
       "    }\n",
       "\n",
       "    .dataframe thead th {\n",
       "        text-align: right;\n",
       "    }\n",
       "</style>\n",
       "<table border=\"1\" class=\"dataframe\">\n",
       "  <thead>\n",
       "    <tr style=\"text-align: right;\">\n",
       "      <th></th>\n",
       "      <th>tmdbId</th>\n",
       "      <th>is_adult</th>\n",
       "      <th>budget</th>\n",
       "      <th>genre_names</th>\n",
       "      <th>genre_ids</th>\n",
       "      <th>original_language</th>\n",
       "      <th>original_title</th>\n",
       "      <th>overview</th>\n",
       "      <th>popularity</th>\n",
       "      <th>production_companies_names</th>\n",
       "      <th>production_companies_ids</th>\n",
       "      <th>production_companies_origin_country</th>\n",
       "      <th>production_countries_names</th>\n",
       "      <th>release_date</th>\n",
       "      <th>revenue</th>\n",
       "      <th>runtime</th>\n",
       "      <th>spoken_languages_english_name</th>\n",
       "      <th>status</th>\n",
       "      <th>tagline</th>\n",
       "      <th>title</th>\n",
       "      <th>video</th>\n",
       "      <th>vote_average</th>\n",
       "      <th>vote_count</th>\n",
       "      <th>backdrop_path</th>\n",
       "      <th>poster_path</th>\n",
       "      <th>overview_jp</th>\n",
       "      <th>tagline_jp</th>\n",
       "      <th>title_jp</th>\n",
       "      <th>genre_Action</th>\n",
       "      <th>genre_Adventure</th>\n",
       "      <th>genre_Animation</th>\n",
       "      <th>genre_Comedy</th>\n",
       "      <th>genre_Crime</th>\n",
       "      <th>genre_Documentary</th>\n",
       "      <th>genre_Drama</th>\n",
       "      <th>genre_Family</th>\n",
       "      <th>genre_Fantasy</th>\n",
       "      <th>genre_History</th>\n",
       "      <th>genre_Horror</th>\n",
       "      <th>genre_Music</th>\n",
       "      <th>genre_Mystery</th>\n",
       "      <th>genre_Romance</th>\n",
       "      <th>genre_Science Fiction</th>\n",
       "      <th>genre_TV Movie</th>\n",
       "      <th>genre_Thriller</th>\n",
       "      <th>genre_War</th>\n",
       "      <th>genre_Western</th>\n",
       "    </tr>\n",
       "  </thead>\n",
       "  <tbody>\n",
       "    <tr>\n",
       "      <th>0</th>\n",
       "      <td>2</td>\n",
       "      <td>False</td>\n",
       "      <td>0</td>\n",
       "      <td>Drama,Comedy,Romance,Crime</td>\n",
       "      <td>[,1,8,,, ,3,5,,, ,1,0,7,4,9,,, ,8,0,]</td>\n",
       "      <td>fi</td>\n",
       "      <td>Ariel</td>\n",
       "      <td>After the coal mine he works at closes and his...</td>\n",
       "      <td>16.786</td>\n",
       "      <td>Villealfa Filmproductions</td>\n",
       "      <td>[,2,3,0,3,]</td>\n",
       "      <td>FI</td>\n",
       "      <td>Finland</td>\n",
       "      <td>1988-10-21</td>\n",
       "      <td>0</td>\n",
       "      <td>73</td>\n",
       "      <td>Finnish</td>\n",
       "      <td>Released</td>\n",
       "      <td>&lt;NA&gt;</td>\n",
       "      <td>Ariel</td>\n",
       "      <td>False</td>\n",
       "      <td>7.1</td>\n",
       "      <td>275</td>\n",
       "      <td>https://image.tmdb.org/t/p/w500/ojDg0PGvs6R9xY...</td>\n",
       "      <td>https://image.tmdb.org/t/p/w500/ojDg0PGvs6R9xY...</td>\n",
       "      <td>&lt;NA&gt;</td>\n",
       "      <td>&lt;NA&gt;</td>\n",
       "      <td>真夜中の虹</td>\n",
       "      <td>0</td>\n",
       "      <td>0</td>\n",
       "      <td>0</td>\n",
       "      <td>1</td>\n",
       "      <td>1</td>\n",
       "      <td>0</td>\n",
       "      <td>1</td>\n",
       "      <td>0</td>\n",
       "      <td>0</td>\n",
       "      <td>0</td>\n",
       "      <td>0</td>\n",
       "      <td>0</td>\n",
       "      <td>0</td>\n",
       "      <td>1</td>\n",
       "      <td>0</td>\n",
       "      <td>0</td>\n",
       "      <td>0</td>\n",
       "      <td>0</td>\n",
       "      <td>0</td>\n",
       "    </tr>\n",
       "  </tbody>\n",
       "</table>\n",
       "</div>"
      ],
      "text/plain": [
       "   tmdbId  is_adult  budget                 genre_names  \\\n",
       "0       2     False       0  Drama,Comedy,Romance,Crime   \n",
       "\n",
       "                               genre_ids original_language original_title  \\\n",
       "0  [,1,8,,, ,3,5,,, ,1,0,7,4,9,,, ,8,0,]                fi          Ariel   \n",
       "\n",
       "                                            overview  popularity  \\\n",
       "0  After the coal mine he works at closes and his...      16.786   \n",
       "\n",
       "  production_companies_names production_companies_ids  \\\n",
       "0  Villealfa Filmproductions              [,2,3,0,3,]   \n",
       "\n",
       "  production_companies_origin_country production_countries_names release_date  \\\n",
       "0                                  FI                    Finland   1988-10-21   \n",
       "\n",
       "   revenue  runtime spoken_languages_english_name    status tagline  title  \\\n",
       "0        0       73                       Finnish  Released    <NA>  Ariel   \n",
       "\n",
       "   video  vote_average  vote_count  \\\n",
       "0  False           7.1         275   \n",
       "\n",
       "                                       backdrop_path  \\\n",
       "0  https://image.tmdb.org/t/p/w500/ojDg0PGvs6R9xY...   \n",
       "\n",
       "                                         poster_path overview_jp tagline_jp  \\\n",
       "0  https://image.tmdb.org/t/p/w500/ojDg0PGvs6R9xY...        <NA>       <NA>   \n",
       "\n",
       "  title_jp  genre_Action  genre_Adventure  genre_Animation  genre_Comedy  \\\n",
       "0    真夜中の虹             0                0                0             1   \n",
       "\n",
       "   genre_Crime  genre_Documentary  genre_Drama  genre_Family  genre_Fantasy  \\\n",
       "0            1                  0            1             0              0   \n",
       "\n",
       "   genre_History  genre_Horror  genre_Music  genre_Mystery  genre_Romance  \\\n",
       "0              0             0            0              0              1   \n",
       "\n",
       "   genre_Science Fiction  genre_TV Movie  genre_Thriller  genre_War  \\\n",
       "0                      0               0               0          0   \n",
       "\n",
       "   genre_Western  \n",
       "0              0  "
      ]
     },
     "execution_count": 31,
     "metadata": {},
     "output_type": "execute_result"
    }
   ],
   "source": [
    "movies_df.head(1)"
   ]
  },
  {
   "cell_type": "code",
   "execution_count": 32,
   "id": "7b351858-be8a-4aea-81b9-bd78be5df86c",
   "metadata": {
    "scrolled": true
   },
   "outputs": [
    {
     "name": "stdout",
     "output_type": "stream",
     "text": [
      "<class 'pandas.core.frame.DataFrame'>\n",
      "RangeIndex: 26483 entries, 0 to 26482\n",
      "Data columns (total 47 columns):\n",
      " #   Column                               Non-Null Count  Dtype         \n",
      "---  ------                               --------------  -----         \n",
      " 0   tmdbId                               26483 non-null  int32         \n",
      " 1   is_adult                             26210 non-null  boolean       \n",
      " 2   budget                               26210 non-null  Int64         \n",
      " 3   genre_names                          26047 non-null  string        \n",
      " 4   genre_ids                            26483 non-null  string        \n",
      " 5   original_language                    26210 non-null  string        \n",
      " 6   original_title                       26210 non-null  string        \n",
      " 7   overview                             26126 non-null  string        \n",
      " 8   popularity                           26210 non-null  float64       \n",
      " 9   production_companies_names           23927 non-null  string        \n",
      " 10  production_companies_ids             26483 non-null  string        \n",
      " 11  production_companies_origin_country  21635 non-null  string        \n",
      " 12  production_countries_names           25487 non-null  string        \n",
      " 13  release_date                         26208 non-null  datetime64[ns]\n",
      " 14  revenue                              26210 non-null  Int64         \n",
      " 15  runtime                              26210 non-null  Int64         \n",
      " 16  spoken_languages_english_name        25692 non-null  string        \n",
      " 17  status                               26210 non-null  string        \n",
      " 18  tagline                              17215 non-null  string        \n",
      " 19  title                                26210 non-null  string        \n",
      " 20  video                                26210 non-null  boolean       \n",
      " 21  vote_average                         26210 non-null  float64       \n",
      " 22  vote_count                           26210 non-null  Int64         \n",
      " 23  backdrop_path                        25901 non-null  string        \n",
      " 24  poster_path                          25901 non-null  string        \n",
      " 25  overview_jp                          4971 non-null   string        \n",
      " 26  tagline_jp                           1572 non-null   string        \n",
      " 27  title_jp                             26210 non-null  string        \n",
      " 28  genre_Action                         26483 non-null  int64         \n",
      " 29  genre_Adventure                      26483 non-null  int64         \n",
      " 30  genre_Animation                      26483 non-null  int64         \n",
      " 31  genre_Comedy                         26483 non-null  int64         \n",
      " 32  genre_Crime                          26483 non-null  int64         \n",
      " 33  genre_Documentary                    26483 non-null  int64         \n",
      " 34  genre_Drama                          26483 non-null  int64         \n",
      " 35  genre_Family                         26483 non-null  int64         \n",
      " 36  genre_Fantasy                        26483 non-null  int64         \n",
      " 37  genre_History                        26483 non-null  int64         \n",
      " 38  genre_Horror                         26483 non-null  int64         \n",
      " 39  genre_Music                          26483 non-null  int64         \n",
      " 40  genre_Mystery                        26483 non-null  int64         \n",
      " 41  genre_Romance                        26483 non-null  int64         \n",
      " 42  genre_Science Fiction                26483 non-null  int64         \n",
      " 43  genre_TV Movie                       26483 non-null  int64         \n",
      " 44  genre_Thriller                       26483 non-null  int64         \n",
      " 45  genre_War                            26483 non-null  int64         \n",
      " 46  genre_Western                        26483 non-null  int64         \n",
      "dtypes: Int64(4), boolean(2), datetime64[ns](1), float64(2), int32(1), int64(19), string(18)\n",
      "memory usage: 9.2 MB\n"
     ]
    }
   ],
   "source": [
    "movies_df.info()"
   ]
  },
  {
   "cell_type": "code",
   "execution_count": 33,
   "id": "bb402613-6770-4d3d-b499-0d9d4991181a",
   "metadata": {},
   "outputs": [],
   "source": [
    "movies_df.to_csv('./data/movies_df.csv', index=False)"
   ]
  }
 ],
 "metadata": {
  "kernelspec": {
   "display_name": "Python 3 (ipykernel)",
   "language": "python",
   "name": "python3"
  },
  "language_info": {
   "codemirror_mode": {
    "name": "ipython",
    "version": 3
   },
   "file_extension": ".py",
   "mimetype": "text/x-python",
   "name": "python",
   "nbconvert_exporter": "python",
   "pygments_lexer": "ipython3",
   "version": "3.9.17"
  }
 },
 "nbformat": 4,
 "nbformat_minor": 5
}
