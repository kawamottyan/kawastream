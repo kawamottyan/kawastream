{
 "cells": [
  {
   "cell_type": "markdown",
   "metadata": {
    "colab_type": "text",
    "id": "view-in-github"
   },
   "source": [
    "<a href=\"https://colab.research.google.com/github/kawamottyan/movie-recommendation-system/blob/main/model/experiment/model/context_bandit/contextbaundit.ipynb\" target=\"_parent\"><img src=\"https://colab.research.google.com/assets/colab-badge.svg\" alt=\"Open In Colab\"/></a>"
   ]
  },
  {
   "cell_type": "code",
   "execution_count": null,
   "metadata": {
    "id": "wZVHyBw-Akj2"
   },
   "outputs": [],
   "source": [
    "import pandas as pd\n",
    "pd.set_option('display.max_columns', None)"
   ]
  },
  {
   "cell_type": "code",
   "execution_count": null,
   "metadata": {
    "id": "XfjBS5lPAkj3"
   },
   "outputs": [],
   "source": [
    "movie_df = pd.read_csv('../../../data/movies_df.csv')\n",
    "rating_df = pd.read_csv('../../../data/Eval.csv')"
   ]
  },
  {
   "cell_type": "code",
   "execution_count": null,
   "metadata": {
    "id": "qAdBPjOpAkj3",
    "outputId": "e959b94e-7641-4c10-d6c8-b3fae7a4d672"
   },
   "outputs": [
    {
     "data": {
      "text/html": [
       "<div>\n",
       "<style scoped>\n",
       "    .dataframe tbody tr th:only-of-type {\n",
       "        vertical-align: middle;\n",
       "    }\n",
       "\n",
       "    .dataframe tbody tr th {\n",
       "        vertical-align: top;\n",
       "    }\n",
       "\n",
       "    .dataframe thead th {\n",
       "        text-align: right;\n",
       "    }\n",
       "</style>\n",
       "<table border=\"1\" class=\"dataframe\">\n",
       "  <thead>\n",
       "    <tr style=\"text-align: right;\">\n",
       "      <th></th>\n",
       "      <th>tmdbId</th>\n",
       "      <th>is_adult</th>\n",
       "      <th>budget</th>\n",
       "      <th>genre_names</th>\n",
       "      <th>genre_ids</th>\n",
       "      <th>original_language</th>\n",
       "      <th>original_title</th>\n",
       "      <th>overview</th>\n",
       "      <th>popularity</th>\n",
       "      <th>production_companies_names</th>\n",
       "      <th>production_companies_ids</th>\n",
       "      <th>production_companies_origin_country</th>\n",
       "      <th>production_countries_names</th>\n",
       "      <th>release_date</th>\n",
       "      <th>revenue</th>\n",
       "      <th>runtime</th>\n",
       "      <th>spoken_languages_english_name</th>\n",
       "      <th>status</th>\n",
       "      <th>tagline</th>\n",
       "      <th>title</th>\n",
       "      <th>video</th>\n",
       "      <th>vote_average</th>\n",
       "      <th>vote_count</th>\n",
       "      <th>backdrop_path</th>\n",
       "      <th>poster_path</th>\n",
       "      <th>overview_jp</th>\n",
       "      <th>tagline_jp</th>\n",
       "      <th>title_jp</th>\n",
       "      <th>genre_Action</th>\n",
       "      <th>genre_Adventure</th>\n",
       "      <th>genre_Animation</th>\n",
       "      <th>genre_Comedy</th>\n",
       "      <th>genre_Crime</th>\n",
       "      <th>genre_Documentary</th>\n",
       "      <th>genre_Drama</th>\n",
       "      <th>genre_Family</th>\n",
       "      <th>genre_Fantasy</th>\n",
       "      <th>genre_History</th>\n",
       "      <th>genre_Horror</th>\n",
       "      <th>genre_Music</th>\n",
       "      <th>genre_Mystery</th>\n",
       "      <th>genre_Romance</th>\n",
       "      <th>genre_Science Fiction</th>\n",
       "      <th>genre_TV Movie</th>\n",
       "      <th>genre_Thriller</th>\n",
       "      <th>genre_War</th>\n",
       "      <th>genre_Western</th>\n",
       "    </tr>\n",
       "  </thead>\n",
       "  <tbody>\n",
       "    <tr>\n",
       "      <th>0</th>\n",
       "      <td>2</td>\n",
       "      <td>False</td>\n",
       "      <td>0.0</td>\n",
       "      <td>Drama,Comedy,Romance,Crime</td>\n",
       "      <td>[,1,8,,, ,3,5,,, ,1,0,7,4,9,,, ,8,0,]</td>\n",
       "      <td>fi</td>\n",
       "      <td>Ariel</td>\n",
       "      <td>After the coal mine he works at closes and his...</td>\n",
       "      <td>16.786</td>\n",
       "      <td>Villealfa Filmproductions</td>\n",
       "      <td>[,2,3,0,3,]</td>\n",
       "      <td>FI</td>\n",
       "      <td>Finland</td>\n",
       "      <td>1988-10-21</td>\n",
       "      <td>0.0</td>\n",
       "      <td>73.0</td>\n",
       "      <td>Finnish</td>\n",
       "      <td>Released</td>\n",
       "      <td>NaN</td>\n",
       "      <td>Ariel</td>\n",
       "      <td>False</td>\n",
       "      <td>7.1</td>\n",
       "      <td>275.0</td>\n",
       "      <td>https://image.tmdb.org/t/p/w500/ojDg0PGvs6R9xY...</td>\n",
       "      <td>https://image.tmdb.org/t/p/w500/ojDg0PGvs6R9xY...</td>\n",
       "      <td>NaN</td>\n",
       "      <td>NaN</td>\n",
       "      <td>真夜中の虹</td>\n",
       "      <td>0</td>\n",
       "      <td>0</td>\n",
       "      <td>0</td>\n",
       "      <td>1</td>\n",
       "      <td>1</td>\n",
       "      <td>0</td>\n",
       "      <td>1</td>\n",
       "      <td>0</td>\n",
       "      <td>0</td>\n",
       "      <td>0</td>\n",
       "      <td>0</td>\n",
       "      <td>0</td>\n",
       "      <td>0</td>\n",
       "      <td>1</td>\n",
       "      <td>0</td>\n",
       "      <td>0</td>\n",
       "      <td>0</td>\n",
       "      <td>0</td>\n",
       "      <td>0</td>\n",
       "    </tr>\n",
       "  </tbody>\n",
       "</table>\n",
       "</div>"
      ],
      "text/plain": [
       "   tmdbId is_adult  budget                 genre_names  \\\n",
       "0       2    False     0.0  Drama,Comedy,Romance,Crime   \n",
       "\n",
       "                               genre_ids original_language original_title  \\\n",
       "0  [,1,8,,, ,3,5,,, ,1,0,7,4,9,,, ,8,0,]                fi          Ariel   \n",
       "\n",
       "                                            overview  popularity  \\\n",
       "0  After the coal mine he works at closes and his...      16.786   \n",
       "\n",
       "  production_companies_names production_companies_ids  \\\n",
       "0  Villealfa Filmproductions              [,2,3,0,3,]   \n",
       "\n",
       "  production_companies_origin_country production_countries_names release_date  \\\n",
       "0                                  FI                    Finland   1988-10-21   \n",
       "\n",
       "   revenue  runtime spoken_languages_english_name    status tagline  title  \\\n",
       "0      0.0     73.0                       Finnish  Released     NaN  Ariel   \n",
       "\n",
       "   video  vote_average  vote_count  \\\n",
       "0  False           7.1       275.0   \n",
       "\n",
       "                                       backdrop_path  \\\n",
       "0  https://image.tmdb.org/t/p/w500/ojDg0PGvs6R9xY...   \n",
       "\n",
       "                                         poster_path overview_jp tagline_jp  \\\n",
       "0  https://image.tmdb.org/t/p/w500/ojDg0PGvs6R9xY...         NaN        NaN   \n",
       "\n",
       "  title_jp  genre_Action  genre_Adventure  genre_Animation  genre_Comedy  \\\n",
       "0    真夜中の虹             0                0                0             1   \n",
       "\n",
       "   genre_Crime  genre_Documentary  genre_Drama  genre_Family  genre_Fantasy  \\\n",
       "0            1                  0            1             0              0   \n",
       "\n",
       "   genre_History  genre_Horror  genre_Music  genre_Mystery  genre_Romance  \\\n",
       "0              0             0            0              0              1   \n",
       "\n",
       "   genre_Science Fiction  genre_TV Movie  genre_Thriller  genre_War  \\\n",
       "0                      0               0               0          0   \n",
       "\n",
       "   genre_Western  \n",
       "0              0  "
      ]
     },
     "execution_count": 3,
     "metadata": {},
     "output_type": "execute_result"
    }
   ],
   "source": [
    "movie_df.head(1)"
   ]
  },
  {
   "cell_type": "code",
   "execution_count": null,
   "metadata": {
    "id": "9tdV5RG4Akj4"
   },
   "outputs": [],
   "source": [
    "# Select 'tmdbId' and all columns that start with 'genre_'\n",
    "selected_columns = movie_df.filter(regex='^(tmdbId|genre_)')\n",
    "\n",
    "# Drop 'genre_names' and 'genre_ids' columns if they exist\n",
    "for col in ['genre_names', 'genre_ids']:\n",
    "    if col in selected_columns:\n",
    "        selected_columns = selected_columns.drop(columns=[col])\n",
    "\n",
    "# Remove 'genre_' from column names\n",
    "selected_columns.columns = selected_columns.columns.str.replace('genre_', '')\n",
    "\n",
    "# Rename 'tmdbId' to 'movieId'\n",
    "movie_genres = selected_columns.rename(columns={'tmdbId': 'ItemId'})"
   ]
  },
  {
   "cell_type": "code",
   "execution_count": null,
   "metadata": {
    "id": "srKnjIOjAkj4",
    "outputId": "a65e726a-2315-4a00-8f08-0a5beb4e91b0"
   },
   "outputs": [
    {
     "data": {
      "text/html": [
       "<div>\n",
       "<style scoped>\n",
       "    .dataframe tbody tr th:only-of-type {\n",
       "        vertical-align: middle;\n",
       "    }\n",
       "\n",
       "    .dataframe tbody tr th {\n",
       "        vertical-align: top;\n",
       "    }\n",
       "\n",
       "    .dataframe thead th {\n",
       "        text-align: right;\n",
       "    }\n",
       "</style>\n",
       "<table border=\"1\" class=\"dataframe\">\n",
       "  <thead>\n",
       "    <tr style=\"text-align: right;\">\n",
       "      <th></th>\n",
       "      <th>ItemId</th>\n",
       "      <th>Action</th>\n",
       "      <th>Adventure</th>\n",
       "      <th>Animation</th>\n",
       "      <th>Comedy</th>\n",
       "      <th>Crime</th>\n",
       "      <th>Documentary</th>\n",
       "      <th>Drama</th>\n",
       "      <th>Family</th>\n",
       "      <th>Fantasy</th>\n",
       "      <th>History</th>\n",
       "      <th>Horror</th>\n",
       "      <th>Music</th>\n",
       "      <th>Mystery</th>\n",
       "      <th>Romance</th>\n",
       "      <th>Science Fiction</th>\n",
       "      <th>TV Movie</th>\n",
       "      <th>Thriller</th>\n",
       "      <th>War</th>\n",
       "      <th>Western</th>\n",
       "    </tr>\n",
       "  </thead>\n",
       "  <tbody>\n",
       "    <tr>\n",
       "      <th>0</th>\n",
       "      <td>2</td>\n",
       "      <td>0</td>\n",
       "      <td>0</td>\n",
       "      <td>0</td>\n",
       "      <td>1</td>\n",
       "      <td>1</td>\n",
       "      <td>0</td>\n",
       "      <td>1</td>\n",
       "      <td>0</td>\n",
       "      <td>0</td>\n",
       "      <td>0</td>\n",
       "      <td>0</td>\n",
       "      <td>0</td>\n",
       "      <td>0</td>\n",
       "      <td>1</td>\n",
       "      <td>0</td>\n",
       "      <td>0</td>\n",
       "      <td>0</td>\n",
       "      <td>0</td>\n",
       "      <td>0</td>\n",
       "    </tr>\n",
       "    <tr>\n",
       "      <th>1</th>\n",
       "      <td>3</td>\n",
       "      <td>0</td>\n",
       "      <td>0</td>\n",
       "      <td>0</td>\n",
       "      <td>1</td>\n",
       "      <td>0</td>\n",
       "      <td>0</td>\n",
       "      <td>1</td>\n",
       "      <td>0</td>\n",
       "      <td>0</td>\n",
       "      <td>0</td>\n",
       "      <td>0</td>\n",
       "      <td>0</td>\n",
       "      <td>0</td>\n",
       "      <td>1</td>\n",
       "      <td>0</td>\n",
       "      <td>0</td>\n",
       "      <td>0</td>\n",
       "      <td>0</td>\n",
       "      <td>0</td>\n",
       "    </tr>\n",
       "    <tr>\n",
       "      <th>2</th>\n",
       "      <td>5</td>\n",
       "      <td>0</td>\n",
       "      <td>0</td>\n",
       "      <td>0</td>\n",
       "      <td>1</td>\n",
       "      <td>0</td>\n",
       "      <td>0</td>\n",
       "      <td>0</td>\n",
       "      <td>0</td>\n",
       "      <td>0</td>\n",
       "      <td>0</td>\n",
       "      <td>0</td>\n",
       "      <td>0</td>\n",
       "      <td>0</td>\n",
       "      <td>0</td>\n",
       "      <td>0</td>\n",
       "      <td>0</td>\n",
       "      <td>0</td>\n",
       "      <td>0</td>\n",
       "      <td>0</td>\n",
       "    </tr>\n",
       "    <tr>\n",
       "      <th>3</th>\n",
       "      <td>6</td>\n",
       "      <td>1</td>\n",
       "      <td>0</td>\n",
       "      <td>0</td>\n",
       "      <td>0</td>\n",
       "      <td>1</td>\n",
       "      <td>0</td>\n",
       "      <td>0</td>\n",
       "      <td>0</td>\n",
       "      <td>0</td>\n",
       "      <td>0</td>\n",
       "      <td>0</td>\n",
       "      <td>0</td>\n",
       "      <td>0</td>\n",
       "      <td>0</td>\n",
       "      <td>0</td>\n",
       "      <td>0</td>\n",
       "      <td>1</td>\n",
       "      <td>0</td>\n",
       "      <td>0</td>\n",
       "    </tr>\n",
       "    <tr>\n",
       "      <th>4</th>\n",
       "      <td>11</td>\n",
       "      <td>1</td>\n",
       "      <td>1</td>\n",
       "      <td>0</td>\n",
       "      <td>0</td>\n",
       "      <td>0</td>\n",
       "      <td>0</td>\n",
       "      <td>0</td>\n",
       "      <td>0</td>\n",
       "      <td>0</td>\n",
       "      <td>0</td>\n",
       "      <td>0</td>\n",
       "      <td>0</td>\n",
       "      <td>0</td>\n",
       "      <td>0</td>\n",
       "      <td>1</td>\n",
       "      <td>0</td>\n",
       "      <td>0</td>\n",
       "      <td>0</td>\n",
       "      <td>0</td>\n",
       "    </tr>\n",
       "    <tr>\n",
       "      <th>...</th>\n",
       "      <td>...</td>\n",
       "      <td>...</td>\n",
       "      <td>...</td>\n",
       "      <td>...</td>\n",
       "      <td>...</td>\n",
       "      <td>...</td>\n",
       "      <td>...</td>\n",
       "      <td>...</td>\n",
       "      <td>...</td>\n",
       "      <td>...</td>\n",
       "      <td>...</td>\n",
       "      <td>...</td>\n",
       "      <td>...</td>\n",
       "      <td>...</td>\n",
       "      <td>...</td>\n",
       "      <td>...</td>\n",
       "      <td>...</td>\n",
       "      <td>...</td>\n",
       "      <td>...</td>\n",
       "      <td>...</td>\n",
       "    </tr>\n",
       "    <tr>\n",
       "      <th>26478</th>\n",
       "      <td>415072</td>\n",
       "      <td>0</td>\n",
       "      <td>0</td>\n",
       "      <td>0</td>\n",
       "      <td>0</td>\n",
       "      <td>0</td>\n",
       "      <td>0</td>\n",
       "      <td>0</td>\n",
       "      <td>0</td>\n",
       "      <td>0</td>\n",
       "      <td>0</td>\n",
       "      <td>0</td>\n",
       "      <td>0</td>\n",
       "      <td>0</td>\n",
       "      <td>0</td>\n",
       "      <td>0</td>\n",
       "      <td>0</td>\n",
       "      <td>0</td>\n",
       "      <td>0</td>\n",
       "      <td>1</td>\n",
       "    </tr>\n",
       "    <tr>\n",
       "      <th>26479</th>\n",
       "      <td>416437</td>\n",
       "      <td>0</td>\n",
       "      <td>0</td>\n",
       "      <td>0</td>\n",
       "      <td>0</td>\n",
       "      <td>0</td>\n",
       "      <td>1</td>\n",
       "      <td>0</td>\n",
       "      <td>0</td>\n",
       "      <td>0</td>\n",
       "      <td>0</td>\n",
       "      <td>0</td>\n",
       "      <td>0</td>\n",
       "      <td>0</td>\n",
       "      <td>0</td>\n",
       "      <td>0</td>\n",
       "      <td>0</td>\n",
       "      <td>0</td>\n",
       "      <td>0</td>\n",
       "      <td>0</td>\n",
       "    </tr>\n",
       "    <tr>\n",
       "      <th>26480</th>\n",
       "      <td>417285</td>\n",
       "      <td>0</td>\n",
       "      <td>0</td>\n",
       "      <td>0</td>\n",
       "      <td>0</td>\n",
       "      <td>0</td>\n",
       "      <td>0</td>\n",
       "      <td>1</td>\n",
       "      <td>0</td>\n",
       "      <td>0</td>\n",
       "      <td>0</td>\n",
       "      <td>0</td>\n",
       "      <td>0</td>\n",
       "      <td>0</td>\n",
       "      <td>0</td>\n",
       "      <td>0</td>\n",
       "      <td>0</td>\n",
       "      <td>0</td>\n",
       "      <td>0</td>\n",
       "      <td>0</td>\n",
       "    </tr>\n",
       "    <tr>\n",
       "      <th>26481</th>\n",
       "      <td>417399</td>\n",
       "      <td>0</td>\n",
       "      <td>0</td>\n",
       "      <td>0</td>\n",
       "      <td>0</td>\n",
       "      <td>0</td>\n",
       "      <td>0</td>\n",
       "      <td>1</td>\n",
       "      <td>0</td>\n",
       "      <td>0</td>\n",
       "      <td>0</td>\n",
       "      <td>0</td>\n",
       "      <td>0</td>\n",
       "      <td>0</td>\n",
       "      <td>0</td>\n",
       "      <td>0</td>\n",
       "      <td>0</td>\n",
       "      <td>0</td>\n",
       "      <td>0</td>\n",
       "      <td>0</td>\n",
       "    </tr>\n",
       "    <tr>\n",
       "      <th>26482</th>\n",
       "      <td>420743</td>\n",
       "      <td>0</td>\n",
       "      <td>0</td>\n",
       "      <td>0</td>\n",
       "      <td>1</td>\n",
       "      <td>0</td>\n",
       "      <td>0</td>\n",
       "      <td>1</td>\n",
       "      <td>0</td>\n",
       "      <td>0</td>\n",
       "      <td>0</td>\n",
       "      <td>0</td>\n",
       "      <td>0</td>\n",
       "      <td>0</td>\n",
       "      <td>0</td>\n",
       "      <td>0</td>\n",
       "      <td>0</td>\n",
       "      <td>0</td>\n",
       "      <td>0</td>\n",
       "      <td>0</td>\n",
       "    </tr>\n",
       "  </tbody>\n",
       "</table>\n",
       "<p>26483 rows × 20 columns</p>\n",
       "</div>"
      ],
      "text/plain": [
       "       ItemId  Action  Adventure  Animation  Comedy  Crime  Documentary  \\\n",
       "0           2       0          0          0       1      1            0   \n",
       "1           3       0          0          0       1      0            0   \n",
       "2           5       0          0          0       1      0            0   \n",
       "3           6       1          0          0       0      1            0   \n",
       "4          11       1          1          0       0      0            0   \n",
       "...       ...     ...        ...        ...     ...    ...          ...   \n",
       "26478  415072       0          0          0       0      0            0   \n",
       "26479  416437       0          0          0       0      0            1   \n",
       "26480  417285       0          0          0       0      0            0   \n",
       "26481  417399       0          0          0       0      0            0   \n",
       "26482  420743       0          0          0       1      0            0   \n",
       "\n",
       "       Drama  Family  Fantasy  History  Horror  Music  Mystery  Romance  \\\n",
       "0          1       0        0        0       0      0        0        1   \n",
       "1          1       0        0        0       0      0        0        1   \n",
       "2          0       0        0        0       0      0        0        0   \n",
       "3          0       0        0        0       0      0        0        0   \n",
       "4          0       0        0        0       0      0        0        0   \n",
       "...      ...     ...      ...      ...     ...    ...      ...      ...   \n",
       "26478      0       0        0        0       0      0        0        0   \n",
       "26479      0       0        0        0       0      0        0        0   \n",
       "26480      1       0        0        0       0      0        0        0   \n",
       "26481      1       0        0        0       0      0        0        0   \n",
       "26482      1       0        0        0       0      0        0        0   \n",
       "\n",
       "       Science Fiction  TV Movie  Thriller  War  Western  \n",
       "0                    0         0         0    0        0  \n",
       "1                    0         0         0    0        0  \n",
       "2                    0         0         0    0        0  \n",
       "3                    0         0         1    0        0  \n",
       "4                    1         0         0    0        0  \n",
       "...                ...       ...       ...  ...      ...  \n",
       "26478                0         0         0    0        1  \n",
       "26479                0         0         0    0        0  \n",
       "26480                0         0         0    0        0  \n",
       "26481                0         0         0    0        0  \n",
       "26482                0         0         0    0        0  \n",
       "\n",
       "[26483 rows x 20 columns]"
      ]
     },
     "execution_count": 5,
     "metadata": {},
     "output_type": "execute_result"
    }
   ],
   "source": [
    "movie_genres"
   ]
  },
  {
   "cell_type": "code",
   "execution_count": null,
   "metadata": {
    "id": "g8mz7UyPAkj4",
    "outputId": "4b7cf6d5-b7f8-45ee-f254-e172804f985f"
   },
   "outputs": [
    {
     "data": {
      "text/html": [
       "<div>\n",
       "<style scoped>\n",
       "    .dataframe tbody tr th:only-of-type {\n",
       "        vertical-align: middle;\n",
       "    }\n",
       "\n",
       "    .dataframe tbody tr th {\n",
       "        vertical-align: top;\n",
       "    }\n",
       "\n",
       "    .dataframe thead th {\n",
       "        text-align: right;\n",
       "    }\n",
       "</style>\n",
       "<table border=\"1\" class=\"dataframe\">\n",
       "  <thead>\n",
       "    <tr style=\"text-align: right;\">\n",
       "      <th></th>\n",
       "      <th>SessionId</th>\n",
       "      <th>ItemId</th>\n",
       "      <th>Time</th>\n",
       "    </tr>\n",
       "  </thead>\n",
       "  <tbody>\n",
       "    <tr>\n",
       "      <th>0</th>\n",
       "      <td>119</td>\n",
       "      <td>8844</td>\n",
       "      <td>8.451107e+08</td>\n",
       "    </tr>\n",
       "    <tr>\n",
       "      <th>1</th>\n",
       "      <td>142</td>\n",
       "      <td>8844</td>\n",
       "      <td>8.334587e+08</td>\n",
       "    </tr>\n",
       "    <tr>\n",
       "      <th>2</th>\n",
       "      <td>156</td>\n",
       "      <td>8844</td>\n",
       "      <td>1.040938e+09</td>\n",
       "    </tr>\n",
       "    <tr>\n",
       "      <th>3</th>\n",
       "      <td>249</td>\n",
       "      <td>8844</td>\n",
       "      <td>8.366401e+08</td>\n",
       "    </tr>\n",
       "    <tr>\n",
       "      <th>4</th>\n",
       "      <td>251</td>\n",
       "      <td>8844</td>\n",
       "      <td>9.652787e+08</td>\n",
       "    </tr>\n",
       "    <tr>\n",
       "      <th>...</th>\n",
       "      <td>...</td>\n",
       "      <td>...</td>\n",
       "      <td>...</td>\n",
       "    </tr>\n",
       "    <tr>\n",
       "      <th>7991159</th>\n",
       "      <td>129498</td>\n",
       "      <td>156284</td>\n",
       "      <td>1.393875e+09</td>\n",
       "    </tr>\n",
       "    <tr>\n",
       "      <th>7991160</th>\n",
       "      <td>130992</td>\n",
       "      <td>14808</td>\n",
       "      <td>1.426692e+09</td>\n",
       "    </tr>\n",
       "    <tr>\n",
       "      <th>7991161</th>\n",
       "      <td>131651</td>\n",
       "      <td>36246</td>\n",
       "      <td>1.329237e+09</td>\n",
       "    </tr>\n",
       "    <tr>\n",
       "      <th>7991162</th>\n",
       "      <td>131651</td>\n",
       "      <td>155596</td>\n",
       "      <td>1.368938e+09</td>\n",
       "    </tr>\n",
       "    <tr>\n",
       "      <th>7991163</th>\n",
       "      <td>134701</td>\n",
       "      <td>209032</td>\n",
       "      <td>1.426268e+09</td>\n",
       "    </tr>\n",
       "  </tbody>\n",
       "</table>\n",
       "<p>7991164 rows × 3 columns</p>\n",
       "</div>"
      ],
      "text/plain": [
       "         SessionId  ItemId          Time\n",
       "0              119    8844  8.451107e+08\n",
       "1              142    8844  8.334587e+08\n",
       "2              156    8844  1.040938e+09\n",
       "3              249    8844  8.366401e+08\n",
       "4              251    8844  9.652787e+08\n",
       "...            ...     ...           ...\n",
       "7991159     129498  156284  1.393875e+09\n",
       "7991160     130992   14808  1.426692e+09\n",
       "7991161     131651   36246  1.329237e+09\n",
       "7991162     131651  155596  1.368938e+09\n",
       "7991163     134701  209032  1.426268e+09\n",
       "\n",
       "[7991164 rows x 3 columns]"
      ]
     },
     "execution_count": 6,
     "metadata": {},
     "output_type": "execute_result"
    }
   ],
   "source": [
    "rating_df"
   ]
  },
  {
   "cell_type": "code",
   "execution_count": null,
   "metadata": {
    "id": "ZdhqTgLCAkj4"
   },
   "outputs": [],
   "source": [
    "# Assume that an interaction is a reward\n",
    "rating_df['reward'] = 1"
   ]
  },
  {
   "cell_type": "code",
   "execution_count": null,
   "metadata": {
    "id": "sT8pLhtPAkj4",
    "outputId": "ca67cddd-a5da-4c97-b2f7-98aeb57082a8"
   },
   "outputs": [
    {
     "data": {
      "text/plain": [
       "20"
      ]
     },
     "execution_count": 9,
     "metadata": {},
     "output_type": "execute_result"
    }
   ],
   "source": [
    "len(movie_genres.columns)"
   ]
  },
  {
   "cell_type": "code",
   "execution_count": null,
   "metadata": {
    "id": "FO-AOjKgAkj5"
   },
   "outputs": [],
   "source": [
    "movie_genres = pd.DataFrame({\n",
    "    'ItemId': [1, 2, 3, 4, 5],\n",
    "    'Action': [1, 0, 0, 0, 0],\n",
    "    'Comedy': [0, 1, 0, 0, 1],\n",
    "    'Drama': [0, 0, 1, 0, 1],\n",
    "    'Romance': [0, 0, 0, 1, 1],\n",
    "    'Thriller': [1, 1, 0, 0, 0]\n",
    "})"
   ]
  },
  {
   "cell_type": "code",
   "execution_count": null,
   "metadata": {
    "id": "IQ_o0B5FAkj5"
   },
   "outputs": [],
   "source": [
    "rating_df = pd.DataFrame({\n",
    "    'SessionId': [1, 1, 2, 2, 3, 3, 4, 4, 5, 5],\n",
    "    'ItemId': [1, 2, 2, 3, 3, 4, 4, 5, 1, 5],\n",
    "    'Time': [1, 2, 1, 2, 1, 2, 1, 2, 1, 2],\n",
    "    'reward': [1, 1, 1, 1, 1, 1, 1, 1, 1, 1]\n",
    "})"
   ]
  },
  {
   "cell_type": "code",
   "execution_count": null,
   "metadata": {
    "id": "r2DtiBwlAkj5"
   },
   "outputs": [],
   "source": [
    "import numpy as np\n",
    "from collections import defaultdict"
   ]
  },
  {
   "cell_type": "code",
   "execution_count": null,
   "metadata": {
    "id": "feHaj6_uAkj5",
    "outputId": "cd8aa138-29f7-42a0-dc5e-2a88227676a6"
   },
   "outputs": [
    {
     "name": "stderr",
     "output_type": "stream",
     "text": [
      "100%|██████████| 5/5 [00:00<00:00, 228.65it/s]"
     ]
    },
    {
     "name": "stdout",
     "output_type": "stream",
     "text": [
      "Chosen genres: ['Comedy', 'Comedy', 'Comedy', 'Comedy', 'Comedy']\n",
      "Total reward: 4\n"
     ]
    },
    {
     "name": "stderr",
     "output_type": "stream",
     "text": [
      "\n"
     ]
    }
   ],
   "source": [
    "chosen_genres = []\n",
    "total_reward = 0\n",
    "\n",
    "# Initialize parameters\n",
    "alpha = 0.1\n",
    "d = len(movie_genres.columns) - 1  # dimension of the feature\n",
    "A = defaultdict(lambda: np.identity(d))\n",
    "b = defaultdict(lambda: np.zeros((d, 1)))\n",
    "\n",
    "for session in tqdm(filtered_session_ids):\n",
    "    session_data = rating_df[rating_df['SessionId'] == session]\n",
    "\n",
    "    max_p = float('-inf')\n",
    "    chosen_genre = None\n",
    "    chosen_features = None\n",
    "    chosen_reward = None\n",
    "\n",
    "    for genre in movie_genres.columns[1:]:  # Exclude 'ItemId'\n",
    "        genre_features = movie_genres[genre].values\n",
    "        genre_features = genre_features.reshape(-1, 1)\n",
    "\n",
    "        # Calculate the estimated reward for the genre\n",
    "        theta = np.dot(np.linalg.inv(A[genre]), b[genre])\n",
    "        p = np.dot(theta.T, genre_features) + alpha * np.sqrt(np.dot(genre_features.T, np.dot(np.linalg.inv(A[genre]), genre_features)))\n",
    "\n",
    "        # Select the genre with the highest estimated reward\n",
    "        if p > max_p:\n",
    "            max_p = p\n",
    "            chosen_genre = genre\n",
    "            chosen_features = genre_features\n",
    "            chosen_reward = session_data[session_data['ItemId'].isin(movie_genres[movie_genres[genre] == 1]['ItemId'])]['reward'].sum()\n",
    "\n",
    "    # Update A and b for the chosen genre\n",
    "    if chosen_genre is not None:\n",
    "        A[chosen_genre] += np.dot(chosen_features, chosen_features.T)\n",
    "        b[chosen_genre] += chosen_reward * chosen_features\n",
    "\n",
    "        # Track chosen genres and rewards\n",
    "        chosen_genres.append(chosen_genre)\n",
    "        total_reward += chosen_reward\n",
    "\n",
    "print(\"Chosen genres:\", chosen_genres)\n",
    "print(\"Total reward:\", total_reward)"
   ]
  },
  {
   "cell_type": "code",
   "execution_count": null,
   "metadata": {
    "id": "fR9h1bqFAkj5",
    "outputId": "bd8ed0d8-22bb-415c-94df-8a57e1512e6a"
   },
   "outputs": [
    {
     "data": {
      "text/plain": [
       "Index(['Action', 'Comedy', 'Drama', 'Romance', 'Thriller'], dtype='object')"
      ]
     },
     "execution_count": 97,
     "metadata": {},
     "output_type": "execute_result"
    }
   ],
   "source": [
    "movie_genres.columns[1:]"
   ]
  },
  {
   "cell_type": "code",
   "execution_count": null,
   "metadata": {
    "id": "RjftgbwjAkj6"
   },
   "outputs": [],
   "source": [
    "genre = 'Action'"
   ]
  },
  {
   "cell_type": "code",
   "execution_count": null,
   "metadata": {
    "id": "2WeESMYkAkj6",
    "outputId": "4309a18c-e3e3-4eb3-a5b7-3be3b9d7dc0e"
   },
   "outputs": [
    {
     "data": {
      "text/plain": [
       "array([1, 0, 0, 0, 0], dtype=int64)"
      ]
     },
     "execution_count": 112,
     "metadata": {},
     "output_type": "execute_result"
    }
   ],
   "source": [
    "genre_features = movie_genres[genre].values\n",
    "genre_features"
   ]
  },
  {
   "cell_type": "code",
   "execution_count": null,
   "metadata": {
    "id": "ZN6sTWraAkj6",
    "outputId": "8cb403ac-c528-46a3-bd1c-41c249f75e78"
   },
   "outputs": [
    {
     "data": {
      "text/plain": [
       "array([[1],\n",
       "       [0],\n",
       "       [0],\n",
       "       [0],\n",
       "       [0]], dtype=int64)"
      ]
     },
     "execution_count": 113,
     "metadata": {},
     "output_type": "execute_result"
    }
   ],
   "source": [
    "genre_features = genre_features.reshape(-1, 1)\n",
    "genre_features"
   ]
  },
  {
   "cell_type": "code",
   "execution_count": null,
   "metadata": {
    "id": "BULetQH6Akj6",
    "outputId": "51254658-960f-4db9-c19c-f8fb3a756d83"
   },
   "outputs": [
    {
     "data": {
      "text/plain": [
       "array([[0.],\n",
       "       [0.],\n",
       "       [0.],\n",
       "       [0.],\n",
       "       [0.]])"
      ]
     },
     "execution_count": 114,
     "metadata": {},
     "output_type": "execute_result"
    }
   ],
   "source": [
    "theta = np.dot(np.linalg.inv(A[genre]), b[genre])\n",
    "theta"
   ]
  },
  {
   "cell_type": "code",
   "execution_count": null,
   "metadata": {
    "id": "rhxevcbTAkj6"
   },
   "outputs": [],
   "source": [
    "alpha = 0.1\n",
    "d = len(movie_genres.columns) - 1  # dimension of the feature\n",
    "A = defaultdict(lambda: np.identity(d))\n",
    "b = defaultdict(lambda: np.zeros((d, 1)))"
   ]
  },
  {
   "cell_type": "code",
   "execution_count": null,
   "metadata": {
    "id": "xmW7FinYAkj6",
    "outputId": "7028b9f5-234a-400d-cf8f-b1b4995ba34d"
   },
   "outputs": [
    {
     "data": {
      "text/plain": [
       "defaultdict(<function __main__.<lambda>()>, {})"
      ]
     },
     "execution_count": 109,
     "metadata": {},
     "output_type": "execute_result"
    }
   ],
   "source": [
    "A"
   ]
  },
  {
   "cell_type": "code",
   "execution_count": null,
   "metadata": {
    "id": "F8f-p1KwAkj6",
    "outputId": "d36e1574-5ca5-4fee-a8c7-aa2d4747c4dc"
   },
   "outputs": [
    {
     "data": {
      "text/plain": [
       "defaultdict(<function __main__.<lambda>()>, {})"
      ]
     },
     "execution_count": 110,
     "metadata": {},
     "output_type": "execute_result"
    }
   ],
   "source": [
    "b"
   ]
  }
 ],
 "metadata": {
  "colab": {
   "include_colab_link": true,
   "provenance": []
  },
  "kernelspec": {
   "display_name": "recommender",
   "language": "python",
   "name": "python3"
  },
  "language_info": {
   "codemirror_mode": {
    "name": "ipython",
    "version": 3
   },
   "file_extension": ".py",
   "mimetype": "text/x-python",
   "name": "python",
   "nbconvert_exporter": "python",
   "pygments_lexer": "ipython3",
   "version": "3.9.17"
  }
 },
 "nbformat": 4,
 "nbformat_minor": 0
}
