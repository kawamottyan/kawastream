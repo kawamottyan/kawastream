{
 "cells": [
  {
   "cell_type": "code",
   "execution_count": 1,
   "id": "f03746e3-493f-4534-bb7e-ba10bd957612",
   "metadata": {},
   "outputs": [],
   "source": [
    "import numpy as np\n",
    "import pandas as pd"
   ]
  },
  {
   "cell_type": "code",
   "execution_count": 2,
   "id": "d04d916c-d37a-493c-b506-a2d3bbf47e62",
   "metadata": {},
   "outputs": [],
   "source": [
    "movie_df = pd.read_csv('../../../data/movies_df.csv')\n",
    "rating_df = pd.read_csv('../../../data/Eval.csv')"
   ]
  },
  {
   "cell_type": "code",
   "execution_count": 3,
   "id": "3e2db640-c169-4c8a-af4b-815c2d1441dc",
   "metadata": {},
   "outputs": [],
   "source": [
    "np.random.seed(42)"
   ]
  },
  {
   "cell_type": "code",
   "execution_count": 4,
   "id": "849d8bcf-7726-4d3f-88ca-d95d26cd4ce8",
   "metadata": {},
   "outputs": [],
   "source": [
    "selected_columns = movie_df.filter(regex='^(tmdbId|genre_)')\n",
    "for col in ['genre_names', 'genre_ids']:\n",
    "    if col in selected_columns:\n",
    "        selected_columns = selected_columns.drop(columns=[col])\n",
    "selected_columns.columns = selected_columns.columns.str.replace('genre_', '')\n",
    "movie_genres = selected_columns.rename(columns={'tmdbId': 'ItemId'})"
   ]
  },
  {
   "cell_type": "code",
   "execution_count": 5,
   "id": "725302fd-018e-4308-bf74-5db8060c3ccf",
   "metadata": {},
   "outputs": [
    {
     "data": {
      "text/html": [
       "<div>\n",
       "<style scoped>\n",
       "    .dataframe tbody tr th:only-of-type {\n",
       "        vertical-align: middle;\n",
       "    }\n",
       "\n",
       "    .dataframe tbody tr th {\n",
       "        vertical-align: top;\n",
       "    }\n",
       "\n",
       "    .dataframe thead th {\n",
       "        text-align: right;\n",
       "    }\n",
       "</style>\n",
       "<table border=\"1\" class=\"dataframe\">\n",
       "  <thead>\n",
       "    <tr style=\"text-align: right;\">\n",
       "      <th></th>\n",
       "      <th>SessionId</th>\n",
       "      <th>ItemId</th>\n",
       "      <th>Time</th>\n",
       "    </tr>\n",
       "  </thead>\n",
       "  <tbody>\n",
       "    <tr>\n",
       "      <th>0</th>\n",
       "      <td>119</td>\n",
       "      <td>8844</td>\n",
       "      <td>845110667.0</td>\n",
       "    </tr>\n",
       "  </tbody>\n",
       "</table>\n",
       "</div>"
      ],
      "text/plain": [
       "   SessionId  ItemId         Time\n",
       "0        119    8844  845110667.0"
      ]
     },
     "execution_count": 5,
     "metadata": {},
     "output_type": "execute_result"
    }
   ],
   "source": [
    "rating_df.head(1)"
   ]
  },
  {
   "cell_type": "code",
   "execution_count": 6,
   "id": "45fc82fd-15a3-4fa2-a246-96cb0943be4e",
   "metadata": {},
   "outputs": [
    {
     "data": {
      "text/html": [
       "<div>\n",
       "<style scoped>\n",
       "    .dataframe tbody tr th:only-of-type {\n",
       "        vertical-align: middle;\n",
       "    }\n",
       "\n",
       "    .dataframe tbody tr th {\n",
       "        vertical-align: top;\n",
       "    }\n",
       "\n",
       "    .dataframe thead th {\n",
       "        text-align: right;\n",
       "    }\n",
       "</style>\n",
       "<table border=\"1\" class=\"dataframe\">\n",
       "  <thead>\n",
       "    <tr style=\"text-align: right;\">\n",
       "      <th></th>\n",
       "      <th>ItemId</th>\n",
       "      <th>Action</th>\n",
       "      <th>Adventure</th>\n",
       "      <th>Animation</th>\n",
       "      <th>Comedy</th>\n",
       "      <th>Crime</th>\n",
       "      <th>Documentary</th>\n",
       "      <th>Drama</th>\n",
       "      <th>Family</th>\n",
       "      <th>Fantasy</th>\n",
       "      <th>History</th>\n",
       "      <th>Horror</th>\n",
       "      <th>Music</th>\n",
       "      <th>Mystery</th>\n",
       "      <th>Romance</th>\n",
       "      <th>Science Fiction</th>\n",
       "      <th>TV Movie</th>\n",
       "      <th>Thriller</th>\n",
       "      <th>War</th>\n",
       "      <th>Western</th>\n",
       "    </tr>\n",
       "  </thead>\n",
       "  <tbody>\n",
       "    <tr>\n",
       "      <th>0</th>\n",
       "      <td>2</td>\n",
       "      <td>0</td>\n",
       "      <td>0</td>\n",
       "      <td>0</td>\n",
       "      <td>1</td>\n",
       "      <td>1</td>\n",
       "      <td>0</td>\n",
       "      <td>1</td>\n",
       "      <td>0</td>\n",
       "      <td>0</td>\n",
       "      <td>0</td>\n",
       "      <td>0</td>\n",
       "      <td>0</td>\n",
       "      <td>0</td>\n",
       "      <td>1</td>\n",
       "      <td>0</td>\n",
       "      <td>0</td>\n",
       "      <td>0</td>\n",
       "      <td>0</td>\n",
       "      <td>0</td>\n",
       "    </tr>\n",
       "  </tbody>\n",
       "</table>\n",
       "</div>"
      ],
      "text/plain": [
       "   ItemId  Action  Adventure  Animation  Comedy  Crime  Documentary  Drama  \\\n",
       "0       2       0          0          0       1      1            0      1   \n",
       "\n",
       "   Family  Fantasy  History  Horror  Music  Mystery  Romance  Science Fiction  \\\n",
       "0       0        0        0       0      0        0        1                0   \n",
       "\n",
       "   TV Movie  Thriller  War  Western  \n",
       "0         0         0    0        0  "
      ]
     },
     "execution_count": 6,
     "metadata": {},
     "output_type": "execute_result"
    }
   ],
   "source": [
    "movie_genres.head(1)"
   ]
  },
  {
   "cell_type": "code",
   "execution_count": 7,
   "id": "792ed197-5a51-422b-b3d3-b64c581c6d45",
   "metadata": {},
   "outputs": [],
   "source": [
    "def choose_genre(row):\n",
    "    available_genres = np.where(row.values == 1)[0]\n",
    "    return np.random.choice(available_genres) + 1 if available_genres.size > 0 else 0"
   ]
  },
  {
   "cell_type": "code",
   "execution_count": 8,
   "id": "31c5ba88-93d5-4a87-9171-6ff0f63a7066",
   "metadata": {},
   "outputs": [],
   "source": [
    "movie_genres['GenreId'] = movie_genres.drop('ItemId', axis=1).apply(choose_genre, axis=1)\n",
    "rating_df = rating_df.merge(movie_genres[['ItemId', 'GenreId']], on='ItemId')\n",
    "movie_df = pd.pivot_table(rating_df, index='SessionId', columns='ItemId', values='Time', aggfunc='size', fill_value=0)"
   ]
  },
  {
   "cell_type": "code",
   "execution_count": 9,
   "id": "71106e0f-6d46-46c4-b21c-b9d4656cdd02",
   "metadata": {},
   "outputs": [
    {
     "data": {
      "text/html": [
       "<div>\n",
       "<style scoped>\n",
       "    .dataframe tbody tr th:only-of-type {\n",
       "        vertical-align: middle;\n",
       "    }\n",
       "\n",
       "    .dataframe tbody tr th {\n",
       "        vertical-align: top;\n",
       "    }\n",
       "\n",
       "    .dataframe thead th {\n",
       "        text-align: right;\n",
       "    }\n",
       "</style>\n",
       "<table border=\"1\" class=\"dataframe\">\n",
       "  <thead>\n",
       "    <tr style=\"text-align: right;\">\n",
       "      <th></th>\n",
       "      <th>SessionId</th>\n",
       "      <th>ItemId</th>\n",
       "      <th>Time</th>\n",
       "      <th>GenreId</th>\n",
       "    </tr>\n",
       "  </thead>\n",
       "  <tbody>\n",
       "    <tr>\n",
       "      <th>0</th>\n",
       "      <td>119</td>\n",
       "      <td>8844</td>\n",
       "      <td>8.451107e+08</td>\n",
       "      <td>9</td>\n",
       "    </tr>\n",
       "    <tr>\n",
       "      <th>1</th>\n",
       "      <td>142</td>\n",
       "      <td>8844</td>\n",
       "      <td>8.334587e+08</td>\n",
       "      <td>9</td>\n",
       "    </tr>\n",
       "    <tr>\n",
       "      <th>2</th>\n",
       "      <td>156</td>\n",
       "      <td>8844</td>\n",
       "      <td>1.040938e+09</td>\n",
       "      <td>9</td>\n",
       "    </tr>\n",
       "  </tbody>\n",
       "</table>\n",
       "</div>"
      ],
      "text/plain": [
       "   SessionId  ItemId          Time  GenreId\n",
       "0        119    8844  8.451107e+08        9\n",
       "1        142    8844  8.334587e+08        9\n",
       "2        156    8844  1.040938e+09        9"
      ]
     },
     "execution_count": 9,
     "metadata": {},
     "output_type": "execute_result"
    }
   ],
   "source": [
    "rating_df.head(3)"
   ]
  },
  {
   "cell_type": "code",
   "execution_count": 10,
   "id": "ba7e18c6-db49-4565-831d-a3a59883124c",
   "metadata": {},
   "outputs": [
    {
     "data": {
      "text/html": [
       "<div>\n",
       "<style scoped>\n",
       "    .dataframe tbody tr th:only-of-type {\n",
       "        vertical-align: middle;\n",
       "    }\n",
       "\n",
       "    .dataframe tbody tr th {\n",
       "        vertical-align: top;\n",
       "    }\n",
       "\n",
       "    .dataframe thead th {\n",
       "        text-align: right;\n",
       "    }\n",
       "</style>\n",
       "<table border=\"1\" class=\"dataframe\">\n",
       "  <thead>\n",
       "    <tr style=\"text-align: right;\">\n",
       "      <th>ItemId</th>\n",
       "      <th>5</th>\n",
       "      <th>11</th>\n",
       "      <th>12</th>\n",
       "      <th>13</th>\n",
       "      <th>14</th>\n",
       "      <th>15</th>\n",
       "      <th>16</th>\n",
       "      <th>18</th>\n",
       "      <th>19</th>\n",
       "      <th>20</th>\n",
       "      <th>...</th>\n",
       "      <th>294690</th>\n",
       "      <th>295315</th>\n",
       "      <th>297222</th>\n",
       "      <th>297596</th>\n",
       "      <th>297608</th>\n",
       "      <th>302376</th>\n",
       "      <th>304023</th>\n",
       "      <th>306650</th>\n",
       "      <th>307663</th>\n",
       "      <th>326359</th>\n",
       "    </tr>\n",
       "    <tr>\n",
       "      <th>SessionId</th>\n",
       "      <th></th>\n",
       "      <th></th>\n",
       "      <th></th>\n",
       "      <th></th>\n",
       "      <th></th>\n",
       "      <th></th>\n",
       "      <th></th>\n",
       "      <th></th>\n",
       "      <th></th>\n",
       "      <th></th>\n",
       "      <th></th>\n",
       "      <th></th>\n",
       "      <th></th>\n",
       "      <th></th>\n",
       "      <th></th>\n",
       "      <th></th>\n",
       "      <th></th>\n",
       "      <th></th>\n",
       "      <th></th>\n",
       "      <th></th>\n",
       "      <th></th>\n",
       "    </tr>\n",
       "  </thead>\n",
       "  <tbody>\n",
       "    <tr>\n",
       "      <th>1</th>\n",
       "      <td>0</td>\n",
       "      <td>1</td>\n",
       "      <td>0</td>\n",
       "      <td>0</td>\n",
       "      <td>0</td>\n",
       "      <td>0</td>\n",
       "      <td>0</td>\n",
       "      <td>0</td>\n",
       "      <td>0</td>\n",
       "      <td>0</td>\n",
       "      <td>...</td>\n",
       "      <td>0</td>\n",
       "      <td>0</td>\n",
       "      <td>0</td>\n",
       "      <td>0</td>\n",
       "      <td>0</td>\n",
       "      <td>0</td>\n",
       "      <td>0</td>\n",
       "      <td>0</td>\n",
       "      <td>0</td>\n",
       "      <td>0</td>\n",
       "    </tr>\n",
       "    <tr>\n",
       "      <th>2</th>\n",
       "      <td>0</td>\n",
       "      <td>1</td>\n",
       "      <td>0</td>\n",
       "      <td>0</td>\n",
       "      <td>0</td>\n",
       "      <td>0</td>\n",
       "      <td>0</td>\n",
       "      <td>0</td>\n",
       "      <td>0</td>\n",
       "      <td>0</td>\n",
       "      <td>...</td>\n",
       "      <td>0</td>\n",
       "      <td>0</td>\n",
       "      <td>0</td>\n",
       "      <td>0</td>\n",
       "      <td>0</td>\n",
       "      <td>0</td>\n",
       "      <td>0</td>\n",
       "      <td>0</td>\n",
       "      <td>0</td>\n",
       "      <td>0</td>\n",
       "    </tr>\n",
       "    <tr>\n",
       "      <th>3</th>\n",
       "      <td>0</td>\n",
       "      <td>1</td>\n",
       "      <td>0</td>\n",
       "      <td>0</td>\n",
       "      <td>0</td>\n",
       "      <td>0</td>\n",
       "      <td>0</td>\n",
       "      <td>0</td>\n",
       "      <td>0</td>\n",
       "      <td>0</td>\n",
       "      <td>...</td>\n",
       "      <td>0</td>\n",
       "      <td>0</td>\n",
       "      <td>0</td>\n",
       "      <td>0</td>\n",
       "      <td>0</td>\n",
       "      <td>0</td>\n",
       "      <td>0</td>\n",
       "      <td>0</td>\n",
       "      <td>0</td>\n",
       "      <td>0</td>\n",
       "    </tr>\n",
       "  </tbody>\n",
       "</table>\n",
       "<p>3 rows × 4717 columns</p>\n",
       "</div>"
      ],
      "text/plain": [
       "ItemId     5       11      12      13      14      15      16      18      \\\n",
       "SessionId                                                                   \n",
       "1               0       1       0       0       0       0       0       0   \n",
       "2               0       1       0       0       0       0       0       0   \n",
       "3               0       1       0       0       0       0       0       0   \n",
       "\n",
       "ItemId     19      20      ...  294690  295315  297222  297596  297608  \\\n",
       "SessionId                  ...                                           \n",
       "1               0       0  ...       0       0       0       0       0   \n",
       "2               0       0  ...       0       0       0       0       0   \n",
       "3               0       0  ...       0       0       0       0       0   \n",
       "\n",
       "ItemId     302376  304023  306650  307663  326359  \n",
       "SessionId                                          \n",
       "1               0       0       0       0       0  \n",
       "2               0       0       0       0       0  \n",
       "3               0       0       0       0       0  \n",
       "\n",
       "[3 rows x 4717 columns]"
      ]
     },
     "execution_count": 10,
     "metadata": {},
     "output_type": "execute_result"
    }
   ],
   "source": [
    "movie_df.head(3)"
   ]
  },
  {
   "cell_type": "code",
   "execution_count": null,
   "id": "1fd08819-8ffa-4ca9-be7c-dd627d0e1891",
   "metadata": {},
   "outputs": [],
   "source": []
  },
  {
   "cell_type": "code",
   "execution_count": 11,
   "id": "a029d50d-b6cf-415d-b9e2-3da645e2fb73",
   "metadata": {},
   "outputs": [],
   "source": [
    "session_ids = rating_df['SessionId'].to_numpy()\n",
    "genre_ids = rating_df['GenreId'].to_numpy()"
   ]
  },
  {
   "cell_type": "code",
   "execution_count": 12,
   "id": "1d8fb9a0-fc91-4374-ac16-accf459e430d",
   "metadata": {},
   "outputs": [],
   "source": [
    "user_id_mapping = {sid: i for i, sid in enumerate(session_ids)}\n",
    "genre_id_mapping = {iid: i for i, iid in enumerate(genre_ids)}"
   ]
  },
  {
   "cell_type": "code",
   "execution_count": 13,
   "id": "7cd9a365-b803-4d8b-a158-71d4100b8c08",
   "metadata": {},
   "outputs": [],
   "source": [
    "num_users = len(session_ids)\n",
    "num_genres = len(genre_ids)"
   ]
  },
  {
   "cell_type": "code",
   "execution_count": 14,
   "id": "428f73bc-7bfd-4180-8f6d-bd8daef930af",
   "metadata": {},
   "outputs": [
    {
     "ename": "MemoryError",
     "evalue": "Unable to allocate 465. TiB for an array with shape (7991164, 7991164) and data type float64",
     "output_type": "error",
     "traceback": [
      "\u001b[1;31m---------------------------------------------------------------------------\u001b[0m",
      "\u001b[1;31mMemoryError\u001b[0m                               Traceback (most recent call last)",
      "Cell \u001b[1;32mIn[14], line 1\u001b[0m\n\u001b[1;32m----> 1\u001b[0m user_genre_matrix \u001b[38;5;241m=\u001b[39m \u001b[43mnp\u001b[49m\u001b[38;5;241;43m.\u001b[39;49m\u001b[43mzeros\u001b[49m\u001b[43m(\u001b[49m\u001b[43m(\u001b[49m\u001b[43mnum_users\u001b[49m\u001b[43m,\u001b[49m\u001b[43m \u001b[49m\u001b[43mnum_genres\u001b[49m\u001b[43m)\u001b[49m\u001b[43m)\u001b[49m\n\u001b[0;32m      2\u001b[0m \u001b[38;5;28;01mfor\u001b[39;00m _, row \u001b[38;5;129;01min\u001b[39;00m rating_df\u001b[38;5;241m.\u001b[39miterrows():\n\u001b[0;32m      3\u001b[0m     user_id \u001b[38;5;241m=\u001b[39m user_id_mapping[row[\u001b[38;5;124m'\u001b[39m\u001b[38;5;124mSessionId\u001b[39m\u001b[38;5;124m'\u001b[39m]]\n",
      "\u001b[1;31mMemoryError\u001b[0m: Unable to allocate 465. TiB for an array with shape (7991164, 7991164) and data type float64"
     ]
    }
   ],
   "source": [
    "user_genre_matrix = np.zeros((num_users, num_genres))\n",
    "for _, row in rating_df.iterrows():\n",
    "    user_id = user_id_mapping[row['SessionId']]\n",
    "    genre_id = genre_id_mapping[row['GenreId']]\n",
    "    user_genre_matrix[user_id, genre_id] = 1"
   ]
  },
  {
   "cell_type": "code",
   "execution_count": null,
   "id": "faff3cc6-9837-4eb9-a896-9a6a842d3e2f",
   "metadata": {},
   "outputs": [],
   "source": [
    "user_genre_matrix"
   ]
  },
  {
   "cell_type": "code",
   "execution_count": null,
   "id": "7ac6a91f-6402-41c7-85a6-ee54e64892a3",
   "metadata": {},
   "outputs": [],
   "source": []
  },
  {
   "cell_type": "code",
   "execution_count": null,
   "id": "fec0c392-6684-4ae5-a1ef-2418fdd44d06",
   "metadata": {},
   "outputs": [],
   "source": [
    "item_ids = rating_df['ItemId'].to_numpy()"
   ]
  },
  {
   "cell_type": "code",
   "execution_count": null,
   "id": "cb6fdefd-d7f8-4d54-808c-ba0a3ec00f55",
   "metadata": {},
   "outputs": [],
   "source": [
    "num_items = len(item_ids)"
   ]
  },
  {
   "cell_type": "code",
   "execution_count": null,
   "id": "b040c459-2a9e-4603-9260-d67f0e665721",
   "metadata": {},
   "outputs": [],
   "source": [
    "user_movie_matrix = movie_df.to_numpy()"
   ]
  },
  {
   "cell_type": "code",
   "execution_count": null,
   "id": "7096c9e9-5fdc-4edc-8bbf-e10af77af11f",
   "metadata": {},
   "outputs": [],
   "source": [
    "user_movie_matrix"
   ]
  },
  {
   "cell_type": "code",
   "execution_count": null,
   "id": "adb4bad6-6879-4663-857b-cd370500b96a",
   "metadata": {},
   "outputs": [],
   "source": []
  },
  {
   "cell_type": "code",
   "execution_count": null,
   "id": "fce6abf7-9759-4840-ab14-5f48be510216",
   "metadata": {},
   "outputs": [],
   "source": []
  },
  {
   "cell_type": "code",
   "execution_count": null,
   "id": "88428e98-1995-4383-a858-0a572fd56047",
   "metadata": {},
   "outputs": [],
   "source": []
  },
  {
   "cell_type": "code",
   "execution_count": 40,
   "id": "46fcdc20-36c6-4b4f-a994-8040db8ed10d",
   "metadata": {},
   "outputs": [],
   "source": [
    "session_ids = np.arange(1, 6)\n",
    "genre_ids = np.arange(0, 6)\n",
    "time_stamps = np.random.rand(20)\n",
    "rating_data = np.random.choice(genre_ids, size=(20, 1), replace=True)\n",
    "rating_data = np.hstack([np.random.choice(session_ids, size=(20, 1)), rating_data, time_stamps.reshape(-1, 1)])\n",
    "rating_df = pd.DataFrame(rating_data, columns=['SessionId', 'GenreId', 'Time'])\n",
    "rating_df = rating_df.drop_duplicates(subset=['SessionId', 'GenreId'])\n",
    "rating_df['SessionId'] = rating_df['SessionId'].astype(int)\n",
    "rating_df['GenreId'] = rating_df['GenreId'].astype(int)"
   ]
  },
  {
   "cell_type": "code",
   "execution_count": 4,
   "id": "62a01bc6-9bc5-4dec-ac19-4f13a3d56750",
   "metadata": {},
   "outputs": [
    {
     "data": {
      "text/html": [
       "<div>\n",
       "<style scoped>\n",
       "    .dataframe tbody tr th:only-of-type {\n",
       "        vertical-align: middle;\n",
       "    }\n",
       "\n",
       "    .dataframe tbody tr th {\n",
       "        vertical-align: top;\n",
       "    }\n",
       "\n",
       "    .dataframe thead th {\n",
       "        text-align: right;\n",
       "    }\n",
       "</style>\n",
       "<table border=\"1\" class=\"dataframe\">\n",
       "  <thead>\n",
       "    <tr style=\"text-align: right;\">\n",
       "      <th></th>\n",
       "      <th>SessionId</th>\n",
       "      <th>GenreId</th>\n",
       "      <th>Time</th>\n",
       "    </tr>\n",
       "  </thead>\n",
       "  <tbody>\n",
       "    <tr>\n",
       "      <th>0</th>\n",
       "      <td>2</td>\n",
       "      <td>2</td>\n",
       "      <td>0.374540</td>\n",
       "    </tr>\n",
       "    <tr>\n",
       "      <th>1</th>\n",
       "      <td>2</td>\n",
       "      <td>1</td>\n",
       "      <td>0.950714</td>\n",
       "    </tr>\n",
       "    <tr>\n",
       "      <th>2</th>\n",
       "      <td>1</td>\n",
       "      <td>3</td>\n",
       "      <td>0.731994</td>\n",
       "    </tr>\n",
       "    <tr>\n",
       "      <th>3</th>\n",
       "      <td>2</td>\n",
       "      <td>3</td>\n",
       "      <td>0.598658</td>\n",
       "    </tr>\n",
       "    <tr>\n",
       "      <th>4</th>\n",
       "      <td>5</td>\n",
       "      <td>5</td>\n",
       "      <td>0.156019</td>\n",
       "    </tr>\n",
       "  </tbody>\n",
       "</table>\n",
       "</div>"
      ],
      "text/plain": [
       "   SessionId  GenreId      Time\n",
       "0          2        2  0.374540\n",
       "1          2        1  0.950714\n",
       "2          1        3  0.731994\n",
       "3          2        3  0.598658\n",
       "4          5        5  0.156019"
      ]
     },
     "execution_count": 4,
     "metadata": {},
     "output_type": "execute_result"
    }
   ],
   "source": [
    "rating_df.head()"
   ]
  },
  {
   "cell_type": "code",
   "execution_count": 5,
   "id": "e88a6ce1-1437-4291-805f-0bfb2a2b8169",
   "metadata": {},
   "outputs": [
    {
     "data": {
      "text/html": [
       "<div>\n",
       "<style scoped>\n",
       "    .dataframe tbody tr th:only-of-type {\n",
       "        vertical-align: middle;\n",
       "    }\n",
       "\n",
       "    .dataframe tbody tr th {\n",
       "        vertical-align: top;\n",
       "    }\n",
       "\n",
       "    .dataframe thead th {\n",
       "        text-align: right;\n",
       "    }\n",
       "</style>\n",
       "<table border=\"1\" class=\"dataframe\">\n",
       "  <thead>\n",
       "    <tr style=\"text-align: right;\">\n",
       "      <th>GenreId</th>\n",
       "      <th>0</th>\n",
       "      <th>1</th>\n",
       "      <th>2</th>\n",
       "      <th>3</th>\n",
       "      <th>4</th>\n",
       "      <th>5</th>\n",
       "    </tr>\n",
       "    <tr>\n",
       "      <th>SessionId</th>\n",
       "      <th></th>\n",
       "      <th></th>\n",
       "      <th></th>\n",
       "      <th></th>\n",
       "      <th></th>\n",
       "      <th></th>\n",
       "    </tr>\n",
       "  </thead>\n",
       "  <tbody>\n",
       "    <tr>\n",
       "      <th>1</th>\n",
       "      <td>0</td>\n",
       "      <td>0</td>\n",
       "      <td>0</td>\n",
       "      <td>1</td>\n",
       "      <td>1</td>\n",
       "      <td>0</td>\n",
       "    </tr>\n",
       "    <tr>\n",
       "      <th>2</th>\n",
       "      <td>0</td>\n",
       "      <td>1</td>\n",
       "      <td>1</td>\n",
       "      <td>1</td>\n",
       "      <td>1</td>\n",
       "      <td>1</td>\n",
       "    </tr>\n",
       "    <tr>\n",
       "      <th>3</th>\n",
       "      <td>0</td>\n",
       "      <td>0</td>\n",
       "      <td>1</td>\n",
       "      <td>0</td>\n",
       "      <td>0</td>\n",
       "      <td>0</td>\n",
       "    </tr>\n",
       "    <tr>\n",
       "      <th>4</th>\n",
       "      <td>1</td>\n",
       "      <td>0</td>\n",
       "      <td>1</td>\n",
       "      <td>1</td>\n",
       "      <td>0</td>\n",
       "      <td>1</td>\n",
       "    </tr>\n",
       "    <tr>\n",
       "      <th>5</th>\n",
       "      <td>1</td>\n",
       "      <td>0</td>\n",
       "      <td>0</td>\n",
       "      <td>1</td>\n",
       "      <td>0</td>\n",
       "      <td>1</td>\n",
       "    </tr>\n",
       "  </tbody>\n",
       "</table>\n",
       "</div>"
      ],
      "text/plain": [
       "GenreId    0  1  2  3  4  5\n",
       "SessionId                  \n",
       "1          0  0  0  1  1  0\n",
       "2          0  1  1  1  1  1\n",
       "3          0  0  1  0  0  0\n",
       "4          1  0  1  1  0  1\n",
       "5          1  0  0  1  0  1"
      ]
     },
     "execution_count": 5,
     "metadata": {},
     "output_type": "execute_result"
    }
   ],
   "source": [
    "one_hot_df = rating_df.pivot_table(index='SessionId', columns='GenreId', aggfunc=len, fill_value=0)\n",
    "one_hot_df.columns = one_hot_df.columns.droplevel(0)\n",
    "one_hot_df"
   ]
  },
  {
   "cell_type": "code",
   "execution_count": 6,
   "id": "050c2ae2-4b2f-477c-a2d0-758753283067",
   "metadata": {},
   "outputs": [],
   "source": [
    "user_id_mapping = {sid: i for i, sid in enumerate(session_ids)}\n",
    "genre_id_mapping = {iid: i for i, iid in enumerate(genre_ids)}"
   ]
  },
  {
   "cell_type": "code",
   "execution_count": 7,
   "id": "65eb71f1-ce1d-43b3-874e-e1317253c64d",
   "metadata": {},
   "outputs": [],
   "source": [
    "num_users = len(session_ids)\n",
    "num_genres = len(genre_ids)"
   ]
  },
  {
   "cell_type": "code",
   "execution_count": 8,
   "id": "876cf71b-8abb-42db-bff5-46608653974b",
   "metadata": {},
   "outputs": [],
   "source": [
    "user_genre_matrix = np.zeros((num_users, num_genres))\n",
    "for _, row in rating_df.iterrows():\n",
    "    user_id = user_id_mapping[row['SessionId']]\n",
    "    genre_id = genre_id_mapping[row['GenreId']]\n",
    "    user_genre_matrix[user_id, genre_id] = 1"
   ]
  },
  {
   "cell_type": "code",
   "execution_count": 9,
   "id": "4fb0bc76-bd63-4122-b06c-f6e2638c6068",
   "metadata": {},
   "outputs": [
    {
     "data": {
      "text/plain": [
       "array([[0., 0., 0., 1., 1., 0.],\n",
       "       [0., 1., 1., 1., 1., 1.],\n",
       "       [0., 0., 1., 0., 0., 0.],\n",
       "       [1., 0., 1., 1., 0., 1.],\n",
       "       [1., 0., 0., 1., 0., 1.]])"
      ]
     },
     "execution_count": 9,
     "metadata": {},
     "output_type": "execute_result"
    }
   ],
   "source": [
    "user_genre_matrix"
   ]
  },
  {
   "cell_type": "code",
   "execution_count": 43,
   "id": "17f8569c-fb4f-4b00-8797-24a1c82cc375",
   "metadata": {},
   "outputs": [],
   "source": [
    "movie_columns = ['Movie1', 'Movie2', 'Movie3', 'Movie4', 'Movie5']\n",
    "item_ids = np.arange(1, 6)"
   ]
  },
  {
   "cell_type": "code",
   "execution_count": 45,
   "id": "123e423a-13f6-4498-a9d5-d2fe4c4eaaa1",
   "metadata": {},
   "outputs": [
    {
     "data": {
      "text/plain": [
       "numpy.ndarray"
      ]
     },
     "execution_count": 45,
     "metadata": {},
     "output_type": "execute_result"
    }
   ],
   "source": [
    "type(item_ids)"
   ]
  },
  {
   "cell_type": "code",
   "execution_count": null,
   "id": "368c1057-462f-408b-ae77-e8d93307b6c7",
   "metadata": {},
   "outputs": [],
   "source": []
  },
  {
   "cell_type": "code",
   "execution_count": 11,
   "id": "29d03af4-b79d-4037-9862-304958ad2d28",
   "metadata": {
    "scrolled": true
   },
   "outputs": [],
   "source": [
    "movie_data = np.random.randint(0, 2, size=(5, len(movie_columns)))\n",
    "movie_df = pd.DataFrame(movie_data, columns=movie_columns)\n",
    "movie_df.insert(0, 'SessionId', item_ids)"
   ]
  },
  {
   "cell_type": "code",
   "execution_count": 12,
   "id": "98c89580-bd71-4dc2-85d8-aab17e68b2ef",
   "metadata": {},
   "outputs": [
    {
     "data": {
      "text/html": [
       "<div>\n",
       "<style scoped>\n",
       "    .dataframe tbody tr th:only-of-type {\n",
       "        vertical-align: middle;\n",
       "    }\n",
       "\n",
       "    .dataframe tbody tr th {\n",
       "        vertical-align: top;\n",
       "    }\n",
       "\n",
       "    .dataframe thead th {\n",
       "        text-align: right;\n",
       "    }\n",
       "</style>\n",
       "<table border=\"1\" class=\"dataframe\">\n",
       "  <thead>\n",
       "    <tr style=\"text-align: right;\">\n",
       "      <th></th>\n",
       "      <th>SessionId</th>\n",
       "      <th>Movie1</th>\n",
       "      <th>Movie2</th>\n",
       "      <th>Movie3</th>\n",
       "      <th>Movie4</th>\n",
       "      <th>Movie5</th>\n",
       "    </tr>\n",
       "  </thead>\n",
       "  <tbody>\n",
       "    <tr>\n",
       "      <th>0</th>\n",
       "      <td>1</td>\n",
       "      <td>0</td>\n",
       "      <td>1</td>\n",
       "      <td>1</td>\n",
       "      <td>1</td>\n",
       "      <td>1</td>\n",
       "    </tr>\n",
       "    <tr>\n",
       "      <th>1</th>\n",
       "      <td>2</td>\n",
       "      <td>1</td>\n",
       "      <td>1</td>\n",
       "      <td>1</td>\n",
       "      <td>1</td>\n",
       "      <td>0</td>\n",
       "    </tr>\n",
       "    <tr>\n",
       "      <th>2</th>\n",
       "      <td>3</td>\n",
       "      <td>1</td>\n",
       "      <td>0</td>\n",
       "      <td>1</td>\n",
       "      <td>1</td>\n",
       "      <td>0</td>\n",
       "    </tr>\n",
       "    <tr>\n",
       "      <th>3</th>\n",
       "      <td>4</td>\n",
       "      <td>1</td>\n",
       "      <td>0</td>\n",
       "      <td>1</td>\n",
       "      <td>1</td>\n",
       "      <td>0</td>\n",
       "    </tr>\n",
       "    <tr>\n",
       "      <th>4</th>\n",
       "      <td>5</td>\n",
       "      <td>1</td>\n",
       "      <td>0</td>\n",
       "      <td>1</td>\n",
       "      <td>0</td>\n",
       "      <td>0</td>\n",
       "    </tr>\n",
       "  </tbody>\n",
       "</table>\n",
       "</div>"
      ],
      "text/plain": [
       "   SessionId  Movie1  Movie2  Movie3  Movie4  Movie5\n",
       "0          1       0       1       1       1       1\n",
       "1          2       1       1       1       1       0\n",
       "2          3       1       0       1       1       0\n",
       "3          4       1       0       1       1       0\n",
       "4          5       1       0       1       0       0"
      ]
     },
     "execution_count": 12,
     "metadata": {},
     "output_type": "execute_result"
    }
   ],
   "source": [
    "movie_df.head()"
   ]
  },
  {
   "cell_type": "code",
   "execution_count": 13,
   "id": "9002e331-afa7-4adf-b1bc-7cf3cd0d2fd9",
   "metadata": {},
   "outputs": [],
   "source": [
    "num_item = len(movie_columns)\n",
    "user_movie_matrix = movie_df[movie_columns].to_numpy()"
   ]
  },
  {
   "cell_type": "code",
   "execution_count": 14,
   "id": "df9a8e7f-3e69-4719-8227-fc8802442294",
   "metadata": {},
   "outputs": [
    {
     "data": {
      "text/plain": [
       "array([[0, 1, 1, 1, 1],\n",
       "       [1, 1, 1, 1, 0],\n",
       "       [1, 0, 1, 1, 0],\n",
       "       [1, 0, 1, 1, 0],\n",
       "       [1, 0, 1, 0, 0]])"
      ]
     },
     "execution_count": 14,
     "metadata": {},
     "output_type": "execute_result"
    }
   ],
   "source": [
    "user_movie_matrix"
   ]
  },
  {
   "cell_type": "code",
   "execution_count": 15,
   "id": "887eac72-1ba1-4e27-a374-e2b7ae8d709d",
   "metadata": {},
   "outputs": [],
   "source": [
    "class LinUCB:\n",
    "    def __init__(self, alpha, num_users, num_genres, num_item):\n",
    "        self.alpha = alpha\n",
    "        self.num_users = num_users\n",
    "        self.num_genres = num_genres\n",
    "        self.num_item = num_item\n",
    "        self.d = num_genres + num_item\n",
    "        self.A = np.repeat(np.identity(self.d)[np.newaxis, :, :], num_genres, axis=0)\n",
    "        self.b = np.zeros((num_genres, self.d))\n",
    "\n",
    "    def fit(self, user_genre_matrix, user_movie_matrix, num_epochs):\n",
    "        avg_rewards = []\n",
    "        for epoch in range(num_epochs):\n",
    "            rewards = []\n",
    "            for user_id in range(self.num_users):\n",
    "                user_features_vector = user_genre_matrix[user_id]\n",
    "                user_movie_vector = user_movie_matrix[user_id]\n",
    "    \n",
    "                combined_features = np.concatenate((user_features_vector, user_movie_vector))\n",
    "    \n",
    "                p_t = np.zeros(self.num_genres)\n",
    "                for item_id in range(self.num_genres):\n",
    "                    x_ta = combined_features.reshape(-1, 1)\n",
    "                    A_a_inv = np.linalg.inv(self.A[item_id])\n",
    "                    theta_a = A_a_inv.dot(self.b[item_id])\n",
    "                    p_t[item_id] = theta_a.T.dot(x_ta) + self.alpha * np.sqrt(x_ta.T.dot(A_a_inv).dot(x_ta))\n",
    "\n",
    "                max_p_t = np.max(p_t)\n",
    "                max_idxs = np.argwhere(p_t == max_p_t).flatten()\n",
    "                a_t = np.random.choice(max_idxs)\n",
    "\n",
    "                r_t = 1 if user_genre_matrix[user_id, a_t] == 1 else 0\n",
    "                rewards.append(r_t)\n",
    "\n",
    "                ####print####\n",
    "                # if user_id == 1:\n",
    "                #     print('---')\n",
    "                #     print(x_ta)\n",
    "                #     print(a_t)\n",
    "                #     print(r_t)\n",
    "                ####print####\n",
    "\n",
    "                x_t_at = combined_features[a_t].reshape(-1, 1)\n",
    "                self.A[a_t] = self.A[a_t] + x_t_at.dot(x_t_at.T)\n",
    "                self.b[a_t] = self.b[a_t] + r_t * x_t_at.flatten()\n",
    "\n",
    "            avg_rewards.append(np.mean(rewards))\n",
    "\n",
    "        return avg_rewards\n",
    "\n",
    "    def predict(self, user_features, context_features):\n",
    "        p_t = np.zeros(self.num_genres)\n",
    "        \n",
    "        for genre_id in range(self.num_genres):\n",
    "            user_features_vector = user_features.reshape(-1)\n",
    "            context_features_vector = context_features.reshape(-1)\n",
    "        \n",
    "            combined_features = np.concatenate((user_features_vector, context_features_vector))\n",
    "        \n",
    "            x_ta = combined_features.reshape(-1, 1)\n",
    "            A_a_inv = np.linalg.inv(self.A[genre_id])\n",
    "            theta_a = A_a_inv.dot(self.b[genre_id])\n",
    "        \n",
    "            p_t[genre_id] = theta_a.T.dot(x_ta) + self.alpha * np.sqrt(x_ta.T.dot(A_a_inv).dot(x_ta))\n",
    "    \n",
    "        recommended_genres = np.argsort(-p_t)\n",
    "        return recommended_genres\n",
    "\n",
    "    def update(self, user_id, item_id, reward, user_features, context_features):\n",
    "        user_features_vector = user_features.reshape(-1)\n",
    "        context_features_vector = context_features.reshape(-1)\n",
    "        combined_features = np.concatenate((user_features_vector, context_features_vector))\n",
    "    \n",
    "        x_t_at = combined_features.reshape(-1, 1)\n",
    "    \n",
    "        self.A[item_id] = self.A[item_id] + x_t_at.dot(x_t_at.T)\n",
    "        self.b[item_id] = self.b[item_id] + reward * x_t_at.flatten()"
   ]
  },
  {
   "cell_type": "code",
   "execution_count": 16,
   "id": "e2c8c15f-fd86-4b5c-b0d2-3796aa2433d0",
   "metadata": {},
   "outputs": [],
   "source": [
    "linucb_model = LinUCB(alpha=1.0, num_users=num_users, num_genres=num_genres, num_item=num_item)\n",
    "avg_rewards = linucb_model.fit(user_genre_matrix, user_movie_matrix, num_epochs=10)"
   ]
  },
  {
   "cell_type": "code",
   "execution_count": 17,
   "id": "c9f76ee3-c439-4fcd-bd5e-e96920131019",
   "metadata": {},
   "outputs": [
    {
     "data": {
      "text/plain": [
       "[0.2, 0.4, 0.4, 0.4, 0.4, 0.4, 0.4, 0.2, 0.6, 1.0]"
      ]
     },
     "execution_count": 17,
     "metadata": {},
     "output_type": "execute_result"
    }
   ],
   "source": [
    "avg_rewards"
   ]
  },
  {
   "cell_type": "code",
   "execution_count": 18,
   "id": "e80dbe5a-9240-4960-a659-978d4ef93c77",
   "metadata": {},
   "outputs": [
    {
     "data": {
      "text/plain": [
       "array([0., 0., 0., 1., 1., 0.])"
      ]
     },
     "execution_count": 18,
     "metadata": {},
     "output_type": "execute_result"
    }
   ],
   "source": [
    "selected_user_id = 0\n",
    "selected_user_features = user_genre_matrix[selected_user_id]\n",
    "selected_user_features"
   ]
  },
  {
   "cell_type": "code",
   "execution_count": 19,
   "id": "d743d752-5e4c-4057-925e-cc397ebdf0f1",
   "metadata": {},
   "outputs": [
    {
     "data": {
      "text/plain": [
       "array([0, 1, 1, 1, 1])"
      ]
     },
     "execution_count": 19,
     "metadata": {},
     "output_type": "execute_result"
    }
   ],
   "source": [
    "selected_contex_features = user_movie_matrix[selected_user_id]\n",
    "selected_contex_features"
   ]
  },
  {
   "cell_type": "code",
   "execution_count": 20,
   "id": "67fb7edb-6a0c-429b-966a-7267c487b8f1",
   "metadata": {},
   "outputs": [
    {
     "name": "stdout",
     "output_type": "stream",
     "text": [
      "[1 4 0 2 3 5]\n",
      "1\n"
     ]
    }
   ],
   "source": [
    "predicted_items = linucb_model.predict(selected_user_features, selected_contex_features)\n",
    "top_predicted_item = predicted_items[0]\n",
    "print(predicted_items)\n",
    "print(top_predicted_item)"
   ]
  },
  {
   "cell_type": "code",
   "execution_count": 21,
   "id": "ead51e13-dd79-4362-8b04-cc7485b87f6b",
   "metadata": {},
   "outputs": [],
   "source": [
    "# user_genre_matrix"
   ]
  },
  {
   "cell_type": "code",
   "execution_count": 22,
   "id": "8d8a45e6-9327-4697-927f-c2c883d36e43",
   "metadata": {},
   "outputs": [],
   "source": [
    "# user_movie_matrix"
   ]
  },
  {
   "cell_type": "code",
   "execution_count": 23,
   "id": "7830f708-6fb0-4743-a3cc-dd05b261812e",
   "metadata": {},
   "outputs": [],
   "source": [
    "actual_reward = 1\n",
    "linucb_model.update(selected_user_id, top_predicted_item, actual_reward, selected_user_features, selected_contex_features)"
   ]
  }
 ],
 "metadata": {
  "kernelspec": {
   "display_name": "Python 3 (ipykernel)",
   "language": "python",
   "name": "python3"
  },
  "language_info": {
   "codemirror_mode": {
    "name": "ipython",
    "version": 3
   },
   "file_extension": ".py",
   "mimetype": "text/x-python",
   "name": "python",
   "nbconvert_exporter": "python",
   "pygments_lexer": "ipython3",
   "version": "3.9.17"
  }
 },
 "nbformat": 4,
 "nbformat_minor": 5
}
