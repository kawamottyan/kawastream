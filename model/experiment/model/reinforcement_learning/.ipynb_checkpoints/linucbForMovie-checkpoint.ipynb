{
 "cells": [
  {
   "cell_type": "code",
   "execution_count": 1,
   "id": "28169b83-1c66-4815-bacc-161d6a5e300f",
   "metadata": {},
   "outputs": [],
   "source": [
    "import numpy as np\n",
    "import pandas as pd\n",
    "\n",
    "# データの生成\n",
    "session_ids = np.arange(1, 6)\n",
    "item_ids = np.arange(1, 6)\n",
    "time_stamps = np.random.rand(20)\n",
    "rating_data = np.random.choice(item_ids, size=(20, 1), replace=True)\n",
    "rating_data = np.hstack([np.random.choice(session_ids, size=(20, 1)), rating_data, time_stamps.reshape(-1, 1)])\n",
    "rating_df = pd.DataFrame(rating_data, columns=['SessionId', 'ItemId', 'Time'])\n",
    "rating_df = rating_df.drop_duplicates(subset=['SessionId', 'ItemId'])\n",
    "\n",
    "# マッピングの作成\n",
    "user_id_mapping = {sid: i for i, sid in enumerate(session_ids)}\n",
    "item_id_mapping = {iid: i for i, iid in enumerate(item_ids)}\n",
    "\n",
    "# ユーザーごとのアイテムの選択を格納するマトリックス\n",
    "num_users = len(session_ids)\n",
    "num_items = len(item_ids)\n",
    "matrix = np.zeros((num_users, num_items))\n",
    "for _, row in rating_df.iterrows():\n",
    "    user_id = user_id_mapping[row['SessionId']]\n",
    "    item_id = item_id_mapping[row['ItemId']]\n",
    "    matrix[user_id, item_id] = 1"
   ]
  },
  {
   "cell_type": "code",
   "execution_count": 2,
   "id": "5365c5c6-afa5-4eec-92e2-6487830d3be5",
   "metadata": {},
   "outputs": [],
   "source": [
    "genres_columns = ['Action', 'Comedy', 'Drama', 'Mystery', 'Romance', 'Thriller']\n",
    "genre_data = np.random.randint(0, 2, size=(5, len(genres_columns)))\n",
    "movie_genres = pd.DataFrame(genre_data, columns=genres_columns)\n",
    "movie_genres.insert(0, 'ItemId', item_ids)\n",
    "# ジャンルのランダムな特徴を生成する\n",
    "num_genres = len(genres_columns)\n",
    "item_genres = movie_genres[genres_columns].to_numpy()"
   ]
  },
  {
   "cell_type": "code",
   "execution_count": 3,
   "id": "887eac72-1ba1-4e27-a374-e2b7ae8d709d",
   "metadata": {},
   "outputs": [],
   "source": [
    "class LinUCB:\n",
    "    def __init__(self, alpha, num_users, num_items, num_genres):\n",
    "        self.alpha = alpha\n",
    "        self.num_users = num_users\n",
    "        self.num_items = num_items\n",
    "        self.num_genres = num_genres\n",
    "        self.d = num_genres + num_items\n",
    "\n",
    "        # パラメータの初期化\n",
    "        self.A = np.repeat(np.identity(self.d)[np.newaxis, :, :], num_items, axis=0)\n",
    "        self.b = np.zeros((num_items, self.d))\n",
    "\n",
    "    def fit(self, matrix, item_genres, num_epochs):\n",
    "        avg_rewards = []\n",
    "        for epoch in range(num_epochs):\n",
    "            rewards = []\n",
    "            for user_id in range(self.num_users):\n",
    "                user_features_vector = matrix[user_id]\n",
    "                arm_features = np.concatenate((np.tile(user_features_vector, (self.num_items, 1)), item_genres), axis=1)\n",
    "\n",
    "                p_t = np.zeros(self.num_items)\n",
    "                for item_id in range(self.num_items):\n",
    "                    x_ta = arm_features[item_id].reshape(-1, 1)\n",
    "                    A_a_inv = np.linalg.inv(self.A[item_id])\n",
    "                    theta_a = A_a_inv.dot(self.b[item_id])\n",
    "                    p_t[item_id] = theta_a.T.dot(x_ta) + self.alpha * np.sqrt(x_ta.T.dot(A_a_inv).dot(x_ta))\n",
    "\n",
    "                max_p_t = np.max(p_t)\n",
    "                max_idxs = np.argwhere(p_t == max_p_t).flatten()\n",
    "                a_t = np.random.choice(max_idxs)\n",
    "\n",
    "                r_t = 1 if matrix[user_id, a_t] == 1 else 0\n",
    "                \n",
    "                rewards.append(r_t)\n",
    "\n",
    "                # パラメータの更新\n",
    "                x_t_at = arm_features[a_t].reshape(-1, 1)\n",
    "                self.A[a_t] = self.A[a_t] + x_t_at.dot(x_t_at.T)\n",
    "                self.b[a_t] = self.b[a_t] + r_t * x_t_at.flatten()\n",
    "\n",
    "            avg_rewards.append(np.mean(rewards))\n",
    "\n",
    "        return avg_rewards\n",
    "\n",
    "    def predict(self, user_features, item_genres):\n",
    "        arm_features = np.concatenate((np.tile(user_features, (self.num_items, 1)), item_genres), axis=1)\n",
    "        p_t = np.zeros(self.num_items)\n",
    "    \n",
    "        for item_id in range(self.num_items):\n",
    "            x_ta = arm_features[item_id].reshape(-1, 1)\n",
    "            A_a_inv = np.linalg.inv(self.A[item_id])\n",
    "            theta_a = A_a_inv.dot(self.b[item_id])\n",
    "            p_t[item_id] = theta_a.T.dot(x_ta) + self.alpha * np.sqrt(x_ta.T.dot(A_a_inv).dot(x_ta))\n",
    "    \n",
    "        recommended_items = np.argsort(-p_t)\n",
    "        return recommended_items\n",
    "\n",
    "    def update(self, user_id, item_id, reward, user_features, item_genres):\n",
    "        user_features_vector = user_features.reshape(-1)\n",
    "        item_genres_vector = item_genres[item_id].reshape(-1)\n",
    "    \n",
    "        # Concatenating the feature vectors\n",
    "        x_t_at = np.concatenate((user_features_vector, item_genres_vector))\n",
    "    \n",
    "        # Ensure x_t_at is a 2D column vector\n",
    "        x_t_at = x_t_at.reshape(-1, 1)\n",
    "    \n",
    "        # Update the model\n",
    "        self.A[item_id] = self.A[item_id] + x_t_at.dot(x_t_at.T)\n",
    "        self.b[item_id] = self.b[item_id] + reward * x_t_at.flatten()"
   ]
  },
  {
   "cell_type": "code",
   "execution_count": 18,
   "id": "e2c8c15f-fd86-4b5c-b0d2-3796aa2433d0",
   "metadata": {},
   "outputs": [],
   "source": [
    "# LinUCBクラスのインスタンス化と使用例\n",
    "linucb_model = LinUCB(alpha=1.0, num_users=num_users, num_items=num_items, num_genres=num_genres)\n",
    "avg_rewards = linucb_model.fit(matrix, item_genres, num_epochs=10)"
   ]
  },
  {
   "cell_type": "code",
   "execution_count": 19,
   "id": "c9f76ee3-c439-4fcd-bd5e-e96920131019",
   "metadata": {},
   "outputs": [
    {
     "data": {
      "text/plain": [
       "[0.6, 0.6, 1.0, 1.0, 0.8, 1.0, 1.0, 0.8, 1.0, 0.8]"
      ]
     },
     "execution_count": 19,
     "metadata": {},
     "output_type": "execute_result"
    }
   ],
   "source": [
    "avg_rewards"
   ]
  },
  {
   "cell_type": "code",
   "execution_count": 20,
   "id": "19e5286f-ce06-47ee-8c2e-c3e7c4d47fa2",
   "metadata": {},
   "outputs": [
    {
     "data": {
      "text/plain": [
       "array([[1., 1., 0., 1., 1.],\n",
       "       [0., 0., 0., 0., 1.],\n",
       "       [0., 0., 1., 0., 1.],\n",
       "       [1., 0., 1., 0., 1.],\n",
       "       [1., 1., 0., 1., 1.]])"
      ]
     },
     "execution_count": 20,
     "metadata": {},
     "output_type": "execute_result"
    }
   ],
   "source": [
    "user_features = matrix\n",
    "user_features"
   ]
  },
  {
   "cell_type": "code",
   "execution_count": 21,
   "id": "e80dbe5a-9240-4960-a659-978d4ef93c77",
   "metadata": {},
   "outputs": [
    {
     "data": {
      "text/plain": [
       "array([1., 1., 0., 1., 1.])"
      ]
     },
     "execution_count": 21,
     "metadata": {},
     "output_type": "execute_result"
    }
   ],
   "source": [
    "selected_user_id = 0\n",
    "selected_user_features = user_features[selected_user_id]\n",
    "selected_user_features"
   ]
  },
  {
   "cell_type": "code",
   "execution_count": 22,
   "id": "67fb7edb-6a0c-429b-966a-7267c487b8f1",
   "metadata": {},
   "outputs": [
    {
     "data": {
      "text/plain": [
       "4"
      ]
     },
     "execution_count": 22,
     "metadata": {},
     "output_type": "execute_result"
    }
   ],
   "source": [
    "predicted_items = linucb_model.predict(selected_user_features, item_genres)\n",
    "top_predicted_item = predicted_items[0]\n",
    "top_predicted_item"
   ]
  },
  {
   "cell_type": "code",
   "execution_count": 23,
   "id": "7830f708-6fb0-4743-a3cc-dd05b261812e",
   "metadata": {},
   "outputs": [],
   "source": [
    "actual_reward = 1\n",
    "linucb_model.update(selected_user_id, top_predicted_item, actual_reward, selected_user_features, item_genres)"
   ]
  }
 ],
 "metadata": {
  "kernelspec": {
   "display_name": "Python 3 (ipykernel)",
   "language": "python",
   "name": "python3"
  },
  "language_info": {
   "codemirror_mode": {
    "name": "ipython",
    "version": 3
   },
   "file_extension": ".py",
   "mimetype": "text/x-python",
   "name": "python",
   "nbconvert_exporter": "python",
   "pygments_lexer": "ipython3",
   "version": "3.9.17"
  }
 },
 "nbformat": 4,
 "nbformat_minor": 5
}
