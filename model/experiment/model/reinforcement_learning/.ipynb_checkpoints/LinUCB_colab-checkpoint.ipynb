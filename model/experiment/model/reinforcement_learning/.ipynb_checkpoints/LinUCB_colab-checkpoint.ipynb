{
 "cells": [
  {
   "cell_type": "markdown",
   "id": "2c9b1dc8-28b8-4fff-b406-d64eb6c19744",
   "metadata": {},
   "source": [
    "# 準備"
   ]
  },
  {
   "cell_type": "code",
   "execution_count": 1,
   "id": "adbbad01-dd58-428a-8b95-18419d5050eb",
   "metadata": {},
   "outputs": [],
   "source": [
    "import pandas as pd\n",
    "import numpy as np\n",
    "import json\n",
    "import joblib\n",
    "\n",
    "from scipy.sparse import csr_matrix\n",
    "from sklearn.decomposition import TruncatedSVD\n",
    "\n",
    "import matplotlib.pyplot as plt\n",
    "\n",
    "from tqdm import tqdm\n",
    "tqdm.pandas()"
   ]
  },
  {
   "cell_type": "code",
   "execution_count": 2,
   "id": "51bf73ec-4af6-4c31-9538-cef8b17c7200",
   "metadata": {},
   "outputs": [],
   "source": [
    "movie_df = pd.read_csv('../../../data/movies_df.csv')\n",
    "rating_df = pd.read_csv('../../../data/All.csv')"
   ]
  },
  {
   "cell_type": "code",
   "execution_count": 3,
   "id": "ca369871-b5e6-41b5-b67f-126a98b941ed",
   "metadata": {},
   "outputs": [],
   "source": [
    "np.random.seed(42)"
   ]
  },
  {
   "cell_type": "markdown",
   "id": "70900342-dcec-42cd-be8d-af8bfc079d58",
   "metadata": {},
   "source": [
    "# データ"
   ]
  },
  {
   "cell_type": "markdown",
   "id": "b65f9fb2-d1f7-4ffd-a20c-1aa6c7e9e3b0",
   "metadata": {},
   "source": [
    "### リスト作成\n",
    "- ユーザーID、映画ID、ジャンルのリストを作成\n",
    "- 映画ごとのジャンルのデータをワンホットで作成"
   ]
  },
  {
   "cell_type": "code",
   "execution_count": 4,
   "id": "209305d2-1d17-4444-a1d4-91d7ad58413c",
   "metadata": {},
   "outputs": [
    {
     "data": {
      "text/plain": [
       "[119, 142, 156]"
      ]
     },
     "execution_count": 4,
     "metadata": {},
     "output_type": "execute_result"
    }
   ],
   "source": [
    "user_list = rating_df['SessionId'].unique().tolist()\n",
    "user_list[0:3]"
   ]
  },
  {
   "cell_type": "code",
   "execution_count": 5,
   "id": "6978c781-1ffd-46dd-b471-fa3f429326fc",
   "metadata": {},
   "outputs": [
    {
     "data": {
      "text/plain": [
       "[2, 3, 5]"
      ]
     },
     "execution_count": 5,
     "metadata": {},
     "output_type": "execute_result"
    }
   ],
   "source": [
    "item_list = sorted(rating_df['ItemId'].unique())\n",
    "item_list[0:3]"
   ]
  },
  {
   "cell_type": "code",
   "execution_count": 6,
   "id": "9df9bbdb-cd58-4675-ac6f-bfb79e1d0c5a",
   "metadata": {},
   "outputs": [
    {
     "data": {
      "text/html": [
       "<div>\n",
       "<style scoped>\n",
       "    .dataframe tbody tr th:only-of-type {\n",
       "        vertical-align: middle;\n",
       "    }\n",
       "\n",
       "    .dataframe tbody tr th {\n",
       "        vertical-align: top;\n",
       "    }\n",
       "\n",
       "    .dataframe thead th {\n",
       "        text-align: right;\n",
       "    }\n",
       "</style>\n",
       "<table border=\"1\" class=\"dataframe\">\n",
       "  <thead>\n",
       "    <tr style=\"text-align: right;\">\n",
       "      <th></th>\n",
       "      <th>ItemId</th>\n",
       "      <th>Action</th>\n",
       "      <th>Adventure</th>\n",
       "      <th>Animation</th>\n",
       "      <th>Comedy</th>\n",
       "      <th>Crime</th>\n",
       "      <th>Documentary</th>\n",
       "      <th>Drama</th>\n",
       "      <th>Family</th>\n",
       "      <th>Fantasy</th>\n",
       "      <th>History</th>\n",
       "      <th>Horror</th>\n",
       "      <th>Music</th>\n",
       "      <th>Mystery</th>\n",
       "      <th>Romance</th>\n",
       "      <th>Science Fiction</th>\n",
       "      <th>TV Movie</th>\n",
       "      <th>Thriller</th>\n",
       "      <th>War</th>\n",
       "      <th>Western</th>\n",
       "    </tr>\n",
       "  </thead>\n",
       "  <tbody>\n",
       "    <tr>\n",
       "      <th>0</th>\n",
       "      <td>2</td>\n",
       "      <td>0</td>\n",
       "      <td>0</td>\n",
       "      <td>0</td>\n",
       "      <td>1</td>\n",
       "      <td>1</td>\n",
       "      <td>0</td>\n",
       "      <td>1</td>\n",
       "      <td>0</td>\n",
       "      <td>0</td>\n",
       "      <td>0</td>\n",
       "      <td>0</td>\n",
       "      <td>0</td>\n",
       "      <td>0</td>\n",
       "      <td>1</td>\n",
       "      <td>0</td>\n",
       "      <td>0</td>\n",
       "      <td>0</td>\n",
       "      <td>0</td>\n",
       "      <td>0</td>\n",
       "    </tr>\n",
       "    <tr>\n",
       "      <th>1</th>\n",
       "      <td>3</td>\n",
       "      <td>0</td>\n",
       "      <td>0</td>\n",
       "      <td>0</td>\n",
       "      <td>1</td>\n",
       "      <td>0</td>\n",
       "      <td>0</td>\n",
       "      <td>1</td>\n",
       "      <td>0</td>\n",
       "      <td>0</td>\n",
       "      <td>0</td>\n",
       "      <td>0</td>\n",
       "      <td>0</td>\n",
       "      <td>0</td>\n",
       "      <td>1</td>\n",
       "      <td>0</td>\n",
       "      <td>0</td>\n",
       "      <td>0</td>\n",
       "      <td>0</td>\n",
       "      <td>0</td>\n",
       "    </tr>\n",
       "    <tr>\n",
       "      <th>2</th>\n",
       "      <td>5</td>\n",
       "      <td>0</td>\n",
       "      <td>0</td>\n",
       "      <td>0</td>\n",
       "      <td>1</td>\n",
       "      <td>0</td>\n",
       "      <td>0</td>\n",
       "      <td>0</td>\n",
       "      <td>0</td>\n",
       "      <td>0</td>\n",
       "      <td>0</td>\n",
       "      <td>0</td>\n",
       "      <td>0</td>\n",
       "      <td>0</td>\n",
       "      <td>0</td>\n",
       "      <td>0</td>\n",
       "      <td>0</td>\n",
       "      <td>0</td>\n",
       "      <td>0</td>\n",
       "      <td>0</td>\n",
       "    </tr>\n",
       "  </tbody>\n",
       "</table>\n",
       "</div>"
      ],
      "text/plain": [
       "   ItemId  Action  Adventure  Animation  Comedy  Crime  Documentary  Drama  \\\n",
       "0       2       0          0          0       1      1            0      1   \n",
       "1       3       0          0          0       1      0            0      1   \n",
       "2       5       0          0          0       1      0            0      0   \n",
       "\n",
       "   Family  Fantasy  History  Horror  Music  Mystery  Romance  Science Fiction  \\\n",
       "0       0        0        0       0      0        0        1                0   \n",
       "1       0        0        0       0      0        0        1                0   \n",
       "2       0        0        0       0      0        0        0                0   \n",
       "\n",
       "   TV Movie  Thriller  War  Western  \n",
       "0         0         0    0        0  \n",
       "1         0         0    0        0  \n",
       "2         0         0    0        0  "
      ]
     },
     "execution_count": 6,
     "metadata": {},
     "output_type": "execute_result"
    }
   ],
   "source": [
    "selected_columns = movie_df.filter(regex='^(tmdbId|genre_)')\n",
    "for col in ['genre_names', 'genre_ids']:\n",
    "    if col in selected_columns:\n",
    "        selected_columns = selected_columns.drop(columns=[col])\n",
    "selected_columns.columns = selected_columns.columns.str.replace('genre_', '')\n",
    "movie_genres_onehot = selected_columns.rename(columns={'tmdbId': 'ItemId'})\n",
    "movie_genres_onehot.head(3)"
   ]
  },
  {
   "cell_type": "code",
   "execution_count": 7,
   "id": "c2a43e08-f687-46da-b0b4-fa4fe4ff76fc",
   "metadata": {},
   "outputs": [
    {
     "data": {
      "text/plain": [
       "['Action', 'Adventure', 'Animation']"
      ]
     },
     "execution_count": 7,
     "metadata": {},
     "output_type": "execute_result"
    }
   ],
   "source": [
    "columns = movie_genres_onehot.columns.tolist()\n",
    "genre_list = [col for col in columns if col != 'ItemId']\n",
    "genre_list[0:3]"
   ]
  },
  {
   "cell_type": "markdown",
   "id": "00e923ef-a31f-4a35-81e6-d1044df1f66f",
   "metadata": {},
   "source": [
    "### "
   ]
  },
  {
   "cell_type": "markdown",
   "id": "b78af134-8220-4e83-a791-d1c94ffeee17",
   "metadata": {},
   "source": [
    "### データフレームを作成\n",
    "- ユーザーごとの視聴したジャンルをカウント\n",
    "- ユーザーが視聴した映画のジャンルの上位3つを取得しワンホットで保存"
   ]
  },
  {
   "cell_type": "code",
   "execution_count": 8,
   "id": "94c2f92a-0242-410e-a621-27a4f00978c0",
   "metadata": {},
   "outputs": [
    {
     "data": {
      "text/html": [
       "<div>\n",
       "<style scoped>\n",
       "    .dataframe tbody tr th:only-of-type {\n",
       "        vertical-align: middle;\n",
       "    }\n",
       "\n",
       "    .dataframe tbody tr th {\n",
       "        vertical-align: top;\n",
       "    }\n",
       "\n",
       "    .dataframe thead th {\n",
       "        text-align: right;\n",
       "    }\n",
       "</style>\n",
       "<table border=\"1\" class=\"dataframe\">\n",
       "  <thead>\n",
       "    <tr style=\"text-align: right;\">\n",
       "      <th></th>\n",
       "      <th>Action</th>\n",
       "      <th>Adventure</th>\n",
       "      <th>Animation</th>\n",
       "      <th>Comedy</th>\n",
       "      <th>Crime</th>\n",
       "      <th>Documentary</th>\n",
       "      <th>Drama</th>\n",
       "      <th>Family</th>\n",
       "      <th>Fantasy</th>\n",
       "      <th>History</th>\n",
       "      <th>Horror</th>\n",
       "      <th>Music</th>\n",
       "      <th>Mystery</th>\n",
       "      <th>Romance</th>\n",
       "      <th>Science Fiction</th>\n",
       "      <th>TV Movie</th>\n",
       "      <th>Thriller</th>\n",
       "      <th>War</th>\n",
       "      <th>Western</th>\n",
       "    </tr>\n",
       "    <tr>\n",
       "      <th>SessionId</th>\n",
       "      <th></th>\n",
       "      <th></th>\n",
       "      <th></th>\n",
       "      <th></th>\n",
       "      <th></th>\n",
       "      <th></th>\n",
       "      <th></th>\n",
       "      <th></th>\n",
       "      <th></th>\n",
       "      <th></th>\n",
       "      <th></th>\n",
       "      <th></th>\n",
       "      <th></th>\n",
       "      <th></th>\n",
       "      <th></th>\n",
       "      <th></th>\n",
       "      <th></th>\n",
       "      <th></th>\n",
       "      <th></th>\n",
       "    </tr>\n",
       "  </thead>\n",
       "  <tbody>\n",
       "    <tr>\n",
       "      <th>1</th>\n",
       "      <td>32</td>\n",
       "      <td>45</td>\n",
       "      <td>4</td>\n",
       "      <td>19</td>\n",
       "      <td>9</td>\n",
       "      <td>0</td>\n",
       "      <td>17</td>\n",
       "      <td>10</td>\n",
       "      <td>38</td>\n",
       "      <td>2</td>\n",
       "      <td>19</td>\n",
       "      <td>0</td>\n",
       "      <td>5</td>\n",
       "      <td>3</td>\n",
       "      <td>17</td>\n",
       "      <td>0</td>\n",
       "      <td>17</td>\n",
       "      <td>3</td>\n",
       "      <td>1</td>\n",
       "    </tr>\n",
       "    <tr>\n",
       "      <th>2</th>\n",
       "      <td>14</td>\n",
       "      <td>17</td>\n",
       "      <td>0</td>\n",
       "      <td>5</td>\n",
       "      <td>3</td>\n",
       "      <td>0</td>\n",
       "      <td>14</td>\n",
       "      <td>1</td>\n",
       "      <td>1</td>\n",
       "      <td>2</td>\n",
       "      <td>10</td>\n",
       "      <td>1</td>\n",
       "      <td>3</td>\n",
       "      <td>3</td>\n",
       "      <td>22</td>\n",
       "      <td>0</td>\n",
       "      <td>12</td>\n",
       "      <td>5</td>\n",
       "      <td>2</td>\n",
       "    </tr>\n",
       "    <tr>\n",
       "      <th>3</th>\n",
       "      <td>39</td>\n",
       "      <td>42</td>\n",
       "      <td>3</td>\n",
       "      <td>39</td>\n",
       "      <td>22</td>\n",
       "      <td>1</td>\n",
       "      <td>42</td>\n",
       "      <td>16</td>\n",
       "      <td>16</td>\n",
       "      <td>3</td>\n",
       "      <td>21</td>\n",
       "      <td>4</td>\n",
       "      <td>15</td>\n",
       "      <td>13</td>\n",
       "      <td>67</td>\n",
       "      <td>0</td>\n",
       "      <td>39</td>\n",
       "      <td>6</td>\n",
       "      <td>2</td>\n",
       "    </tr>\n",
       "  </tbody>\n",
       "</table>\n",
       "</div>"
      ],
      "text/plain": [
       "           Action  Adventure  Animation  Comedy  Crime  Documentary  Drama  \\\n",
       "SessionId                                                                    \n",
       "1              32         45          4      19      9            0     17   \n",
       "2              14         17          0       5      3            0     14   \n",
       "3              39         42          3      39     22            1     42   \n",
       "\n",
       "           Family  Fantasy  History  Horror  Music  Mystery  Romance  \\\n",
       "SessionId                                                              \n",
       "1              10       38        2      19      0        5        3   \n",
       "2               1        1        2      10      1        3        3   \n",
       "3              16       16        3      21      4       15       13   \n",
       "\n",
       "           Science Fiction  TV Movie  Thriller  War  Western  \n",
       "SessionId                                                     \n",
       "1                       17         0        17    3        1  \n",
       "2                       22         0        12    5        2  \n",
       "3                       67         0        39    6        2  "
      ]
     },
     "execution_count": 8,
     "metadata": {},
     "output_type": "execute_result"
    }
   ],
   "source": [
    "merged_df = pd.merge(rating_df, movie_genres_onehot, on='ItemId')\n",
    "user_genre_count = merged_df.groupby('SessionId')[genre_list].sum()\n",
    "user_genre_count.head(3)"
   ]
  },
  {
   "cell_type": "code",
   "execution_count": 9,
   "id": "37b66ec9-019a-41bf-ac98-aaef7a84e979",
   "metadata": {},
   "outputs": [
    {
     "name": "stderr",
     "output_type": "stream",
     "text": [
      "100%|█████████████████████████████████████████████████████████████████████████| 136671/136671 [02:46<00:00, 822.24it/s]"
     ]
    },
    {
     "name": "stdout",
     "output_type": "stream",
     "text": [
      "Shape of user-genre matrix: (136671, 19)\n"
     ]
    },
    {
     "name": "stderr",
     "output_type": "stream",
     "text": [
      "\n"
     ]
    }
   ],
   "source": [
    "def select_top_3_genres(row):\n",
    "    random_tiebreaker = np.random.rand(len(row))\n",
    "    top_3_indices = (row + random_tiebreaker).nlargest(3).index\n",
    "    new_row = pd.Series(0, index=row.index)\n",
    "    new_row[top_3_indices] = 1\n",
    "    return new_row\n",
    "\n",
    "user_genre_matrix_df = user_genre_count.progress_apply(select_top_3_genres, axis=1)\n",
    "user_genre_matrix_df.head(3)\n",
    "print(\"Shape of user-genre matrix:\", user_genre_matrix_df.shape)"
   ]
  },
  {
   "cell_type": "markdown",
   "id": "fea8a0ed-a7f8-405e-b6fd-89ca31a69d52",
   "metadata": {},
   "source": [
    "### SVDを実行\n",
    "- SVDで次元削減を実行"
   ]
  },
  {
   "cell_type": "code",
   "execution_count": 10,
   "id": "9a2aa131-7c6d-4f17-9bc1-b8038406ef73",
   "metadata": {},
   "outputs": [],
   "source": [
    "rating_df['interaction'] = 1\n",
    "sparse_matrix = csr_matrix((rating_df['interaction'], \n",
    "                            (rating_df['SessionId'].astype('category').cat.codes, \n",
    "                             rating_df['ItemId'].astype('category').cat.codes)))\n",
    "\n",
    "session_id_mapping = dict(enumerate(rating_df['SessionId'].astype('category').cat.categories))\n",
    "item_id_mapping = dict(enumerate(rating_df['ItemId'].astype('category').cat.categories))"
   ]
  },
  {
   "cell_type": "code",
   "execution_count": 11,
   "id": "8aa53081-e3cf-4e5b-9278-ebd9d393af24",
   "metadata": {},
   "outputs": [],
   "source": [
    "n_components = 100\n",
    "svd = TruncatedSVD(n_components=n_components)\n",
    "user_movie_matrix = svd.fit_transform(sparse_matrix)"
   ]
  },
  {
   "cell_type": "code",
   "execution_count": 12,
   "id": "4f36830a-3a8c-48d3-aa75-8e4c16c6125a",
   "metadata": {},
   "outputs": [
    {
     "name": "stdout",
     "output_type": "stream",
     "text": [
      "Shape of user-genre matrix: (136671, 100)\n"
     ]
    }
   ],
   "source": [
    "print(\"Shape of user-genre matrix:\", user_movie_matrix.shape)"
   ]
  },
  {
   "cell_type": "markdown",
   "id": "9ec9a4e4-78f4-4d54-80fa-0ebb20297cfa",
   "metadata": {},
   "source": [
    "### 辞書を作成\n",
    "- ジャンルと映画IDに対するインデックス番号の辞書を作成"
   ]
  },
  {
   "cell_type": "code",
   "execution_count": 13,
   "id": "b9449c15-f294-4c15-8a53-3f721e773bd8",
   "metadata": {},
   "outputs": [
    {
     "name": "stdout",
     "output_type": "stream",
     "text": [
      "Genre dictionary {'Action': 0, 'Adventure': 1, 'Animation': 2, 'Comedy': 3, 'Crime': 4, 'Documentary': 5, 'Drama': 6, 'Family': 7, 'Fantasy': 8, 'History': 9, 'Horror': 10, 'Music': 11, 'Mystery': 12, 'Romance': 13, 'Science Fiction': 14, 'TV Movie': 15, 'Thriller': 16, 'War': 17, 'Western': 18}\n"
     ]
    }
   ],
   "source": [
    "genre_mapping = {col: idx for idx, col in enumerate(user_genre_matrix_df.columns)}\n",
    "print('Genre dictionary', genre_mapping)"
   ]
  },
  {
   "cell_type": "markdown",
   "id": "f8153735-13b2-4c72-976b-c9b707917110",
   "metadata": {},
   "source": [
    "### マトリックスを作成\n",
    "- マトリックスをfloat64で作成する"
   ]
  },
  {
   "cell_type": "code",
   "execution_count": 14,
   "id": "3a8a2714-731a-4ba4-bff7-fe89de5ea901",
   "metadata": {},
   "outputs": [
    {
     "name": "stdout",
     "output_type": "stream",
     "text": [
      "[[1. 1. 0. ... 0. 0. 0.]\n",
      " [0. 1. 0. ... 0. 0. 0.]\n",
      " [0. 1. 0. ... 0. 0. 0.]\n",
      " ...\n",
      " [0. 0. 0. ... 0. 0. 0.]\n",
      " [0. 0. 0. ... 0. 0. 0.]\n",
      " [0. 1. 0. ... 0. 0. 0.]]\n"
     ]
    }
   ],
   "source": [
    "user_genre_matrix = user_genre_matrix_df.to_numpy().astype('float64')\n",
    "print(user_genre_matrix)"
   ]
  },
  {
   "cell_type": "markdown",
   "id": "6542829a-b353-4365-9cb9-79bb5fbd3125",
   "metadata": {},
   "source": [
    "### データの長さを確認"
   ]
  },
  {
   "cell_type": "code",
   "execution_count": 15,
   "id": "fa344e2c-5a00-4e34-a451-c4f982827527",
   "metadata": {},
   "outputs": [
    {
     "name": "stdout",
     "output_type": "stream",
     "text": [
      "Number of users: 136671\n",
      "Number of genres: 19\n",
      "Number of items: 100\n"
     ]
    }
   ],
   "source": [
    "num_users = len(user_list)\n",
    "num_genres = len(genre_list)\n",
    "num_items = n_components\n",
    "\n",
    "print(\"Number of users:\", num_users)\n",
    "print(\"Number of genres:\", num_genres)\n",
    "print(\"Number of items:\", num_items)"
   ]
  },
  {
   "cell_type": "markdown",
   "id": "cde187c9-7e08-4105-b785-c09126d31695",
   "metadata": {},
   "source": [
    "# モデル"
   ]
  },
  {
   "cell_type": "code",
   "execution_count": 16,
   "id": "9f2160d1-40f9-4116-9f39-5129cf69099d",
   "metadata": {},
   "outputs": [],
   "source": [
    "class LinUCB:\n",
    "    def __init__(self, alpha, num_users, num_genres, num_items):\n",
    "        self.alpha = alpha\n",
    "        self.num_users = num_users\n",
    "        self.num_genres = num_genres\n",
    "        self.num_items = num_items\n",
    "        self.d = num_genres + num_items\n",
    "        self.A = np.repeat(np.identity(self.d, dtype=np.float32)[np.newaxis, :, :], num_genres, axis=0)\n",
    "        self.b = np.zeros((num_genres, self.d), dtype=np.float32)\n",
    "\n",
    "    def fit(self, user_genre_matrix, user_movie_matrix, num_steps, batch_size=50):\n",
    "        avg_rewards = []\n",
    "        for epoch in tqdm(range(num_steps)):\n",
    "            rewards = []\n",
    "            A_a_inv = np.array([np.linalg.inv(self.A[a]) for a in range(self.num_genres)])\n",
    "\n",
    "            for batch_start in range(0, self.num_users, batch_size):\n",
    "                batch_end = min(batch_start + batch_size, self.num_users)\n",
    "                batch_user_features = np.concatenate((user_genre_matrix[batch_start:batch_end], \n",
    "                                                      user_movie_matrix[batch_start:batch_end]), axis=1)\n",
    "                \n",
    "                for a in range(self.num_genres):\n",
    "                    theta_a = A_a_inv[a].dot(self.b[a])\n",
    "                    p_t_batch = batch_user_features.dot(theta_a) + \\\n",
    "                                self.alpha * np.sqrt(np.sum(batch_user_features.dot(A_a_inv[a]) * batch_user_features, axis=1))\n",
    "                    \n",
    "                    for i, user_id in enumerate(range(batch_start, batch_end)):\n",
    "                        a_t = a if p_t_batch[i] == max(p_t_batch) else None\n",
    "                        if a_t is not None:\n",
    "                            r_t = 1 if user_genre_matrix[user_id, a_t] == 1 else 0\n",
    "                            rewards.append(r_t)\n",
    "\n",
    "                            x_t_at = batch_user_features[i].reshape(-1, 1)\n",
    "                            self.A[a_t] = self.A[a_t] + x_t_at.dot(x_t_at.T)\n",
    "                            self.b[a_t] = self.b[a_t] + r_t * x_t_at.flatten()\n",
    "\n",
    "                            A_a_inv[a_t] = np.linalg.inv(self.A[a_t])\n",
    "\n",
    "            avg_rewards.append(np.mean(rewards))\n",
    "            print(np.mean(rewards))\n",
    "\n",
    "        return avg_rewards\n",
    "\n",
    "    def predict(self, user_features, context_features):\n",
    "        p_t = np.zeros(self.num_genres)\n",
    "        \n",
    "        for genre_id in range(self.num_genres):\n",
    "            user_features_vector = user_features.reshape(-1)\n",
    "            context_features_vector = context_features.reshape(-1)\n",
    "        \n",
    "            combined_features = np.concatenate((user_features_vector, context_features_vector))\n",
    "        \n",
    "            x_ta = combined_features.reshape(-1, 1)\n",
    "            A_a_inv = np.linalg.inv(self.A[genre_id])\n",
    "            theta_a = A_a_inv.dot(self.b[genre_id])\n",
    "        \n",
    "            p_t[genre_id] = theta_a.T.dot(x_ta) + self.alpha * np.sqrt(x_ta.T.dot(A_a_inv).dot(x_ta))\n",
    "    \n",
    "        recommended_genres = np.argsort(-p_t)\n",
    "        return recommended_genres"
   ]
  },
  {
   "cell_type": "markdown",
   "id": "0a7ad835-9789-46be-9e5a-5412019a5ebb",
   "metadata": {},
   "source": [
    "# 学習"
   ]
  },
  {
   "cell_type": "code",
   "execution_count": 17,
   "id": "901a834c-e0f5-4dd4-9947-411548db6762",
   "metadata": {},
   "outputs": [],
   "source": [
    "alpha = 10\n",
    "num_steps = 30\n",
    "batch_size = 100"
   ]
  },
  {
   "cell_type": "code",
   "execution_count": 18,
   "id": "5b31e891-14d6-4a4c-89f5-9f277aa2aa2f",
   "metadata": {},
   "outputs": [
    {
     "name": "stderr",
     "output_type": "stream",
     "text": [
      "  3%|██▋                                                                             | 1/30 [03:32<1:42:37, 212.32s/it]"
     ]
    },
    {
     "name": "stdout",
     "output_type": "stream",
     "text": [
      "0.3723867092750164\n"
     ]
    },
    {
     "name": "stderr",
     "output_type": "stream",
     "text": [
      "  7%|█████▎                                                                          | 2/30 [07:34<1:47:10, 229.67s/it]"
     ]
    },
    {
     "name": "stdout",
     "output_type": "stream",
     "text": [
      "0.5528818388326339\n"
     ]
    },
    {
     "name": "stderr",
     "output_type": "stream",
     "text": [
      " 10%|████████                                                                        | 3/30 [11:38<1:46:24, 236.47s/it]"
     ]
    },
    {
     "name": "stdout",
     "output_type": "stream",
     "text": [
      "0.6182574211681361\n"
     ]
    },
    {
     "name": "stderr",
     "output_type": "stream",
     "text": [
      " 13%|██████████▋                                                                     | 4/30 [15:13<1:38:50, 228.10s/it]"
     ]
    },
    {
     "name": "stdout",
     "output_type": "stream",
     "text": [
      "0.6546028568128441\n"
     ]
    },
    {
     "name": "stderr",
     "output_type": "stream",
     "text": [
      " 17%|█████████████▎                                                                  | 5/30 [20:16<1:46:11, 254.86s/it]"
     ]
    },
    {
     "name": "stdout",
     "output_type": "stream",
     "text": [
      "0.6735841065722096\n"
     ]
    },
    {
     "name": "stderr",
     "output_type": "stream",
     "text": [
      " 20%|████████████████                                                                | 6/30 [23:34<1:34:11, 235.48s/it]"
     ]
    },
    {
     "name": "stdout",
     "output_type": "stream",
     "text": [
      "0.6841720247949794\n"
     ]
    },
    {
     "name": "stderr",
     "output_type": "stream",
     "text": [
      " 23%|██████████████████▋                                                             | 7/30 [27:58<1:33:52, 244.89s/it]"
     ]
    },
    {
     "name": "stdout",
     "output_type": "stream",
     "text": [
      "0.690370769645401\n"
     ]
    },
    {
     "name": "stderr",
     "output_type": "stream",
     "text": [
      " 27%|█████████████████████▎                                                          | 8/30 [31:28<1:25:41, 233.72s/it]"
     ]
    },
    {
     "name": "stdout",
     "output_type": "stream",
     "text": [
      "0.6942209217264081\n"
     ]
    },
    {
     "name": "stderr",
     "output_type": "stream",
     "text": [
      " 30%|████████████████████████                                                        | 9/30 [35:00<1:19:30, 227.16s/it]"
     ]
    },
    {
     "name": "stdout",
     "output_type": "stream",
     "text": [
      "0.6964540099333923\n"
     ]
    },
    {
     "name": "stderr",
     "output_type": "stream",
     "text": [
      " 33%|██████████████████████████▎                                                    | 10/30 [38:36<1:14:29, 223.49s/it]"
     ]
    },
    {
     "name": "stdout",
     "output_type": "stream",
     "text": [
      "0.6976090555576945\n"
     ]
    },
    {
     "name": "stderr",
     "output_type": "stream",
     "text": [
      " 37%|████████████████████████████▉                                                  | 11/30 [42:56<1:14:17, 234.61s/it]"
     ]
    },
    {
     "name": "stdout",
     "output_type": "stream",
     "text": [
      "0.6989951103068571\n"
     ]
    },
    {
     "name": "stderr",
     "output_type": "stream",
     "text": [
      " 40%|███████████████████████████████▌                                               | 12/30 [47:50<1:15:53, 252.96s/it]"
     ]
    },
    {
     "name": "stdout",
     "output_type": "stream",
     "text": [
      "0.6993416239941478\n"
     ]
    },
    {
     "name": "stderr",
     "output_type": "stream",
     "text": [
      " 43%|██████████████████████████████████▏                                            | 13/30 [52:57<1:16:17, 269.25s/it]"
     ]
    },
    {
     "name": "stdout",
     "output_type": "stream",
     "text": [
      "0.6996111346398183\n"
     ]
    },
    {
     "name": "stderr",
     "output_type": "stream",
     "text": [
      " 47%|████████████████████████████████████▊                                          | 14/30 [57:28<1:11:55, 269.69s/it]"
     ]
    },
    {
     "name": "stdout",
     "output_type": "stream",
     "text": [
      "0.6997266392022485\n"
     ]
    },
    {
     "name": "stderr",
     "output_type": "stream",
     "text": [
      " 50%|██████████████████████████████████████▌                                      | 15/30 [1:02:07<1:08:06, 272.46s/it]"
     ]
    },
    {
     "name": "stdout",
     "output_type": "stream",
     "text": [
      "0.6999191468062989\n"
     ]
    },
    {
     "name": "stderr",
     "output_type": "stream",
     "text": [
      " 53%|█████████████████████████████████████████                                    | 16/30 [1:06:11<1:01:34, 263.88s/it]"
     ]
    },
    {
     "name": "stdout",
     "output_type": "stream",
     "text": [
      "0.7001501559311593\n"
     ]
    },
    {
     "name": "stderr",
     "output_type": "stream",
     "text": [
      " 57%|████████████████████████████████████████████▊                                  | 17/30 [1:09:33<53:07, 245.20s/it]"
     ]
    },
    {
     "name": "stdout",
     "output_type": "stream",
     "text": [
      "0.7002271589727794\n"
     ]
    },
    {
     "name": "stderr",
     "output_type": "stream",
     "text": [
      " 60%|███████████████████████████████████████████████▍                               | 18/30 [1:13:52<49:53, 249.45s/it]"
     ]
    },
    {
     "name": "stdout",
     "output_type": "stream",
     "text": [
      "0.7004196665768297\n"
     ]
    },
    {
     "name": "stderr",
     "output_type": "stream",
     "text": [
      " 63%|██████████████████████████████████████████████████                             | 19/30 [1:17:08<42:48, 233.49s/it]"
     ]
    },
    {
     "name": "stdout",
     "output_type": "stream",
     "text": [
      "0.7003811650560197\n"
     ]
    },
    {
     "name": "stderr",
     "output_type": "stream",
     "text": [
      " 67%|████████████████████████████████████████████████████▋                          | 20/30 [1:20:48<38:15, 229.54s/it]"
     ]
    },
    {
     "name": "stdout",
     "output_type": "stream",
     "text": [
      "0.70053517113926\n"
     ]
    },
    {
     "name": "stderr",
     "output_type": "stream",
     "text": [
      " 70%|███████████████████████████████████████████████████████▎                       | 21/30 [1:24:11<33:12, 221.35s/it]"
     ]
    },
    {
     "name": "stdout",
     "output_type": "stream",
     "text": [
      "0.7006891772225002\n"
     ]
    },
    {
     "name": "stderr",
     "output_type": "stream",
     "text": [
      " 73%|█████████████████████████████████████████████████████████▉                     | 22/30 [1:27:32<28:41, 215.23s/it]"
     ]
    },
    {
     "name": "stdout",
     "output_type": "stream",
     "text": [
      "0.7007276787433103\n"
     ]
    },
    {
     "name": "stderr",
     "output_type": "stream",
     "text": [
      " 77%|████████████████████████████████████████████████████████████▌                  | 23/30 [1:31:02<24:56, 213.72s/it]"
     ]
    },
    {
     "name": "stdout",
     "output_type": "stream",
     "text": [
      "0.7007276787433103\n"
     ]
    },
    {
     "name": "stderr",
     "output_type": "stream",
     "text": [
      " 80%|███████████████████████████████████████████████████████████████▏               | 24/30 [1:35:23<22:46, 227.79s/it]"
     ]
    },
    {
     "name": "stdout",
     "output_type": "stream",
     "text": [
      "0.7007276787433103\n"
     ]
    },
    {
     "name": "stderr",
     "output_type": "stream",
     "text": [
      " 83%|█████████████████████████████████████████████████████████████████▊             | 25/30 [1:39:44<19:49, 237.84s/it]"
     ]
    },
    {
     "name": "stdout",
     "output_type": "stream",
     "text": [
      "0.7007276787433103\n"
     ]
    },
    {
     "name": "stderr",
     "output_type": "stream",
     "text": [
      " 87%|████████████████████████████████████████████████████████████████████▍          | 26/30 [1:43:28<15:34, 233.64s/it]"
     ]
    },
    {
     "name": "stdout",
     "output_type": "stream",
     "text": [
      "0.7007276787433103\n"
     ]
    },
    {
     "name": "stderr",
     "output_type": "stream",
     "text": [
      " 90%|███████████████████████████████████████████████████████████████████████        | 27/30 [1:47:11<11:31, 230.58s/it]"
     ]
    },
    {
     "name": "stdout",
     "output_type": "stream",
     "text": [
      "0.7007661802641204\n"
     ]
    },
    {
     "name": "stderr",
     "output_type": "stream",
     "text": [
      " 93%|█████████████████████████████████████████████████████████████████████████▋     | 28/30 [1:51:08<07:45, 232.59s/it]"
     ]
    },
    {
     "name": "stdout",
     "output_type": "stream",
     "text": [
      "0.7008046817849305\n"
     ]
    },
    {
     "name": "stderr",
     "output_type": "stream",
     "text": [
      " 97%|████████████████████████████████████████████████████████████████████████████▎  | 29/30 [1:54:52<03:49, 229.95s/it]"
     ]
    },
    {
     "name": "stdout",
     "output_type": "stream",
     "text": [
      "0.7008046817849305\n"
     ]
    },
    {
     "name": "stderr",
     "output_type": "stream",
     "text": [
      "100%|███████████████████████████████████████████████████████████████████████████████| 30/30 [1:58:57<00:00, 237.92s/it]"
     ]
    },
    {
     "name": "stdout",
     "output_type": "stream",
     "text": [
      "0.7007276787433103\n"
     ]
    },
    {
     "name": "stderr",
     "output_type": "stream",
     "text": [
      "\n"
     ]
    }
   ],
   "source": [
    "linucb_model = LinUCB(alpha=alpha, num_users=num_users, num_genres=num_genres, num_items=num_items)\n",
    "linucb_avg_rewards = linucb_model.fit(user_genre_matrix, user_movie_matrix, num_steps=num_steps, batch_size=batch_size)"
   ]
  },
  {
   "cell_type": "markdown",
   "id": "7ceff641-2313-4b3d-9a68-b2b900b9b1b4",
   "metadata": {},
   "source": [
    "# 結果"
   ]
  },
  {
   "cell_type": "code",
   "execution_count": 19,
   "id": "7ec9426e-545d-472f-bf40-f59d211d552e",
   "metadata": {},
   "outputs": [
    {
     "name": "stdout",
     "output_type": "stream",
     "text": [
      "Average reward list of each epoc [0.3723867092750164, 0.5528818388326339, 0.6182574211681361, 0.6546028568128441, 0.6735841065722096, 0.6841720247949794, 0.690370769645401, 0.6942209217264081, 0.6964540099333923, 0.6976090555576945, 0.6989951103068571, 0.6993416239941478, 0.6996111346398183, 0.6997266392022485, 0.6999191468062989, 0.7001501559311593, 0.7002271589727794, 0.7004196665768297, 0.7003811650560197, 0.70053517113926, 0.7006891772225002, 0.7007276787433103, 0.7007276787433103, 0.7007276787433103, 0.7007276787433103, 0.7007276787433103, 0.7007661802641204, 0.7008046817849305, 0.7008046817849305, 0.7007276787433103]\n"
     ]
    }
   ],
   "source": [
    "print('Average reward list of each epoc', linucb_avg_rewards)"
   ]
  },
  {
   "cell_type": "markdown",
   "id": "8d155b0a-9f87-424e-a6e8-a9f90c26a7fa",
   "metadata": {},
   "source": [
    "# 予測"
   ]
  },
  {
   "cell_type": "code",
   "execution_count": 20,
   "id": "6451fb65-8097-4ebd-b0fc-0d0a4bdb44ef",
   "metadata": {},
   "outputs": [],
   "source": [
    "selected_user_row = 0"
   ]
  },
  {
   "cell_type": "code",
   "execution_count": 21,
   "id": "b95f93c6-d6bf-4a18-ab2c-14f684d9c1cd",
   "metadata": {},
   "outputs": [
    {
     "name": "stdout",
     "output_type": "stream",
     "text": [
      "User features: [1. 1. 0. 0. 0. 0. 0. 0. 1. 0. 0. 0. 0. 0. 0. 0. 0. 0. 0.]\n"
     ]
    }
   ],
   "source": [
    "selected_user_features = user_genre_matrix[selected_user_row]\n",
    "print('User features:', selected_user_features)"
   ]
  },
  {
   "cell_type": "code",
   "execution_count": 22,
   "id": "ffb7e43e-3a13-4ee3-b10c-700179a38ee0",
   "metadata": {},
   "outputs": [
    {
     "name": "stdout",
     "output_type": "stream",
     "text": [
      "Contex features: [ 3.17427057 -0.8582444   0.43477926  0.83768818 -1.42889275 -0.29433364\n",
      " -0.21338201  0.89473201  0.68458357  0.46909935 -0.20623795  0.36736666\n",
      " -1.27835982  1.72605052  0.30310911  0.28984327  0.58344445  0.57576337\n",
      "  0.43326247 -0.60423854 -0.63776384 -0.38282778 -0.14339546 -0.4053447\n",
      "  0.41048592 -0.03756638 -0.20304187  0.51092607  0.35192894  0.45401559\n",
      "  0.07568537  0.4291859  -0.47524833  0.72012587 -0.82327409 -0.14828173\n",
      "  0.01764336 -0.29492481  0.3587163   0.6304784   0.58244062 -0.25493787\n",
      " -0.36100938 -0.28176316 -0.32181407  0.23445299  0.26993209 -0.04139582\n",
      " -0.19992897 -0.38844662  0.40170525 -0.25808436 -0.09396548  1.04819795\n",
      " -0.01870353  0.46787067 -0.15986957  0.04931533  0.63670315 -0.17227732\n",
      "  0.15698671 -0.38590943  0.23469053  0.18162003 -0.33088581  0.23713416\n",
      "  0.30268616 -0.27517963  0.33424733 -0.3491695   0.73283448 -0.39257469\n",
      "  0.04059488 -0.24774808 -0.10081619  0.1173278   0.62249851 -0.00538499\n",
      "  0.00857933  0.08975652  0.20111564 -0.41619526 -0.36613368  0.17570703\n",
      "  0.18801243  0.14587662  0.28778482 -0.29531399  0.53589391 -0.58386398\n",
      "  0.14323639  0.33271488 -0.15124855 -0.27252503 -0.2731923   0.12360527\n",
      " -0.38483499 -0.39355549  0.45724607  0.60779511]\n"
     ]
    }
   ],
   "source": [
    "selected_contex_features = user_movie_matrix[selected_user_row]\n",
    "print('Contex features:', selected_contex_features)"
   ]
  },
  {
   "cell_type": "code",
   "execution_count": 23,
   "id": "35c2002a-70e3-40d6-a3c6-1832d0cc4e31",
   "metadata": {},
   "outputs": [
    {
     "name": "stdout",
     "output_type": "stream",
     "text": [
      "Predicted items [ 8  0  1  6  3 16 13  4  7 14 12  9  2 17 10  5 11 18 15]\n"
     ]
    }
   ],
   "source": [
    "predicted_items = linucb_model.predict(selected_user_features, selected_contex_features)\n",
    "print('Predicted items', predicted_items)"
   ]
  },
  {
   "cell_type": "code",
   "execution_count": 24,
   "id": "97ce6f91-2a6d-42fb-a575-fc271de9a0f1",
   "metadata": {},
   "outputs": [
    {
     "name": "stdout",
     "output_type": "stream",
     "text": [
      "Predicted genre name ['Fantasy', 'Action', 'Adventure', 'Drama', 'Comedy', 'Thriller', 'Romance', 'Crime', 'Family', 'Science Fiction', 'Mystery', 'History', 'Animation', 'War', 'Horror', 'Documentary', 'Music', 'Western', 'TV Movie']\n"
     ]
    }
   ],
   "source": [
    "index_to_genre = {index: genre for genre, index in genre_mapping.items()}\n",
    "predicted_genres = [index_to_genre[index] for index in predicted_items]\n",
    "print('Predicted genre name', predicted_genres)"
   ]
  },
  {
   "cell_type": "markdown",
   "id": "1097788e-229f-4cdc-bd16-3ec67491622d",
   "metadata": {},
   "source": [
    "# ベンチマーク"
   ]
  },
  {
   "cell_type": "code",
   "execution_count": 25,
   "id": "98945ad0-b0ba-4c17-9506-40b478f2c657",
   "metadata": {},
   "outputs": [],
   "source": [
    "def epsilon_greedy(epsilon, num_genres):\n",
    "    return np.random.choice(num_genres) if np.random.rand() < epsilon else np.argmax(rewards_estimates)"
   ]
  },
  {
   "cell_type": "code",
   "execution_count": 26,
   "id": "4c2c06e7-7b85-4aac-95cd-889618e9543d",
   "metadata": {},
   "outputs": [],
   "source": [
    "epsilon = 0.5\n",
    "\n",
    "epsilon_average_rewards = np.zeros(num_steps)\n",
    "\n",
    "for i in range(num_users):\n",
    "    first_user_genres = user_genre_matrix[i]\n",
    "    rewards = []\n",
    "    rewards_estimates = np.zeros(num_genres)\n",
    "    \n",
    "    for _ in range(num_steps):\n",
    "        chosen_genre = epsilon_greedy(epsilon, num_genres)\n",
    "        reward = 1 if first_user_genres[chosen_genre] == 1 else 0\n",
    "        rewards.append(reward)\n",
    "        rewards_estimates[chosen_genre] = ((rewards_estimates[chosen_genre] * _ + reward) / (_ + 1))\n",
    "\n",
    "    epsilon_average_rewards += np.array(rewards)\n",
    "\n",
    "epsilon_average_rewards /= num_users"
   ]
  },
  {
   "cell_type": "markdown",
   "id": "c3875d18-3c7b-4100-81c0-91b0cf139296",
   "metadata": {},
   "source": [
    "# 可視化"
   ]
  },
  {
   "cell_type": "code",
   "execution_count": 27,
   "id": "6351f300-7444-4c65-b59d-7a27aa2bcb61",
   "metadata": {},
   "outputs": [
    {
     "data": {
      "image/png": "[encoded data removed]",
      "text/plain": [
       "<Figure size 1000x600 with 1 Axes>"
      ]
     },
     "metadata": {},
     "output_type": "display_data"
    }
   ],
   "source": [
    "plt.figure(figsize=(10, 6))\n",
    "plt.plot(linucb_avg_rewards, marker='o')\n",
    "plt.xlabel('Epoch')\n",
    "plt.ylabel('Average Reward')\n",
    "plt.title('Average Rewards Per Epoch')\n",
    "plt.grid(True)\n",
    "plt.show()"
   ]
  },
  {
   "cell_type": "code",
   "execution_count": 28,
   "id": "269695f6-ebf1-4e9e-874e-c326be1d81ac",
   "metadata": {
    "scrolled": true
   },
   "outputs": [
    {
     "data": {
      "image/png": "[encoded data removed]",
      "text/plain": [
       "<Figure size 1000x600 with 1 Axes>"
      ]
     },
     "metadata": {},
     "output_type": "display_data"
    }
   ],
   "source": [
    "plt.figure(figsize=(10, 6))\n",
    "plt.plot(epsilon_average_rewards, marker='o')\n",
    "plt.xlabel('Epoch')\n",
    "plt.ylabel('Average Reward')\n",
    "plt.title('Average Rewards Per Epoch')\n",
    "plt.grid(True)\n",
    "plt.show()"
   ]
  },
  {
   "cell_type": "code",
   "execution_count": 30,
   "id": "610669ea-a3a0-4b6c-805b-8619d07f3ad3",
   "metadata": {},
   "outputs": [
    {
     "data": {
      "image/png": "[encoded data removed]",
      "text/plain": [
       "<Figure size 1000x600 with 1 Axes>"
      ]
     },
     "metadata": {},
     "output_type": "display_data"
    }
   ],
   "source": [
    "plt.figure(figsize=(10, 6))\n",
    "plt.plot(linucb_avg_rewards, marker='o', label='LinUCB (α=10) Average Rewards')\n",
    "plt.plot(epsilon_average_rewards, marker='o', label='Epsilon-Greedy (ε=0.5) Average Rewards')\n",
    "plt.xlabel('Epoch')\n",
    "plt.ylabel('Average Reward')\n",
    "plt.title('Average Rewards Per Epoch: LinUCB vs Epsilon-Greedy')\n",
    "plt.legend()\n",
    "plt.grid(True)\n",
    "plt.show()"
   ]
  }
 ],
 "metadata": {
  "kernelspec": {
   "display_name": "Python 3 (ipykernel)",
   "language": "python",
   "name": "python3"
  },
  "language_info": {
   "codemirror_mode": {
    "name": "ipython",
    "version": 3
   },
   "file_extension": ".py",
   "mimetype": "text/x-python",
   "name": "python",
   "nbconvert_exporter": "python",
   "pygments_lexer": "ipython3",
   "version": "3.9.17"
  }
 },
 "nbformat": 4,
 "nbformat_minor": 5
}
