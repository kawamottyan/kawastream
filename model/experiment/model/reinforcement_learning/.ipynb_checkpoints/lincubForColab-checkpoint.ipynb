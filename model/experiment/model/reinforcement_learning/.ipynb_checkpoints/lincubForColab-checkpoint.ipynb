{
 "cells": [
  {
   "cell_type": "markdown",
   "metadata": {
    "colab_type": "text",
    "id": "view-in-github"
   },
   "source": [
    "<a href=\"https://colab.research.google.com/github/kawamottyan/movie-recommendation-system/blob/main/model/experiment/model/context_bandit/contextbaundit.ipynb\" target=\"_parent\"><img src=\"https://colab.research.google.com/assets/colab-badge.svg\" alt=\"Open In Colab\"/></a>"
   ]
  },
  {
   "cell_type": "markdown",
   "metadata": {
    "id": "-HSJukoNC5MC"
   },
   "source": [
    "LinUCBを使用した、映画のジャンル推薦"
   ]
  },
  {
   "cell_type": "markdown",
   "metadata": {
    "id": "LX9m_jmpH5t2"
   },
   "source": [
    "# 準備"
   ]
  },
  {
   "cell_type": "code",
   "execution_count": 1,
   "metadata": {
    "id": "-suaB1bMBApH"
   },
   "outputs": [],
   "source": [
    "import pandas as pd\n",
    "import numpy as np\n",
    "from collections import defaultdict"
   ]
  },
  {
   "cell_type": "markdown",
   "metadata": {
    "id": "srPW7znWDDT_"
   },
   "source": [
    "まず、ランダムシードを作成して再現性を持たせる\n"
   ]
  },
  {
   "cell_type": "code",
   "execution_count": 2,
   "metadata": {
    "id": "2ZY22BhYDEbN"
   },
   "outputs": [],
   "source": [
    "np.random.seed(42)"
   ]
  },
  {
   "cell_type": "markdown",
   "metadata": {
    "id": "6YSRPgPlHpvk"
   },
   "source": [
    "# データの準備"
   ]
  },
  {
   "cell_type": "markdown",
   "metadata": {
    "id": "qM3wqJzJDTtu"
   },
   "source": [
    "今回はテスト用に、5種類の映画と6種類のジャンルをもとに、5回のセッション（ユーザー）に対して予測を行う。"
   ]
  },
  {
   "cell_type": "code",
   "execution_count": 3,
   "metadata": {
    "id": "WAPqlvCMDRq_"
   },
   "outputs": [],
   "source": [
    "session_ids = np.arange(1, 6)\n",
    "item_ids = np.arange(1, 6)\n",
    "genres_columns = ['Action', 'Comedy', 'Drama', 'Mystery', 'Romance', 'Thriller']\n",
    "time_stamps = np.random.rand(20)"
   ]
  },
  {
   "cell_type": "code",
   "execution_count": 4,
   "metadata": {
    "colab": {
     "base_uri": "https://localhost:8080/"
    },
    "id": "9o0lY16SEDYd",
    "outputId": "9056ad31-3163-4d9d-9fe0-7d2e49e27323"
   },
   "outputs": [
    {
     "name": "stdout",
     "output_type": "stream",
     "text": [
      "length of movie_genres: 5\n",
      "   ItemId  Action  Comedy  Drama  Mystery  Romance  Thriller\n",
      "0       1       0       0      1        1        1         1\n",
      "1       2       1       0      1        1        0         1\n",
      "2       3       0       1      0        1        1         0\n",
      "3       4       0       0      0        0        0         0\n",
      "4       5       0       1      1        0        1         1\n"
     ]
    }
   ],
   "source": [
    "genre_data = np.random.randint(0, 2, size=(5, len(genres_columns)))\n",
    "movie_genres = pd.DataFrame(genre_data, columns=genres_columns)\n",
    "movie_genres.insert(0, 'ItemId', item_ids)\n",
    "\n",
    "print('length of movie_genres:', str(len(movie_genres)))\n",
    "print(movie_genres)"
   ]
  },
  {
   "cell_type": "code",
   "execution_count": 5,
   "metadata": {
    "colab": {
     "base_uri": "https://localhost:8080/"
    },
    "id": "vrFu6fW_ENUb",
    "outputId": "731aafd3-57e3-4a7a-b717-36a481c78dfb"
   },
   "outputs": [
    {
     "name": "stdout",
     "output_type": "stream",
     "text": [
      "length of rating_df: 11\n",
      "   SessionId  ItemId      Time\n",
      "0          2       2  0.374540\n",
      "2          4       1  0.731994\n",
      "4          2       5  0.156019\n",
      "5          4       2  0.155995\n",
      "6          4       4  0.058084\n"
     ]
    }
   ],
   "source": [
    "rating_data = np.random.choice(item_ids, size=(20, 1), replace=True)\n",
    "rating_data = np.hstack([np.random.choice(session_ids, size=(20, 1)), rating_data, time_stamps.reshape(-1, 1)])\n",
    "rating_df = pd.DataFrame(rating_data, columns=['SessionId', 'ItemId', 'Time'])\n",
    "rating_df = rating_df.drop_duplicates(subset=['SessionId', 'ItemId'])\n",
    "\n",
    "rating_df['SessionId'] = rating_df['SessionId'].astype(int)\n",
    "rating_df['ItemId'] = rating_df['ItemId'].astype(int)\n",
    "\n",
    "print('length of rating_df:', str(len(rating_df)))\n",
    "print(rating_df.head(5))"
   ]
  },
  {
   "cell_type": "markdown",
   "metadata": {
    "id": "L6vDvPd5E_pb"
   },
   "source": [
    "報酬の初期値を1に設定する"
   ]
  },
  {
   "cell_type": "code",
   "execution_count": 6,
   "metadata": {
    "colab": {
     "base_uri": "https://localhost:8080/"
    },
    "id": "d1N-zGgRBApK",
    "outputId": "834f6f74-3f1c-46b6-d515-c684b55beb4a"
   },
   "outputs": [
    {
     "name": "stdout",
     "output_type": "stream",
     "text": [
      "    SessionId  ItemId      Time  reward\n",
      "0           2       2  0.374540       1\n",
      "2           4       1  0.731994       1\n",
      "4           2       5  0.156019       1\n",
      "5           4       2  0.155995       1\n",
      "6           4       4  0.058084       1\n",
      "7           1       4  0.866176       1\n",
      "8           5       4  0.601115       1\n",
      "11          5       3  0.969910       1\n",
      "12          2       1  0.832443       1\n",
      "17          5       2  0.524756       1\n",
      "19          5       5  0.291229       1\n"
     ]
    }
   ],
   "source": [
    "rating_df['reward'] = 1\n",
    "print(rating_df.head(25))"
   ]
  },
  {
   "cell_type": "markdown",
   "metadata": {
    "id": "KDXGIm8RHw1l"
   },
   "source": [
    "# モデルの動作"
   ]
  },
  {
   "cell_type": "markdown",
   "metadata": {},
   "source": [
    "ユーザーIDとアイテムIDをもとに戻すためのマッピング辞書を作成する"
   ]
  },
  {
   "cell_type": "code",
   "execution_count": 7,
   "metadata": {
    "colab": {
     "base_uri": "https://localhost:8080/"
    },
    "id": "60-zpn-EMgXw",
    "outputId": "d9ae4296-d619-45aa-dda6-89aae21c9129"
   },
   "outputs": [
    {
     "name": "stdout",
     "output_type": "stream",
     "text": [
      "user_id_mapping: {1: 0, 2: 1, 4: 2, 5: 3}\n",
      "item_id_mapping: {1: 0, 2: 1, 3: 2, 4: 3, 5: 4}\n"
     ]
    }
   ],
   "source": [
    "user_id_mapping = {id: index for index, id in enumerate(sorted(rating_df['SessionId'].unique()))}\n",
    "item_id_mapping = {id: index for index, id in enumerate(sorted(rating_df['ItemId'].unique()))}\n",
    "print('user_id_mapping:', str(user_id_mapping))\n",
    "print('item_id_mapping:', str(item_id_mapping))"
   ]
  },
  {
   "cell_type": "markdown",
   "metadata": {
    "id": "0fAwOwuyI6Dk"
   },
   "source": [
    "ユーザー数とアイテム数を数える"
   ]
  },
  {
   "cell_type": "code",
   "execution_count": 8,
   "metadata": {
    "colab": {
     "base_uri": "https://localhost:8080/"
    },
    "id": "YTJVqojaND4v",
    "outputId": "830f07a9-7ec6-42df-b0f9-be80c13fec51"
   },
   "outputs": [
    {
     "name": "stdout",
     "output_type": "stream",
     "text": [
      "num_users: 4\n",
      "num_items: 5\n"
     ]
    }
   ],
   "source": [
    "num_users = len(user_id_mapping)\n",
    "num_items = len(item_id_mapping)\n",
    "print('num_users:', str(num_users))\n",
    "print('num_items:', str(num_items))"
   ]
  },
  {
   "cell_type": "markdown",
   "metadata": {
    "id": "qvieW40DO8gu"
   },
   "source": [
    "### ユーザー×アイテムの行列を作成  "
   ]
  },
  {
   "cell_type": "code",
   "execution_count": 9,
   "metadata": {
    "colab": {
     "base_uri": "https://localhost:8080/"
    },
    "id": "-3n0H0rNOCJr",
    "outputId": "f61c3e0f-55d1-4d4d-88ca-9d1626e5d251"
   },
   "outputs": [
    {
     "name": "stdout",
     "output_type": "stream",
     "text": [
      "matrix:\n",
      " [[0. 0. 0. 0. 0.]\n",
      " [0. 0. 0. 0. 0.]\n",
      " [0. 0. 0. 0. 0.]\n",
      " [0. 0. 0. 0. 0.]]\n"
     ]
    }
   ],
   "source": [
    "matrix = np.zeros((num_users, num_items))\n",
    "print('matrix:\\n', matrix)"
   ]
  },
  {
   "cell_type": "markdown",
   "metadata": {},
   "source": [
    "0が未視聴、1が視聴済み"
   ]
  },
  {
   "cell_type": "code",
   "execution_count": 10,
   "metadata": {
    "colab": {
     "base_uri": "https://localhost:8080/"
    },
    "id": "bvuBsu4OMZX4",
    "outputId": "142db621-b0ec-470a-ba43-0f6d0d34b67d"
   },
   "outputs": [
    {
     "name": "stdout",
     "output_type": "stream",
     "text": [
      "matrix:\n",
      " [[0. 0. 0. 1. 0.]\n",
      " [1. 1. 0. 0. 1.]\n",
      " [1. 1. 0. 1. 0.]\n",
      " [0. 1. 1. 1. 1.]]\n"
     ]
    }
   ],
   "source": [
    "for _, row in rating_df.iterrows():\n",
    "    user_id = user_id_mapping[row['SessionId']]\n",
    "    item_id = item_id_mapping[row['ItemId']]\n",
    "    matrix[user_id, item_id] = 1\n",
    "print('matrix:\\n', matrix)"
   ]
  },
  {
   "cell_type": "markdown",
   "metadata": {
    "id": "nAdqTN7_JnDJ"
   },
   "source": [
    "### 各エポック値の保存場所を用意"
   ]
  },
  {
   "cell_type": "code",
   "execution_count": 11,
   "metadata": {
    "colab": {
     "base_uri": "https://localhost:8080/"
    },
    "id": "mz1uz7h8I4CA",
    "outputId": "cf69342a-135f-4dc1-f2e4-9f320a19750f"
   },
   "outputs": [
    {
     "name": "stdout",
     "output_type": "stream",
     "text": [
      "[0. 0. 0.]\n"
     ]
    }
   ],
   "source": [
    "num_epochs = 3\n",
    "avg_rewards = np.zeros(shape=(num_epochs,), dtype=float)\n",
    "print(avg_rewards)"
   ]
  },
  {
   "cell_type": "code",
   "execution_count": 12,
   "metadata": {
    "id": "Yxr7dSFmKFXE"
   },
   "outputs": [],
   "source": [
    "rewards = []"
   ]
  },
  {
   "cell_type": "code",
   "execution_count": 13,
   "metadata": {},
   "outputs": [
    {
     "name": "stdout",
     "output_type": "stream",
     "text": [
      "[0 1 2 3]\n"
     ]
    }
   ],
   "source": [
    "user_indexes = np.array(range(matrix.shape[0]))\n",
    "print(user_indexes)"
   ]
  },
  {
   "cell_type": "markdown",
   "metadata": {},
   "source": [
    "### 次のユーザーを取得する関数を作成"
   ]
  },
  {
   "cell_type": "code",
   "execution_count": 14,
   "metadata": {},
   "outputs": [],
   "source": [
    "def get_next_user(current_user_idx):\n",
    "    if current_user_idx >= matrix.shape[0]:\n",
    "        current_user_idx = 0\n",
    "        np.random.shuffle(user_indexes)\n",
    "    \n",
    "    next_user_id = user_indexes[current_user_idx]\n",
    "    current_user_idx += 1\n",
    "    return next_user_id, current_user_idx"
   ]
  },
  {
   "cell_type": "code",
   "execution_count": 15,
   "metadata": {},
   "outputs": [],
   "source": [
    "current_user_idx = 0"
   ]
  },
  {
   "cell_type": "code",
   "execution_count": 16,
   "metadata": {},
   "outputs": [
    {
     "name": "stdout",
     "output_type": "stream",
     "text": [
      "0\n",
      "1\n",
      "2\n",
      "3\n"
     ]
    }
   ],
   "source": [
    "for _ in range(num_users):\n",
    "    user_id, current_user_idx = get_next_user(current_user_idx)\n",
    "    print(user_id)"
   ]
  },
  {
   "cell_type": "markdown",
   "metadata": {},
   "source": [
    "get_next_user関数内に`np.random.shuffle(user_indexes)`があるのでシャッフルされる"
   ]
  },
  {
   "cell_type": "code",
   "execution_count": 17,
   "metadata": {},
   "outputs": [
    {
     "name": "stdout",
     "output_type": "stream",
     "text": [
      "1\n",
      "3\n",
      "0\n",
      "2\n"
     ]
    }
   ],
   "source": [
    "for _ in range(num_users):\n",
    "    user_id, current_user_idx = get_next_user(current_user_idx)\n",
    "    print(user_id)"
   ]
  },
  {
   "cell_type": "code",
   "execution_count": 18,
   "metadata": {},
   "outputs": [],
   "source": [
    "# UNKNOWN_RATING_VAL = 0"
   ]
  },
  {
   "cell_type": "code",
   "execution_count": 19,
   "metadata": {},
   "outputs": [],
   "source": [
    "# def get_uknown_items_of_user(user_id, UNKNOWN_RATING_VAL):\n",
    "#     user_ratings = matrix[user_id]\n",
    "#     unknown_item_ids = np.argwhere(user_ratings == UNKNOWN_RATING_VAL).flatten()\n",
    "#     return unknown_item_ids"
   ]
  },
  {
   "cell_type": "code",
   "execution_count": 20,
   "metadata": {},
   "outputs": [],
   "source": [
    "# user_id = 0\n",
    "# unknown_item_ids = get_uknown_items_of_user(user_id, UNKNOWN_RATING_VAL)\n",
    "# print(unknown_item_ids)"
   ]
  },
  {
   "cell_type": "code",
   "execution_count": 21,
   "metadata": {},
   "outputs": [],
   "source": [
    "# if unknown_item_ids.size == 0:\n",
    "#     print(\"User {} has no more unknown ratings, skipping him.\".format(user_id))"
   ]
  },
  {
   "cell_type": "code",
   "execution_count": null,
   "metadata": {},
   "outputs": [],
   "source": []
  },
  {
   "cell_type": "code",
   "execution_count": 22,
   "metadata": {},
   "outputs": [
    {
     "name": "stdout",
     "output_type": "stream",
     "text": [
      "titles: ['Movie 1' 'Movie 2' 'Movie 3' 'Movie 4' 'Movie 5']\n",
      "item_genres:\n",
      " [[0 0 1 1 1 1]\n",
      " [1 0 1 1 0 1]\n",
      " [0 1 0 1 1 0]\n",
      " [0 0 0 0 0 0]\n",
      " [0 1 1 0 1 1]]\n"
     ]
    }
   ],
   "source": [
    "titles = np.array(['Movie ' + str(i) for i in item_ids])\n",
    "item_genres = movie_genres[genres_columns].to_numpy()\n",
    "print('titles:', str(titles))\n",
    "print('item_genres:\\n', str(item_genres))"
   ]
  },
  {
   "cell_type": "code",
   "execution_count": 23,
   "metadata": {},
   "outputs": [
    {
     "name": "stdout",
     "output_type": "stream",
     "text": [
      "11\n"
     ]
    }
   ],
   "source": [
    "d = item_genres.shape[1] + matrix.shape[1]\n",
    "print(d)"
   ]
  },
  {
   "cell_type": "code",
   "execution_count": 24,
   "metadata": {},
   "outputs": [
    {
     "name": "stdout",
     "output_type": "stream",
     "text": [
      "[[0. 0. 0. 0. 0. 0. 0. 0. 0. 0. 0.]\n",
      " [0. 0. 0. 0. 0. 0. 0. 0. 0. 0. 0.]\n",
      " [0. 0. 0. 0. 0. 0. 0. 0. 0. 0. 0.]\n",
      " [0. 0. 0. 0. 0. 0. 0. 0. 0. 0. 0.]\n",
      " [0. 0. 0. 0. 0. 0. 0. 0. 0. 0. 0.]]\n"
     ]
    }
   ],
   "source": [
    "b = np.zeros(shape=(num_items, d))\n",
    "print(b)"
   ]
  },
  {
   "cell_type": "code",
   "execution_count": 25,
   "metadata": {},
   "outputs": [
    {
     "name": "stdout",
     "output_type": "stream",
     "text": [
      "length of A: 5\n",
      "[[1. 0. 0. 0. 0. 0. 0. 0. 0. 0. 0.]\n",
      " [0. 1. 0. 0. 0. 0. 0. 0. 0. 0. 0.]\n",
      " [0. 0. 1. 0. 0. 0. 0. 0. 0. 0. 0.]\n",
      " [0. 0. 0. 1. 0. 0. 0. 0. 0. 0. 0.]\n",
      " [0. 0. 0. 0. 1. 0. 0. 0. 0. 0. 0.]\n",
      " [0. 0. 0. 0. 0. 1. 0. 0. 0. 0. 0.]\n",
      " [0. 0. 0. 0. 0. 0. 1. 0. 0. 0. 0.]\n",
      " [0. 0. 0. 0. 0. 0. 0. 1. 0. 0. 0.]\n",
      " [0. 0. 0. 0. 0. 0. 0. 0. 1. 0. 0.]\n",
      " [0. 0. 0. 0. 0. 0. 0. 0. 0. 1. 0.]\n",
      " [0. 0. 0. 0. 0. 0. 0. 0. 0. 0. 1.]]\n"
     ]
    }
   ],
   "source": [
    "A = np.repeat(np.identity(d, dtype=float)[np.newaxis, :, :], num_items, axis=0)\n",
    "print('length of A:', str(len(A)))\n",
    "print(A[0])"
   ]
  },
  {
   "cell_type": "code",
   "execution_count": 26,
   "metadata": {},
   "outputs": [
    {
     "name": "stdout",
     "output_type": "stream",
     "text": [
      "[0. 0. 0. 1. 0.]\n"
     ]
    }
   ],
   "source": [
    "user_id = 0\n",
    "user_id = user_id % num_users\n",
    "user_features_vector = matrix[user_id]\n",
    "print(user_features_vector)"
   ]
  },
  {
   "cell_type": "code",
   "execution_count": 27,
   "metadata": {
    "scrolled": true
   },
   "outputs": [
    {
     "name": "stdout",
     "output_type": "stream",
     "text": [
      "[[0. 0. 0. 1. 0.]\n",
      " [0. 0. 0. 1. 0.]\n",
      " [0. 0. 0. 1. 0.]\n",
      " [0. 0. 0. 1. 0.]\n",
      " [0. 0. 0. 1. 0.]]\n"
     ]
    }
   ],
   "source": [
    "user_features_matrix = np.tile(user_features_vector, (num_items, 1))\n",
    "print(user_features_matrix)"
   ]
  },
  {
   "cell_type": "code",
   "execution_count": 28,
   "metadata": {},
   "outputs": [
    {
     "name": "stdout",
     "output_type": "stream",
     "text": [
      "[[0 0 1 1 1 1]\n",
      " [1 0 1 1 0 1]\n",
      " [0 1 0 1 1 0]\n",
      " [0 0 0 0 0 0]\n",
      " [0 1 1 0 1 1]]\n"
     ]
    }
   ],
   "source": [
    "item_features_matrix = item_genres\n",
    "print(item_features_matrix)"
   ]
  },
  {
   "cell_type": "code",
   "execution_count": 29,
   "metadata": {},
   "outputs": [
    {
     "name": "stdout",
     "output_type": "stream",
     "text": [
      "[[0. 0. 0. 1. 0. 0. 0. 1. 1. 1. 1.]\n",
      " [0. 0. 0. 1. 0. 1. 0. 1. 1. 0. 1.]\n",
      " [0. 0. 0. 1. 0. 0. 1. 0. 1. 1. 0.]\n",
      " [0. 0. 0. 1. 0. 0. 0. 0. 0. 0. 0.]\n",
      " [0. 0. 0. 1. 0. 0. 1. 1. 0. 1. 1.]]\n"
     ]
    }
   ],
   "source": [
    "arm_features_matrix = np.concatenate((user_features_matrix, item_features_matrix), axis=1)\n",
    "print(arm_features_matrix)"
   ]
  },
  {
   "cell_type": "code",
   "execution_count": 30,
   "metadata": {},
   "outputs": [
    {
     "name": "stdout",
     "output_type": "stream",
     "text": [
      "[0. 0. 0. 0. 0.]\n"
     ]
    }
   ],
   "source": [
    "p_t = np.zeros(shape=(arm_features_matrix.shape[0],), dtype=float)\n",
    "print(p_t)"
   ]
  },
  {
   "cell_type": "code",
   "execution_count": 31,
   "metadata": {},
   "outputs": [],
   "source": [
    "# item_ids = unknown_item_ids\n",
    "# print(item_ids)"
   ]
  },
  {
   "cell_type": "code",
   "execution_count": 32,
   "metadata": {},
   "outputs": [
    {
     "name": "stdout",
     "output_type": "stream",
     "text": [
      "range(0, 5)\n"
     ]
    }
   ],
   "source": [
    "item_ids = range(num_items)\n",
    "print(item_ids)"
   ]
  },
  {
   "cell_type": "code",
   "execution_count": 33,
   "metadata": {},
   "outputs": [
    {
     "name": "stdout",
     "output_type": "stream",
     "text": [
      "0\n"
     ]
    }
   ],
   "source": [
    "item_id = item_ids[0]\n",
    "print(item_id)"
   ]
  },
  {
   "cell_type": "code",
   "execution_count": 34,
   "metadata": {},
   "outputs": [
    {
     "name": "stdout",
     "output_type": "stream",
     "text": [
      "[[0.]\n",
      " [0.]\n",
      " [0.]\n",
      " [1.]\n",
      " [0.]\n",
      " [0.]\n",
      " [0.]\n",
      " [1.]\n",
      " [1.]\n",
      " [1.]\n",
      " [1.]]\n"
     ]
    }
   ],
   "source": [
    "x_ta = arm_features_matrix[item_id].reshape(arm_features_matrix[item_id].shape[0], 1)\n",
    "print(x_ta)"
   ]
  },
  {
   "cell_type": "code",
   "execution_count": 35,
   "metadata": {},
   "outputs": [
    {
     "name": "stdout",
     "output_type": "stream",
     "text": [
      "[[1. 0. 0. 0. 0. 0. 0. 0. 0. 0. 0.]\n",
      " [0. 1. 0. 0. 0. 0. 0. 0. 0. 0. 0.]\n",
      " [0. 0. 1. 0. 0. 0. 0. 0. 0. 0. 0.]\n",
      " [0. 0. 0. 1. 0. 0. 0. 0. 0. 0. 0.]\n",
      " [0. 0. 0. 0. 1. 0. 0. 0. 0. 0. 0.]\n",
      " [0. 0. 0. 0. 0. 1. 0. 0. 0. 0. 0.]\n",
      " [0. 0. 0. 0. 0. 0. 1. 0. 0. 0. 0.]\n",
      " [0. 0. 0. 0. 0. 0. 0. 1. 0. 0. 0.]\n",
      " [0. 0. 0. 0. 0. 0. 0. 0. 1. 0. 0.]\n",
      " [0. 0. 0. 0. 0. 0. 0. 0. 0. 1. 0.]\n",
      " [0. 0. 0. 0. 0. 0. 0. 0. 0. 0. 1.]]\n"
     ]
    }
   ],
   "source": [
    "A_a_inv = np.linalg.inv(A[item_id])\n",
    "print(A_a_inv)"
   ]
  },
  {
   "cell_type": "code",
   "execution_count": 36,
   "metadata": {
    "scrolled": true
   },
   "outputs": [
    {
     "name": "stdout",
     "output_type": "stream",
     "text": [
      "[0. 0. 0. 0. 0. 0. 0. 0. 0. 0. 0.]\n"
     ]
    }
   ],
   "source": [
    "theta_a = A_a_inv.dot(b[item_id])\n",
    "print(theta_a)"
   ]
  },
  {
   "cell_type": "code",
   "execution_count": 37,
   "metadata": {},
   "outputs": [],
   "source": [
    "alpha = 0.1"
   ]
  },
  {
   "cell_type": "code",
   "execution_count": 38,
   "metadata": {},
   "outputs": [
    {
     "name": "stdout",
     "output_type": "stream",
     "text": [
      "0.223606797749979\n"
     ]
    }
   ],
   "source": [
    "p_t[item_id] = theta_a.T.dot(x_ta) + alpha * np.sqrt(x_ta.T.dot(A_a_inv).dot(x_ta))\n",
    "print(p_t[item_id])"
   ]
  },
  {
   "cell_type": "code",
   "execution_count": 39,
   "metadata": {},
   "outputs": [
    {
     "name": "stdout",
     "output_type": "stream",
     "text": [
      "0.223606797749979\n"
     ]
    }
   ],
   "source": [
    "max_p_t = np.max(p_t)\n",
    "print(max_p_t)"
   ]
  },
  {
   "cell_type": "code",
   "execution_count": 40,
   "metadata": {},
   "outputs": [
    {
     "name": "stdout",
     "output_type": "stream",
     "text": [
      "[0]\n"
     ]
    }
   ],
   "source": [
    "max_idxs = np.argwhere(p_t == max_p_t).flatten()\n",
    "print(max_idxs)"
   ]
  },
  {
   "cell_type": "code",
   "execution_count": 41,
   "metadata": {},
   "outputs": [
    {
     "name": "stdout",
     "output_type": "stream",
     "text": [
      "0\n"
     ]
    }
   ],
   "source": [
    "a_t = np.random.choice(max_idxs)\n",
    "print(a_t)"
   ]
  },
  {
   "cell_type": "code",
   "execution_count": 55,
   "metadata": {},
   "outputs": [
    {
     "name": "stdout",
     "output_type": "stream",
     "text": [
      "[[0.]\n",
      " [0.]\n",
      " [0.]\n",
      " [1.]\n",
      " [0.]\n",
      " [0.]\n",
      " [0.]\n",
      " [1.]\n",
      " [1.]\n",
      " [1.]\n",
      " [1.]]\n"
     ]
    }
   ],
   "source": [
    "x_t_at = arm_features_matrix[a_t].reshape(arm_features_matrix[a_t].shape[0], 1)\n",
    "print(x_t_at)"
   ]
  },
  {
   "cell_type": "code",
   "execution_count": 61,
   "metadata": {},
   "outputs": [],
   "source": [
    "###\n",
    "r_t = 1\n",
    "###"
   ]
  },
  {
   "cell_type": "code",
   "execution_count": 62,
   "metadata": {},
   "outputs": [
    {
     "name": "stdout",
     "output_type": "stream",
     "text": [
      "[[1. 0. 0. 0. 0. 0. 0. 0. 0. 0. 0.]\n",
      " [0. 1. 0. 0. 0. 0. 0. 0. 0. 0. 0.]\n",
      " [0. 0. 1. 0. 0. 0. 0. 0. 0. 0. 0.]\n",
      " [0. 0. 0. 4. 0. 0. 0. 3. 3. 3. 3.]\n",
      " [0. 0. 0. 0. 1. 0. 0. 0. 0. 0. 0.]\n",
      " [0. 0. 0. 0. 0. 1. 0. 0. 0. 0. 0.]\n",
      " [0. 0. 0. 0. 0. 0. 1. 0. 0. 0. 0.]\n",
      " [0. 0. 0. 3. 0. 0. 0. 4. 3. 3. 3.]\n",
      " [0. 0. 0. 3. 0. 0. 0. 3. 4. 3. 3.]\n",
      " [0. 0. 0. 3. 0. 0. 0. 3. 3. 4. 3.]\n",
      " [0. 0. 0. 3. 0. 0. 0. 3. 3. 3. 4.]]\n"
     ]
    }
   ],
   "source": [
    "A[a_t] = A[a_t] + x_t_at.dot(x_t_at.T)\n",
    "print(A[a_t])"
   ]
  },
  {
   "cell_type": "code",
   "execution_count": 63,
   "metadata": {},
   "outputs": [
    {
     "name": "stdout",
     "output_type": "stream",
     "text": [
      "[0. 0. 0. 1. 0. 0. 0. 1. 1. 1. 1.]\n"
     ]
    }
   ],
   "source": [
    "b[a_t] = b[a_t] + r_t * x_t_at.flatten()\n",
    "print(b[a_t])"
   ]
  },
  {
   "cell_type": "code",
   "execution_count": null,
   "metadata": {},
   "outputs": [],
   "source": []
  },
  {
   "cell_type": "code",
   "execution_count": null,
   "metadata": {},
   "outputs": [],
   "source": []
  },
  {
   "cell_type": "code",
   "execution_count": 42,
   "metadata": {},
   "outputs": [],
   "source": [
    "MIN_PROBABILITY = 0\n",
    "UNKNOWN_RATING_VAL = 0\n",
    "POSITIVE_RATING_VAL = 1\n",
    "NEGATIVE_RATING_VAL = -1"
   ]
  },
  {
   "cell_type": "code",
   "execution_count": null,
   "metadata": {},
   "outputs": [],
   "source": []
  },
  {
   "cell_type": "code",
   "execution_count": 43,
   "metadata": {},
   "outputs": [],
   "source": [
    "user_id=user_id\n",
    "item_id=a_t"
   ]
  },
  {
   "cell_type": "code",
   "execution_count": 44,
   "metadata": {},
   "outputs": [
    {
     "name": "stdout",
     "output_type": "stream",
     "text": [
      "[0 0 1 1 1 1]\n"
     ]
    }
   ],
   "source": [
    "item_genres_vec = item_genres[item_id]\n",
    "print(item_genres_vec)"
   ]
  },
  {
   "cell_type": "code",
   "execution_count": 45,
   "metadata": {},
   "outputs": [
    {
     "name": "stdout",
     "output_type": "stream",
     "text": [
      "[0. 0. 0. 1. 0.]\n"
     ]
    }
   ],
   "source": [
    "user_ratings = matrix[user_id]\n",
    "print(user_ratings)"
   ]
  },
  {
   "cell_type": "code",
   "execution_count": 46,
   "metadata": {},
   "outputs": [
    {
     "name": "stdout",
     "output_type": "stream",
     "text": [
      "[3]\n"
     ]
    }
   ],
   "source": [
    "user_pos_rat_idxs = np.argwhere(user_ratings == POSITIVE_RATING_VAL).flatten()\n",
    "print(user_pos_rat_idxs)"
   ]
  },
  {
   "cell_type": "code",
   "execution_count": 47,
   "metadata": {},
   "outputs": [
    {
     "name": "stdout",
     "output_type": "stream",
     "text": [
      "[]\n"
     ]
    }
   ],
   "source": [
    "user_neg_rat_idxs = np.argwhere(user_ratings == NEGATIVE_RATING_VAL).flatten()\n",
    "print(user_neg_rat_idxs)"
   ]
  },
  {
   "cell_type": "code",
   "execution_count": 48,
   "metadata": {},
   "outputs": [
    {
     "name": "stdout",
     "output_type": "stream",
     "text": [
      "1\n"
     ]
    }
   ],
   "source": [
    "num_known_ratings = len(user_pos_rat_idxs) + len(user_neg_rat_idxs)\n",
    "print(num_known_ratings)"
   ]
  },
  {
   "cell_type": "code",
   "execution_count": 49,
   "metadata": {},
   "outputs": [
    {
     "name": "stdout",
     "output_type": "stream",
     "text": [
      "[0 2 0 3 0 4 0 5 1 0 1 2 1 3 1 5 2 1 2 3 2 4 4 1 4 2 4 4 4 5]\n"
     ]
    }
   ],
   "source": [
    "genre_idxs = np.argwhere(item_genres == 1).flatten()\n",
    "print(genre_idxs)"
   ]
  },
  {
   "cell_type": "code",
   "execution_count": 50,
   "metadata": {},
   "outputs": [],
   "source": [
    "genre_likabilities = []"
   ]
  },
  {
   "cell_type": "code",
   "execution_count": 51,
   "metadata": {},
   "outputs": [
    {
     "data": {
      "text/plain": [
       "array([0, 2, 0, 3, 0, 4, 0, 5, 1, 0, 1, 2, 1, 3, 1, 5, 2, 1, 2, 3, 2, 4,\n",
       "       4, 1, 4, 2, 4, 4, 4, 5], dtype=int64)"
      ]
     },
     "execution_count": 51,
     "metadata": {},
     "output_type": "execute_result"
    }
   ],
   "source": [
    "genre_idxs"
   ]
  },
  {
   "cell_type": "code",
   "execution_count": 52,
   "metadata": {},
   "outputs": [],
   "source": [
    "genre_idx = 0\n",
    "item_idx = 3"
   ]
  },
  {
   "cell_type": "code",
   "execution_count": 53,
   "metadata": {},
   "outputs": [
    {
     "ename": "NameError",
     "evalue": "name 'genre_likability' is not defined",
     "output_type": "error",
     "traceback": [
      "\u001b[1;31m---------------------------------------------------------------------------\u001b[0m",
      "\u001b[1;31mNameError\u001b[0m                                 Traceback (most recent call last)",
      "Cell \u001b[1;32mIn[53], line 1\u001b[0m\n\u001b[1;32m----> 1\u001b[0m genre_likability \u001b[38;5;241m+\u001b[39m\u001b[38;5;241m=\u001b[39m item_genres[item_idx][genre_idx]\n\u001b[0;32m      2\u001b[0m \u001b[38;5;28mprint\u001b[39m(genre_likability)\n",
      "\u001b[1;31mNameError\u001b[0m: name 'genre_likability' is not defined"
     ]
    }
   ],
   "source": [
    "genre_likability += item_genres[item_idx][genre_idx]\n",
    "print(genre_likability)"
   ]
  },
  {
   "cell_type": "code",
   "execution_count": null,
   "metadata": {},
   "outputs": [],
   "source": [
    "for genre_idx in genre_idxs:\n",
    "    genre_likability = 0\n",
    "    for item_idx in user_pos_rat_idxs:\n",
    "        genre_likability += item_genres[item_idx][genre_idx]\n",
    "    for item_idx in user_neg_rat_idxs:\n",
    "        genre_likability -= item_genres[item_idx][genre_idx]\n",
    "    genre_likability /= num_known_ratings\n",
    "    genre_likabilities.append(genre_likability)\n",
    "\n",
    "genre_likabilities = np.array(genre_likabilities)\n",
    "print(genre_likabilities)"
   ]
  },
  {
   "cell_type": "code",
   "execution_count": null,
   "metadata": {},
   "outputs": [],
   "source": [
    "def recommend(self, user_id, item_id, fixed_rewards=True, prob_reward_p=0.9):\n",
    "    \"\"\"\n",
    "    Returns reward and updates rating maatrix self.R.\n",
    "    :param fixed_rewards: Whether to always return 1/0 rewards for already rated items.\n",
    "    :param prob_reward_p: Probability of returning the correct reward for already rated item.\n",
    "    :return: Reward = either 0 or 1.\n",
    "    \"\"\"\n",
    "    MIN_PROBABILITY = 0 # Minimal probability to like an item - adds stochasticity\n",
    "\n",
    "    if self.R[user_id, item_id] == self.POSITIVE_RATING_VAL:\n",
    "        if fixed_rewards:\n",
    "            return 1\n",
    "        else:\n",
    "            return np.random.binomial(n=1, p=prob_reward_p)  # Bernoulli coin toss\n",
    "    elif self.R[user_id, item_id] == self.NEGATIVE_RATING_VAL:\n",
    "        if fixed_rewards:\n",
    "            return 0\n",
    "        else:\n",
    "            return np.random.binomial(n=1, p=1-prob_reward_p)  # Bernoulli coin toss\n",
    "    else:\n",
    "        item_genres = self.item_genres[item_id]\n",
    "        user_ratings = self.R[user_id]\n",
    "        user_pos_rat_idxs = np.argwhere(user_ratings == self.POSITIVE_RATING_VAL).flatten()\n",
    "        user_neg_rat_idxs = np.argwhere(user_ratings == self.NEGATIVE_RATING_VAL).flatten()\n",
    "        num_known_ratings = len(user_pos_rat_idxs) + len(user_neg_rat_idxs)\n",
    "        genre_idxs = np.argwhere(item_genres == 1).flatten()\n",
    "\n",
    "        # Find how much user likes the genre of the recommended movie based on his previous ratings.\n",
    "        genre_likabilities = []\n",
    "        for genre_idx in genre_idxs:\n",
    "            genre_likability = 0\n",
    "            for item_idx in user_pos_rat_idxs:\n",
    "                genre_likability += self.item_genres[item_idx][genre_idx]\n",
    "            for item_idx in user_neg_rat_idxs:\n",
    "                genre_likability -= self.item_genres[item_idx][genre_idx]\n",
    "            genre_likability /= num_known_ratings\n",
    "            genre_likabilities.append(genre_likability)\n",
    "\n",
    "        genre_likabilities = np.array(genre_likabilities)\n",
    "\n",
    "        # how much user user_id likes the genre of the recommended item item_id\n",
    "        result_genre_likability = np.average(genre_likabilities)\n",
    "        binomial_reward_probability = result_genre_likability\n",
    "        if binomial_reward_probability <= 0:\n",
    "            #print(\"User={}, item={}, genre likability={}\".format(user_id, item_id, result_genre_likability))\n",
    "            binomial_reward_probability = MIN_PROBABILITY # this could be replaced by small probability\n",
    "\n",
    "        approx_rating = np.random.binomial(n=1, p=binomial_reward_probability)  # Bernoulli coin toss\n",
    "\n",
    "        if approx_rating == 1:\n",
    "            self.R[user_id, item_id] = self.POSITIVE_RATING_VAL\n",
    "        else:\n",
    "            self.R[user_id, item_id] = self.NEGATIVE_RATING_VAL\n",
    "\n",
    "        #return approx_rating\n",
    "        return approx_rating"
   ]
  },
  {
   "cell_type": "code",
   "execution_count": null,
   "metadata": {},
   "outputs": [],
   "source": [
    "def choose_arm(self, user_id, unknown_item_ids, verbosity):\n",
    "    \"\"\"\n",
    "    Choose an arm to pull = item to recommend to user t that he did not rate yet.\n",
    "    :param t: User_id of user to recommend to.\n",
    "    :param unknown_item_ids: Indexes of items that user t has not rated yet.\n",
    "    :return: Received reward for selected item = 1/0 = user liked/disliked item.\n",
    "    \"\"\"\n",
    "    A = self.A\n",
    "    b = self.b\n",
    "    arm_features = self.dataset.get_features_of_current_arms(user_id=user_id)\n",
    "    p_t = np.zeros(shape=(arm_features.shape[0],), dtype=float)\n",
    "    p_t -= 9999  # I never want to select the already rated items\n",
    "    item_ids = unknown_item_ids\n",
    "    \n",
    "    if self.allow_selecting_known_arms:\n",
    "        item_ids = range(self.dataset.num_items)\n",
    "        p_t += 9999\n",
    "    \n",
    "    for a in item_ids:  # iterate over all arms\n",
    "        x_ta = arm_features[a].reshape(arm_features[a].shape[0], 1)  # make a column vector\n",
    "        A_a_inv = np.linalg.inv(A[a])\n",
    "        theta_a = A_a_inv.dot(b[a])\n",
    "        p_t[a] = theta_a.T.dot(x_ta) + self.alpha * np.sqrt(x_ta.T.dot(A_a_inv).dot(x_ta))\n",
    "    \n",
    "    max_p_t = np.max(p_t)\n",
    "    if max_p_t <= 0:\n",
    "        print(\"User {} has max p_t={}, p_t={}\".format(t, max_p_t, p_t))\n",
    "    \n",
    "    # I want to randomly break ties, np.argmax return the first occurence of maximum.\n",
    "    # So I will get all occurences of the max and randomly select between them\n",
    "    max_idxs = np.argwhere(p_t == max_p_t).flatten()\n",
    "    a_t = np.random.choice(max_idxs)  # idx of article to recommend to user t\n",
    "    \n",
    "    # observed reward = 1/0\n",
    "    r_t = self.dataset.recommend(user_id=t, item_id=a_t,\n",
    "                                 fixed_rewards=self.fixed_rewards, prob_reward_p=self.prob_reward_p)\n",
    "    \n",
    "    if verbosity >= 2:\n",
    "        print(\"User {} choosing item {} with p_t={} reward {}\".format(t, a_t, p_t[a_t], r_t))\n",
    "    \n",
    "    x_t_at = arm_features[a_t].reshape(arm_features[a_t].shape[0], 1)  # make a column vector\n",
    "    A[a_t] = A[a_t] + x_t_at.dot(x_t_at.T)\n",
    "    b[a_t] = b[a_t] + r_t * x_t_at.flatten()  # turn it back into an array because b[a_t] is an array\n",
    "    \n",
    "    return r_t"
   ]
  },
  {
   "cell_type": "code",
   "execution_count": null,
   "metadata": {},
   "outputs": [],
   "source": [
    "rewards.append(choose_arm(user_id, unknown_item_ids, verbosity))"
   ]
  }
 ],
 "metadata": {
  "colab": {
   "include_colab_link": true,
   "provenance": []
  },
  "kernelspec": {
   "display_name": "Python 3 (ipykernel)",
   "language": "python",
   "name": "python3"
  },
  "language_info": {
   "codemirror_mode": {
    "name": "ipython",
    "version": 3
   },
   "file_extension": ".py",
   "mimetype": "text/x-python",
   "name": "python",
   "nbconvert_exporter": "python",
   "pygments_lexer": "ipython3",
   "version": "3.9.17"
  }
 },
 "nbformat": 4,
 "nbformat_minor": 4
}
