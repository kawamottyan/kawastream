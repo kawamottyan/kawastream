{
 "cells": [
  {
   "cell_type": "code",
   "execution_count": 1,
   "id": "e9cae631-a871-49fd-973e-460e304e09dd",
   "metadata": {},
   "outputs": [],
   "source": [
    "import pandas as pd\n",
    "import numpy as np"
   ]
  },
  {
   "cell_type": "code",
   "execution_count": 2,
   "id": "1515bf2f-9607-4980-94f3-7142d0d1feca",
   "metadata": {},
   "outputs": [],
   "source": [
    "np.random.seed(42)"
   ]
  },
  {
   "cell_type": "code",
   "execution_count": 3,
   "id": "09d201db-90ee-4cc0-8c24-a4af944aa489",
   "metadata": {},
   "outputs": [],
   "source": [
    "session_ids = np.arange(1, 6)\n",
    "item_ids = np.arange(1, 6)\n",
    "genres_columns = ['Action', 'Comedy', 'Drama', 'Mystery', 'Romance', 'Thriller']\n",
    "time_stamps = np.random.rand(20)"
   ]
  },
  {
   "cell_type": "code",
   "execution_count": 4,
   "id": "031d5ef9-e0b7-4241-a80d-028df13f59fe",
   "metadata": {},
   "outputs": [
    {
     "name": "stdout",
     "output_type": "stream",
     "text": [
      "length of movie_genres: 5\n",
      "   ItemId  Action  Comedy  Drama  Mystery  Romance  Thriller\n",
      "0       1       0       0      1        1        1         1\n",
      "1       2       1       0      1        1        0         1\n",
      "2       3       0       1      0        1        1         0\n",
      "3       4       0       0      0        0        0         0\n",
      "4       5       0       1      1        0        1         1\n"
     ]
    }
   ],
   "source": [
    "genre_data = np.random.randint(0, 2, size=(5, len(genres_columns)))\n",
    "movie_genres = pd.DataFrame(genre_data, columns=genres_columns)\n",
    "movie_genres.insert(0, 'ItemId', item_ids)\n",
    "\n",
    "print('length of movie_genres:', str(len(movie_genres)))\n",
    "print(movie_genres)"
   ]
  },
  {
   "cell_type": "code",
   "execution_count": 5,
   "id": "f1ca4920-27d8-4e2d-95d7-a052c499fabf",
   "metadata": {},
   "outputs": [
    {
     "name": "stdout",
     "output_type": "stream",
     "text": [
      "length of rating_df: 11\n",
      "   SessionId  ItemId      Time\n",
      "0          2       2  0.374540\n",
      "2          4       1  0.731994\n",
      "4          2       5  0.156019\n",
      "5          4       2  0.155995\n",
      "6          4       4  0.058084\n"
     ]
    }
   ],
   "source": [
    "rating_data = np.random.choice(item_ids, size=(20, 1), replace=True)\n",
    "rating_data = np.hstack([np.random.choice(session_ids, size=(20, 1)), rating_data, time_stamps.reshape(-1, 1)])\n",
    "rating_df = pd.DataFrame(rating_data, columns=['SessionId', 'ItemId', 'Time'])\n",
    "rating_df = rating_df.drop_duplicates(subset=['SessionId', 'ItemId'])\n",
    "\n",
    "rating_df['SessionId'] = rating_df['SessionId'].astype(int)\n",
    "rating_df['ItemId'] = rating_df['ItemId'].astype(int)\n",
    "\n",
    "print('length of rating_df:', str(len(rating_df)))\n",
    "print(rating_df.head(5))"
   ]
  },
  {
   "cell_type": "code",
   "execution_count": 6,
   "id": "dcd70e2e-5874-4421-883e-999d13a7e372",
   "metadata": {},
   "outputs": [
    {
     "name": "stdout",
     "output_type": "stream",
     "text": [
      "user_id_mapping: {1: 0, 2: 1, 4: 2, 5: 3}\n",
      "item_id_mapping: {1: 0, 2: 1, 3: 2, 4: 3, 5: 4}\n"
     ]
    }
   ],
   "source": [
    "user_id_mapping = {id: index for index, id in enumerate(sorted(rating_df['SessionId'].unique()))}\n",
    "item_id_mapping = {id: index for index, id in enumerate(sorted(rating_df['ItemId'].unique()))}\n",
    "print('user_id_mapping:', str(user_id_mapping))\n",
    "print('item_id_mapping:', str(item_id_mapping))"
   ]
  },
  {
   "cell_type": "code",
   "execution_count": 7,
   "id": "271c3042-c6cf-4de4-bb7a-240244e80f0e",
   "metadata": {},
   "outputs": [
    {
     "name": "stdout",
     "output_type": "stream",
     "text": [
      "num_users: 4\n",
      "num_items: 5\n"
     ]
    }
   ],
   "source": [
    "num_users = len(user_id_mapping)\n",
    "num_items = len(item_id_mapping)\n",
    "print('num_users:', str(num_users))\n",
    "print('num_items:', str(num_items))"
   ]
  },
  {
   "cell_type": "code",
   "execution_count": 8,
   "id": "ba353c20-143f-4576-a546-a2fc67f74b2a",
   "metadata": {},
   "outputs": [
    {
     "name": "stdout",
     "output_type": "stream",
     "text": [
      "matrix:\n",
      " [[0. 0. 0. 1. 0.]\n",
      " [1. 1. 0. 0. 1.]\n",
      " [1. 1. 0. 1. 0.]\n",
      " [0. 1. 1. 1. 1.]]\n"
     ]
    }
   ],
   "source": [
    "matrix = np.zeros((num_users, num_items))\n",
    "for _, row in rating_df.iterrows():\n",
    "    user_id = user_id_mapping[row['SessionId']]\n",
    "    item_id = item_id_mapping[row['ItemId']]\n",
    "    matrix[user_id, item_id] = 1\n",
    "print('matrix:\\n', matrix)"
   ]
  },
  {
   "cell_type": "code",
   "execution_count": 9,
   "id": "59b96693-0818-417d-b399-3ff074f14d83",
   "metadata": {},
   "outputs": [],
   "source": [
    "user_indexes = np.array(range(matrix.shape[0]))"
   ]
  },
  {
   "cell_type": "code",
   "execution_count": 10,
   "id": "b371e7b0-2ca2-4e03-8755-1ebbc4bf4f14",
   "metadata": {},
   "outputs": [],
   "source": [
    "def get_next_user(current_user_idx):\n",
    "    if current_user_idx >= matrix.shape[0]:\n",
    "        current_user_idx = 0\n",
    "        # np.random.shuffle(user_indexes)\n",
    "    \n",
    "    next_user_id = user_indexes[current_user_idx]\n",
    "    current_user_idx += 1\n",
    "    return next_user_id, current_user_idx"
   ]
  },
  {
   "cell_type": "code",
   "execution_count": 11,
   "id": "b2814003-4a42-457a-ad2e-fe5021d1e814",
   "metadata": {},
   "outputs": [],
   "source": [
    "item_genres = movie_genres[genres_columns].to_numpy()"
   ]
  },
  {
   "cell_type": "code",
   "execution_count": 12,
   "id": "1cfb819a-cb07-467e-9ff1-c176eabc5fa0",
   "metadata": {},
   "outputs": [],
   "source": [
    "alpha = 0.1"
   ]
  },
  {
   "cell_type": "code",
   "execution_count": 13,
   "id": "9dede33b-5ba9-4b2d-a3bd-a94b8bd62301",
   "metadata": {},
   "outputs": [],
   "source": [
    "def choose_arm(user_id, A, b):\n",
    "    # user_id = user_id % num_users\n",
    "    user_features_vector = matrix[user_id]\n",
    "    user_features_matrix = np.tile(user_features_vector, (num_items, 1))\n",
    "    item_features_matrix = item_genres\n",
    "    \n",
    "    arm_features =np.concatenate((user_features_matrix, item_features_matrix), axis=1)\n",
    "    p_t = np.zeros(shape=(arm_features.shape[0],), dtype=float)\n",
    "    item_ids = range(num_items)\n",
    "\n",
    "    for a in item_ids:\n",
    "        x_ta = arm_features[a].reshape(arm_features[a].shape[0], 1)\n",
    "        A_a_inv = np.linalg.inv(A[a])\n",
    "        theta_a = A_a_inv.dot(b[a])\n",
    "        p_t[a] = theta_a.T.dot(x_ta) + alpha * np.sqrt(x_ta.T.dot(A_a_inv).dot(x_ta))\n",
    "\n",
    "    max_p_t = np.max(p_t)\n",
    "    max_idxs = np.argwhere(p_t == max_p_t).flatten()\n",
    "    a_t = np.random.choice(max_idxs)\n",
    "    \n",
    "    r_t = recommend(user_id=user_id, item_id=a_t)\n",
    "\n",
    "    x_t_at = arm_features[a_t].reshape(arm_features[a_t].shape[0], 1)\n",
    "    A[a_t] = A[a_t] + x_t_at.dot(x_t_at.T)\n",
    "    b[a_t] = b[a_t] + r_t * x_t_at.flatten()\n",
    "\n",
    "    return r_t"
   ]
  },
  {
   "cell_type": "code",
   "execution_count": 14,
   "id": "afe4139d-bf28-4449-be57-7f6502edd6e0",
   "metadata": {},
   "outputs": [],
   "source": [
    "current_user_idx = 0"
   ]
  },
  {
   "cell_type": "code",
   "execution_count": 15,
   "id": "bf2ff00d-52b2-4ae7-8140-7d2477eabae5",
   "metadata": {},
   "outputs": [],
   "source": [
    "def run_epoch():\n",
    "    rewards = []\n",
    "    current_user_idx = 0\n",
    "\n",
    "    d = item_genres.shape[1] + matrix.shape[1]\n",
    "    b = np.zeros(shape=(num_items, d))\n",
    "    A = np.repeat(np.identity(d, dtype=float)[np.newaxis, :, :], num_items, axis=0)\n",
    "    \n",
    "    for i in range(num_users):\n",
    "        user_id, current_user_idx = get_next_user(current_user_idx)\n",
    "        \n",
    "        reward = choose_arm(user_id, A, b)\n",
    "        rewards.append(reward)\n",
    "\n",
    "    avg_reward = np.average(np.array(rewards))\n",
    "    return avg_reward"
   ]
  },
  {
   "cell_type": "code",
   "execution_count": 16,
   "id": "2e7140fd-2888-407a-813d-7797019eae42",
   "metadata": {},
   "outputs": [],
   "source": [
    "def recommend(user_id, item_id):\n",
    "    if matrix[user_id, item_id] == 1:\n",
    "        return 1\n",
    "    elif matrix[user_id, item_id] == 0:\n",
    "        return 0"
   ]
  },
  {
   "cell_type": "code",
   "execution_count": 17,
   "id": "dd0ea97f-c38e-4943-8ba8-a1b3f193f258",
   "metadata": {},
   "outputs": [],
   "source": [
    "num_epochs = 3\n",
    "avg_rewards = np.zeros(shape=(num_epochs,), dtype=float)"
   ]
  },
  {
   "cell_type": "code",
   "execution_count": 18,
   "id": "12729815-e153-4ae3-95db-0a639a265e36",
   "metadata": {},
   "outputs": [],
   "source": [
    "for i in range(num_epochs):\n",
    "    avg_rewards[i] = run_epoch()"
   ]
  },
  {
   "cell_type": "code",
   "execution_count": 19,
   "id": "ea531926-818a-477c-8128-3ed242d34e8d",
   "metadata": {},
   "outputs": [
    {
     "data": {
      "text/plain": [
       "array([0.5 , 0.75, 0.5 ])"
      ]
     },
     "execution_count": 19,
     "metadata": {},
     "output_type": "execute_result"
    }
   ],
   "source": [
    "avg_rewards"
   ]
  },
  {
   "cell_type": "code",
   "execution_count": 20,
   "id": "805fe539-75f7-4568-8480-c8f789655fc6",
   "metadata": {},
   "outputs": [
    {
     "data": {
      "text/plain": [
       "array([[0., 0., 0., 1., 0.],\n",
       "       [1., 1., 0., 0., 1.],\n",
       "       [1., 1., 0., 1., 0.],\n",
       "       [0., 1., 1., 1., 1.]])"
      ]
     },
     "execution_count": 20,
     "metadata": {},
     "output_type": "execute_result"
    }
   ],
   "source": [
    "matrix"
   ]
  },
  {
   "cell_type": "code",
   "execution_count": null,
   "id": "42fd3934-369b-4dd9-aa38-bedb2c882c50",
   "metadata": {},
   "outputs": [],
   "source": []
  },
  {
   "cell_type": "code",
   "execution_count": 49,
   "id": "5004fc08-786a-4ac5-abaa-659255fc43c4",
   "metadata": {},
   "outputs": [],
   "source": [
    "num_epochs = 3\n",
    "avg_rewards = np.zeros(shape=(num_epochs,), dtype=float)"
   ]
  },
  {
   "cell_type": "code",
   "execution_count": 50,
   "id": "1ccfb234-c625-4555-a94a-40507e7e4cfd",
   "metadata": {},
   "outputs": [],
   "source": [
    "alpha = 0.1"
   ]
  },
  {
   "cell_type": "code",
   "execution_count": 56,
   "id": "c26b644c-30da-49ec-bbbd-560a5c86db6e",
   "metadata": {},
   "outputs": [
    {
     "name": "stdout",
     "output_type": "stream",
     "text": [
      "0\n",
      "1\n",
      "0\n",
      "1\n",
      "0\n",
      "1\n",
      "1\n",
      "1\n",
      "0\n",
      "1\n",
      "0\n",
      "1\n"
     ]
    }
   ],
   "source": [
    "for epoc in range(num_epochs):\n",
    "    rewards = []\n",
    "    current_user_idx = 0\n",
    "\n",
    "    d = item_genres.shape[1] + matrix.shape[1]\n",
    "    b = np.zeros(shape=(num_items, d))\n",
    "    A = np.repeat(np.identity(d, dtype=float)[np.newaxis, :, :], num_items, axis=0)\n",
    "    \n",
    "    for i in range(num_users):\n",
    "        if current_user_idx >= matrix.shape[0]:\n",
    "            current_user_idx = 0\n",
    "            # np.random.shuffle(user_indexes)\n",
    "        next_user_id = user_indexes[current_user_idx]\n",
    "        current_user_idx += 1\n",
    "\n",
    "        user_id = next_user_id\n",
    "        # user_id = user_id % num_users\n",
    "        user_features_vector = matrix[user_id]\n",
    "        user_features_matrix = np.tile(user_features_vector, (num_items, 1))\n",
    "        item_features_matrix = item_genres\n",
    "        \n",
    "        arm_features =np.concatenate((user_features_matrix, item_features_matrix), axis=1)\n",
    "        p_t = np.zeros(shape=(arm_features.shape[0],), dtype=float)\n",
    "        item_ids = range(num_items)\n",
    "    \n",
    "        for a in item_ids:\n",
    "            x_ta = arm_features[a].reshape(arm_features[a].shape[0], 1)\n",
    "            A_a_inv = np.linalg.inv(A[a])\n",
    "            theta_a = A_a_inv.dot(b[a])\n",
    "            p_t[a] = theta_a.T.dot(x_ta) + alpha * np.sqrt(x_ta.T.dot(A_a_inv).dot(x_ta))\n",
    "    \n",
    "        max_p_t = np.max(p_t)\n",
    "        max_idxs = np.argwhere(p_t == max_p_t).flatten()\n",
    "        a_t = np.random.choice(max_idxs)\n",
    "        if matrix[user_id, a_t] == 1:\n",
    "            r_t = 1\n",
    "        elif matrix[user_id, a_t] == 0:\n",
    "            r_t = 0\n",
    "        x_t_at = arm_features[a_t].reshape(arm_features[a_t].shape[0], 1)\n",
    "        A[a_t] = A[a_t] + x_t_at.dot(x_t_at.T)\n",
    "        b[a_t] = b[a_t] + r_t * x_t_at.flatten()\n",
    "\n",
    "        rewards.append(r_t)\n",
    "\n",
    "    avg_reward = np.average(np.array(rewards))"
   ]
  },
  {
   "cell_type": "code",
   "execution_count": 54,
   "id": "26c7935b-48e3-45e7-9710-e4c6d53c5e8e",
   "metadata": {},
   "outputs": [
    {
     "data": {
      "text/plain": [
       "0.5"
      ]
     },
     "execution_count": 54,
     "metadata": {},
     "output_type": "execute_result"
    }
   ],
   "source": [
    "avg_reward"
   ]
  },
  {
   "cell_type": "code",
   "execution_count": null,
   "id": "7da34395-a1c1-4f01-af76-3f5722b8830d",
   "metadata": {},
   "outputs": [],
   "source": []
  }
 ],
 "metadata": {
  "kernelspec": {
   "display_name": "Python 3 (ipykernel)",
   "language": "python",
   "name": "python3"
  },
  "language_info": {
   "codemirror_mode": {
    "name": "ipython",
    "version": 3
   },
   "file_extension": ".py",
   "mimetype": "text/x-python",
   "name": "python",
   "nbconvert_exporter": "python",
   "pygments_lexer": "ipython3",
   "version": "3.9.17"
  }
 },
 "nbformat": 4,
 "nbformat_minor": 5
}
