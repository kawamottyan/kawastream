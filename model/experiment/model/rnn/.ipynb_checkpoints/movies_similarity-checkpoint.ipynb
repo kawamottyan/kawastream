{
 "cells": [
  {
   "cell_type": "code",
   "execution_count": 22,
   "id": "bb7f5766-e804-4af3-a801-24916c133663",
   "metadata": {},
   "outputs": [],
   "source": [
    "import pandas as pd\n",
    "import numpy as np\n",
    "import json\n",
    "\n",
    "from sklearn.feature_extraction.text import TfidfVectorizer\n",
    "from sklearn.metrics.pairwise import cosine_similarity\n",
    "\n",
    "from tqdm import tqdm"
   ]
  },
  {
   "cell_type": "code",
   "execution_count": 2,
   "id": "7c0b0b2e-c136-48ae-95aa-0c1d4950d292",
   "metadata": {},
   "outputs": [],
   "source": [
    "pd.set_option('display.max_columns', 50)"
   ]
  },
  {
   "cell_type": "code",
   "execution_count": 3,
   "id": "b211b101-d370-4ac9-9b79-5e5ba62b7045",
   "metadata": {},
   "outputs": [],
   "source": [
    "data_path = '../../../data/movies_df.csv'\n",
    "movies = pd.read_csv(data_path)"
   ]
  },
  {
   "cell_type": "code",
   "execution_count": 15,
   "id": "f3490ad3-4ca5-45e3-a8bb-11e7ecc95dc1",
   "metadata": {},
   "outputs": [],
   "source": [
    "movies = movies[['tmdbId', 'overview']]\n",
    "movies = movies.rename({'tmdbId':'ItemId'}, axis=1)"
   ]
  },
  {
   "cell_type": "code",
   "execution_count": 6,
   "id": "b5c3c01a-7f97-4232-a8da-145767b145a2",
   "metadata": {},
   "outputs": [],
   "source": [
    "vectorizer = TfidfVectorizer(stop_words='english')\n",
    "overview_matrix = vectorizer.fit_transform(movies['overview'].fillna(''))\n",
    "\n",
    "similarity_matrix = cosine_similarity(overview_matrix)"
   ]
  },
  {
   "cell_type": "code",
   "execution_count": 16,
   "id": "44274b4b-c43c-4383-922a-d155c3206dfd",
   "metadata": {},
   "outputs": [],
   "source": [
    "def get_similar_movies(movie_id, top_n=1000):\n",
    "    movie_idx = movies.index[movies['ItemId'] == movie_id].tolist()[0]\n",
    "    similarity_scores = list(enumerate(similarity_matrix[movie_idx]))\n",
    "    similarity_scores = sorted(similarity_scores, key=lambda x: x[1], reverse=True)\n",
    "    similarity_scores = similarity_scores[1:top_n+1]\n",
    "    similar_movies = [movies['ItemId'][i] for i, score in similarity_scores]\n",
    "    return similar_movies"
   ]
  },
  {
   "cell_type": "code",
   "execution_count": 17,
   "id": "da6ef367-4055-4bd1-a205-2a4d47953ce5",
   "metadata": {},
   "outputs": [
    {
     "name": "stderr",
     "output_type": "stream",
     "text": [
      "Processing Movies: 100%|█████████████████████████████████████████████████████████| 26483/26483 [08:56<00:00, 49.39it/s]\n"
     ]
    }
   ],
   "source": [
    "movie_dictionaries = {}\n",
    "for movie_id in tqdm(movies['ItemId'], desc=\"Processing Movies\"):\n",
    "    similar_movies_ids = get_similar_movies(movie_id)\n",
    "    movie_dictionaries[movie_id] = similar_movies_ids"
   ]
  },
  {
   "cell_type": "code",
   "execution_count": 20,
   "id": "3f391f8c-ee66-4aa6-9aec-baf8f9ef6f10",
   "metadata": {},
   "outputs": [],
   "source": [
    "def convert_int64(o):\n",
    "    if isinstance(o, np.int64):\n",
    "        return int(o)\n",
    "    raise TypeError"
   ]
  },
  {
   "cell_type": "code",
   "execution_count": 23,
   "id": "30636089-d3ba-4739-9135-efbbffa8ea69",
   "metadata": {
    "scrolled": true
   },
   "outputs": [],
   "source": [
    "data_path = '../../../data/movies_similarity.json'\n",
    "with open(data_path, 'w') as f:\n",
    "    json.dump(movie_dictionaries, f, default=convert_int64)"
   ]
  }
 ],
 "metadata": {
  "kernelspec": {
   "display_name": "Python 3 (ipykernel)",
   "language": "python",
   "name": "python3"
  },
  "language_info": {
   "codemirror_mode": {
    "name": "ipython",
    "version": 3
   },
   "file_extension": ".py",
   "mimetype": "text/x-python",
   "name": "python",
   "nbconvert_exporter": "python",
   "pygments_lexer": "ipython3",
   "version": "3.9.17"
  }
 },
 "nbformat": 4,
 "nbformat_minor": 5
}
