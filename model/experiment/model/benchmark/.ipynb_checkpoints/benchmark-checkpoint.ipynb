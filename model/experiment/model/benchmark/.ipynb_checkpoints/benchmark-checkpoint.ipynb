{
 "cells": [
  {
   "cell_type": "code",
   "execution_count": 1,
   "id": "27a905bf-2a22-4372-9648-534c3eacf91b",
   "metadata": {},
   "outputs": [],
   "source": [
    "import pandas as pd\n",
    "import numpy as np\n",
    "\n",
    "from scipy.sparse import csr_matrix\n",
    "from sklearn.metrics.pairwise import cosine_similarity\n",
    "from sklearn.metrics import ndcg_score\n",
    "\n",
    "from collections import Counter\n",
    "from tqdm import tqdm\n",
    "import random"
   ]
  },
  {
   "cell_type": "code",
   "execution_count": 2,
   "id": "b2d4e5cc-ec46-4968-a8d3-20a9c3c8f80d",
   "metadata": {},
   "outputs": [],
   "source": [
    "random_seed = 42"
   ]
  },
  {
   "cell_type": "code",
   "execution_count": 3,
   "id": "fc3a9e3d-879b-4419-a2e2-58cb0c5d2cb7",
   "metadata": {},
   "outputs": [],
   "source": [
    "data_path = '../../../data/All.csv'\n",
    "df = pd.read_csv(data_path)"
   ]
  },
  {
   "cell_type": "code",
   "execution_count": 4,
   "id": "7dfe0484-d08d-4fc7-b811-8a86111899a1",
   "metadata": {},
   "outputs": [],
   "source": [
    "sampled_df = df['SessionId'].sample(n=1000, random_state=random_seed)\n",
    "df = df[df['SessionId'].isin(sampled_df)]"
   ]
  },
  {
   "cell_type": "code",
   "execution_count": 5,
   "id": "16519fb7-e902-4e2a-876c-e6a85fdb2c50",
   "metadata": {},
   "outputs": [],
   "source": [
    "last_items = df.loc[df.groupby('SessionId')['Time'].idxmax()]\n",
    "last_items = last_items[['SessionId', 'ItemId']]"
   ]
  },
  {
   "cell_type": "code",
   "execution_count": 6,
   "id": "388fbcef-82d2-4562-8864-f808c89df224",
   "metadata": {},
   "outputs": [],
   "source": [
    "other_items = df.drop(last_items.index)\n",
    "other_items = other_items[['SessionId', 'ItemId']]"
   ]
  },
  {
   "cell_type": "code",
   "execution_count": 7,
   "id": "a164da89-a9c0-4df4-9ee1-7bf4739828c6",
   "metadata": {},
   "outputs": [],
   "source": [
    "user_item_matrix = other_items.pivot_table(index='SessionId', columns='ItemId', aggfunc='size', fill_value=0)"
   ]
  },
  {
   "cell_type": "code",
   "execution_count": 8,
   "id": "4b939d5d-501d-4fff-9c8b-c27dc50fc8ff",
   "metadata": {},
   "outputs": [],
   "source": [
    "sparse_user_item = csr_matrix(user_item_matrix.values)"
   ]
  },
  {
   "cell_type": "code",
   "execution_count": 9,
   "id": "309a4ff2-81ad-47f4-b20f-8ac49ccc522c",
   "metadata": {},
   "outputs": [],
   "source": [
    "def calculate_ndcg_in_batches(sparse_matrix, last_items, session_index_mapping, batch_size):\n",
    "    ndcg_scores = []\n",
    "    num_sessions = sparse_matrix.shape[0]\n",
    "\n",
    "    for start_row in tqdm(range(0, num_sessions, batch_size)):\n",
    "        end_row = min(start_row + batch_size, num_sessions)\n",
    "        sim_batch = cosine_similarity(sparse_matrix[start_row:end_row], sparse_matrix)\n",
    "\n",
    "        for batch_index, global_index in enumerate(range(start_row, end_row)):\n",
    "            session_id = list(session_index_mapping.keys())[list(session_index_mapping.values()).index(global_index)]\n",
    "            \n",
    "            if session_id in last_items['SessionId'].values:\n",
    "                true_item = last_items.loc[last_items['SessionId'] == session_id, 'ItemId'].values[0]\n",
    "                similar_sessions = sim_batch[batch_index]\n",
    "                top_similar_indices = similar_sessions.argsort()[-101:-1] #100\n",
    "                recommended_item_ids = []\n",
    "                for idx in top_similar_indices:\n",
    "                    session_data = sparse_matrix.getrow(idx)\n",
    "                    interacted_items = session_data.indices\n",
    "                    recommended_item_ids.extend(interacted_items)\n",
    "\n",
    "                item_counts = Counter(recommended_item_ids)\n",
    "                viewed_items = set(other_items.loc[other_items['SessionId'] == session_id, 'ItemId'])\n",
    "                candidate_items = [item for item, count in item_counts.items() if item not in viewed_items]\n",
    "\n",
    "                if len(candidate_items) > 100:\n",
    "                    predicted_items_id = random.sample(candidate_items, 100) #100\n",
    "                    relevance = np.isin(predicted_items_id, true_item).astype(int)\n",
    "                    ndcg = ndcg_score([relevance], [relevance])\n",
    "                    ndcg_scores.append(ndcg)\n",
    "                else:\n",
    "                    continue\n",
    "\n",
    "    return ndcg_scores"
   ]
  },
  {
   "cell_type": "code",
   "execution_count": 10,
   "id": "a1f60bd3-b006-44c1-9901-d22b4ee9b9da",
   "metadata": {},
   "outputs": [],
   "source": [
    "session_index_mapping = {session_id: index for index, session_id in enumerate(df['SessionId'].unique())}"
   ]
  },
  {
   "cell_type": "code",
   "execution_count": 11,
   "id": "1fe72f95-7cca-4f20-be0f-d811aa0deb3d",
   "metadata": {},
   "outputs": [
    {
     "name": "stderr",
     "output_type": "stream",
     "text": [
      "100%|████████████████████████████████████████████████████████████████████████████████████| 1/1 [00:16<00:00, 16.77s/it]"
     ]
    },
    {
     "name": "stdout",
     "output_type": "stream",
     "text": [
      "Average NDCG@100: 0.00911854103343465\n"
     ]
    },
    {
     "name": "stderr",
     "output_type": "stream",
     "text": [
      "\n"
     ]
    }
   ],
   "source": [
    "ndcgs = calculate_ndcg_in_batches(sparse_user_item, last_items, session_index_mapping, batch_size=1000)\n",
    "average_ndcg = np.mean(ndcgs)\n",
    "print(\"Average NDCG@100:\", average_ndcg)"
   ]
  }
 ],
 "metadata": {
  "kernelspec": {
   "display_name": "Python 3 (ipykernel)",
   "language": "python",
   "name": "python3"
  },
  "language_info": {
   "codemirror_mode": {
    "name": "ipython",
    "version": 3
   },
   "file_extension": ".py",
   "mimetype": "text/x-python",
   "name": "python",
   "nbconvert_exporter": "python",
   "pygments_lexer": "ipython3",
   "version": "3.9.17"
  }
 },
 "nbformat": 4,
 "nbformat_minor": 5
}
