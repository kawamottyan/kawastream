{
 "cells": [
  {
   "cell_type": "markdown",
   "id": "c2130436-953a-473d-ab51-e9cf694ee9b1",
   "metadata": {},
   "source": [
    "#### 目次\n",
    "- 不要なデータを削除する\n",
    "- train, valid, test, allを作成する"
   ]
  },
  {
   "cell_type": "code",
   "execution_count": 1,
   "id": "e2098bad-e92d-45c8-a88c-ea7f89f7f238",
   "metadata": {},
   "outputs": [],
   "source": [
    "import pandas as pd\n",
    "import numpy as np"
   ]
  },
  {
   "cell_type": "code",
   "execution_count": 2,
   "id": "a410787b-8b9e-476c-b9de-c8612b695170",
   "metadata": {},
   "outputs": [],
   "source": [
    "pd.set_option('display.max_columns', 100)"
   ]
  },
  {
   "cell_type": "code",
   "execution_count": 3,
   "id": "ee21106c-dd2e-449e-b1a5-7a277cb825ad",
   "metadata": {},
   "outputs": [],
   "source": [
    "ratings_df = pd.read_csv('./data/ratings_df.csv')\n",
    "movies_df = pd.read_csv('./data/movies_df.csv')"
   ]
  },
  {
   "cell_type": "markdown",
   "id": "8e63d4fc-5eec-4888-ba85-c47740a7a5a9",
   "metadata": {},
   "source": [
    "### 不要なデータを削除する"
   ]
  },
  {
   "cell_type": "markdown",
   "id": "62548192-86f1-40e6-9007-77a754adcbd5",
   "metadata": {},
   "source": [
    "- 評価が4以上のレビューのみ保存する"
   ]
  },
  {
   "cell_type": "code",
   "execution_count": 4,
   "id": "5e0707da-a4c2-4fbe-a276-af9e5f5548b7",
   "metadata": {},
   "outputs": [],
   "source": [
    "good_ratings_df = ratings_df[ratings_df['rating'] >= 4]"
   ]
  },
  {
   "cell_type": "code",
   "execution_count": 5,
   "id": "f6a4cc53-b68f-46dd-bbe2-d68d14844cf5",
   "metadata": {},
   "outputs": [
    {
     "name": "stdout",
     "output_type": "stream",
     "text": [
      "Length of ratings: 9987091\n",
      "Length of movies: 26483\n"
     ]
    }
   ],
   "source": [
    "print(\"Length of ratings:\", len(good_ratings_df))\n",
    "print(\"Length of movies:\", len(movies_df))"
   ]
  },
  {
   "cell_type": "markdown",
   "id": "679ca369-5f8c-44dd-83d6-63a2796c4cd5",
   "metadata": {},
   "source": [
    "- カラムの名前をそれぞれ変更する\n",
    "- カラムの型をそれぞれ変更する"
   ]
  },
  {
   "cell_type": "code",
   "execution_count": 6,
   "id": "5c9f30ab-9009-4b43-90b8-78551bd98ae6",
   "metadata": {},
   "outputs": [],
   "source": [
    "good_ratings_df = good_ratings_df.drop(['rating'], axis=1)\n",
    "good_ratings_df = good_ratings_df.rename(columns={'userId': 'SessionId', 'tmdbId': 'ItemId', 'timestamp': 'Time'})"
   ]
  },
  {
   "cell_type": "code",
   "execution_count": 7,
   "id": "b39822a5-20b0-4a45-be6e-c0f93afaf509",
   "metadata": {},
   "outputs": [],
   "source": [
    "good_ratings_df = good_ratings_df.dropna()\n",
    "good_ratings_df['SessionId'] = good_ratings_df['SessionId'].astype(np.int64)\n",
    "good_ratings_df['ItemId'] = good_ratings_df['ItemId'].astype(np.int64)\n",
    "good_ratings_df['Time'] = good_ratings_df['Time'].astype(np.float64)"
   ]
  },
  {
   "cell_type": "markdown",
   "id": "8896197c-f736-494c-ada3-a9ed1820bb8d",
   "metadata": {},
   "source": [
    "- 5回以上出現するセッションIDをフィルタリング"
   ]
  },
  {
   "cell_type": "code",
   "execution_count": 8,
   "id": "eed0f5e7-9803-43f8-b21d-7cb3a2408773",
   "metadata": {},
   "outputs": [],
   "source": [
    "session_counts = good_ratings_df['SessionId'].value_counts()\n",
    "sessions_to_keep = session_counts[session_counts >= 5].index\n",
    "filtered_df = good_ratings_df[good_ratings_df['SessionId'].isin(sessions_to_keep)]"
   ]
  },
  {
   "cell_type": "code",
   "execution_count": 9,
   "id": "032310f5-a65b-4495-a108-63acdf0fec44",
   "metadata": {},
   "outputs": [
    {
     "name": "stdout",
     "output_type": "stream",
     "text": [
      "Length of all: 9982346\n"
     ]
    }
   ],
   "source": [
    "all = filtered_df.copy()\n",
    "print(\"Length of all:\", len(all))"
   ]
  },
  {
   "cell_type": "markdown",
   "id": "e0363cf4-f8cf-4434-bead-b22c0e356d46",
   "metadata": {},
   "source": [
    "- SessionId毎にtrain,valid,testをそれぞれ6対2対2で分ける\n",
    "- trainにある、アイテムのみをvalid,testで保持する"
   ]
  },
  {
   "cell_type": "markdown",
   "id": "62c48ebc-9018-46b0-be73-0027ed8f1a30",
   "metadata": {},
   "source": [
    "### train, valid, test, allを作成する"
   ]
  },
  {
   "cell_type": "code",
   "execution_count": 10,
   "id": "70daeaf8-f4c2-4f6b-a4b4-c21cefc640e3",
   "metadata": {},
   "outputs": [],
   "source": [
    "session_ids = filtered_df['SessionId'].unique()\n",
    "\n",
    "np.random.shuffle(session_ids)\n",
    "num_sessions = len(session_ids)\n",
    "\n",
    "train_size = int(num_sessions * 0.6)\n",
    "valid_size = int(num_sessions * 0.2)\n",
    "\n",
    "train_ids = session_ids[:train_size]\n",
    "valid_ids = session_ids[train_size:train_size + valid_size]\n",
    "test_ids = session_ids[train_size + valid_size:]\n",
    "\n",
    "train = filtered_df[filtered_df['SessionId'].isin(train_ids)]\n",
    "valid = filtered_df[filtered_df['SessionId'].isin(valid_ids)]\n",
    "test = filtered_df[filtered_df['SessionId'].isin(test_ids)]"
   ]
  },
  {
   "cell_type": "code",
   "execution_count": 11,
   "id": "d3c77342-664e-4aa8-9860-5ef5299c0b60",
   "metadata": {},
   "outputs": [],
   "source": [
    "unique_item_ids = train['ItemId'].unique()\n",
    "valid = valid[valid['ItemId'].isin(unique_item_ids)]\n",
    "test = test[test['ItemId'].isin(unique_item_ids)]"
   ]
  },
  {
   "cell_type": "code",
   "execution_count": 12,
   "id": "8cab43b3-986a-4d56-8a5f-c6fb0c889add",
   "metadata": {},
   "outputs": [
    {
     "name": "stdout",
     "output_type": "stream",
     "text": [
      "Length of train 5990864\n",
      "Length of valid: 2014002\n",
      "Length of test: 1975256\n"
     ]
    }
   ],
   "source": [
    "print(\"Length of train\", len(train))\n",
    "print(\"Length of valid:\", len(valid))\n",
    "print(\"Length of test:\", len(test))"
   ]
  },
  {
   "cell_type": "code",
   "execution_count": 13,
   "id": "56472699-4378-4444-a942-0377ef50fb12",
   "metadata": {},
   "outputs": [
    {
     "data": {
      "text/html": [
       "<div>\n",
       "<style scoped>\n",
       "    .dataframe tbody tr th:only-of-type {\n",
       "        vertical-align: middle;\n",
       "    }\n",
       "\n",
       "    .dataframe tbody tr th {\n",
       "        vertical-align: top;\n",
       "    }\n",
       "\n",
       "    .dataframe thead th {\n",
       "        text-align: right;\n",
       "    }\n",
       "</style>\n",
       "<table border=\"1\" class=\"dataframe\">\n",
       "  <thead>\n",
       "    <tr style=\"text-align: right;\">\n",
       "      <th></th>\n",
       "      <th>SessionId</th>\n",
       "      <th>ItemId</th>\n",
       "      <th>Time</th>\n",
       "    </tr>\n",
       "  </thead>\n",
       "  <tbody>\n",
       "    <tr>\n",
       "      <th>9</th>\n",
       "      <td>119</td>\n",
       "      <td>8844</td>\n",
       "      <td>8.451107e+08</td>\n",
       "    </tr>\n",
       "    <tr>\n",
       "      <th>20</th>\n",
       "      <td>156</td>\n",
       "      <td>8844</td>\n",
       "      <td>1.040938e+09</td>\n",
       "    </tr>\n",
       "    <tr>\n",
       "      <th>30</th>\n",
       "      <td>249</td>\n",
       "      <td>8844</td>\n",
       "      <td>8.366401e+08</td>\n",
       "    </tr>\n",
       "  </tbody>\n",
       "</table>\n",
       "</div>"
      ],
      "text/plain": [
       "    SessionId  ItemId          Time\n",
       "9         119    8844  8.451107e+08\n",
       "20        156    8844  1.040938e+09\n",
       "30        249    8844  8.366401e+08"
      ]
     },
     "execution_count": 13,
     "metadata": {},
     "output_type": "execute_result"
    }
   ],
   "source": [
    "train.head(3)"
   ]
  },
  {
   "cell_type": "code",
   "execution_count": 14,
   "id": "d4b0260a-9ce4-4d83-bfad-2b59d59a2387",
   "metadata": {},
   "outputs": [
    {
     "data": {
      "text/html": [
       "<div>\n",
       "<style scoped>\n",
       "    .dataframe tbody tr th:only-of-type {\n",
       "        vertical-align: middle;\n",
       "    }\n",
       "\n",
       "    .dataframe tbody tr th {\n",
       "        vertical-align: top;\n",
       "    }\n",
       "\n",
       "    .dataframe thead th {\n",
       "        text-align: right;\n",
       "    }\n",
       "</style>\n",
       "<table border=\"1\" class=\"dataframe\">\n",
       "  <thead>\n",
       "    <tr style=\"text-align: right;\">\n",
       "      <th></th>\n",
       "      <th>SessionId</th>\n",
       "      <th>ItemId</th>\n",
       "      <th>Time</th>\n",
       "    </tr>\n",
       "  </thead>\n",
       "  <tbody>\n",
       "    <tr>\n",
       "      <th>53</th>\n",
       "      <td>395</td>\n",
       "      <td>8844</td>\n",
       "      <td>1.339724e+09</td>\n",
       "    </tr>\n",
       "    <tr>\n",
       "      <th>97</th>\n",
       "      <td>635</td>\n",
       "      <td>8844</td>\n",
       "      <td>1.035062e+09</td>\n",
       "    </tr>\n",
       "    <tr>\n",
       "      <th>104</th>\n",
       "      <td>679</td>\n",
       "      <td>8844</td>\n",
       "      <td>8.449591e+08</td>\n",
       "    </tr>\n",
       "  </tbody>\n",
       "</table>\n",
       "</div>"
      ],
      "text/plain": [
       "     SessionId  ItemId          Time\n",
       "53         395    8844  1.339724e+09\n",
       "97         635    8844  1.035062e+09\n",
       "104        679    8844  8.449591e+08"
      ]
     },
     "execution_count": 14,
     "metadata": {},
     "output_type": "execute_result"
    }
   ],
   "source": [
    "valid.head(3)"
   ]
  },
  {
   "cell_type": "code",
   "execution_count": 15,
   "id": "cbfffd5c-2787-45ab-bb4b-354f4fb7d1b6",
   "metadata": {},
   "outputs": [
    {
     "data": {
      "text/html": [
       "<div>\n",
       "<style scoped>\n",
       "    .dataframe tbody tr th:only-of-type {\n",
       "        vertical-align: middle;\n",
       "    }\n",
       "\n",
       "    .dataframe tbody tr th {\n",
       "        vertical-align: top;\n",
       "    }\n",
       "\n",
       "    .dataframe thead th {\n",
       "        text-align: right;\n",
       "    }\n",
       "</style>\n",
       "<table border=\"1\" class=\"dataframe\">\n",
       "  <thead>\n",
       "    <tr style=\"text-align: right;\">\n",
       "      <th></th>\n",
       "      <th>SessionId</th>\n",
       "      <th>ItemId</th>\n",
       "      <th>Time</th>\n",
       "    </tr>\n",
       "  </thead>\n",
       "  <tbody>\n",
       "    <tr>\n",
       "      <th>18</th>\n",
       "      <td>142</td>\n",
       "      <td>8844</td>\n",
       "      <td>8.334587e+08</td>\n",
       "    </tr>\n",
       "    <tr>\n",
       "      <th>40</th>\n",
       "      <td>309</td>\n",
       "      <td>8844</td>\n",
       "      <td>1.082916e+09</td>\n",
       "    </tr>\n",
       "    <tr>\n",
       "      <th>54</th>\n",
       "      <td>401</td>\n",
       "      <td>8844</td>\n",
       "      <td>8.470497e+08</td>\n",
       "    </tr>\n",
       "  </tbody>\n",
       "</table>\n",
       "</div>"
      ],
      "text/plain": [
       "    SessionId  ItemId          Time\n",
       "18        142    8844  8.334587e+08\n",
       "40        309    8844  1.082916e+09\n",
       "54        401    8844  8.470497e+08"
      ]
     },
     "execution_count": 15,
     "metadata": {},
     "output_type": "execute_result"
    }
   ],
   "source": [
    "test.head(3)"
   ]
  },
  {
   "cell_type": "code",
   "execution_count": 16,
   "id": "e3bbc779-9571-4858-acc4-876303f2aa92",
   "metadata": {},
   "outputs": [],
   "source": [
    "all.to_csv('./data/All.csv', index=False)\n",
    "train.to_csv('./data/Train.csv', index=False)\n",
    "test.to_csv('./data/Test.csv', index=False)\n",
    "valid.to_csv('./data/Valid.csv', index=False)"
   ]
  }
 ],
 "metadata": {
  "kernelspec": {
   "display_name": "Python 3 (ipykernel)",
   "language": "python",
   "name": "python3"
  },
  "language_info": {
   "codemirror_mode": {
    "name": "ipython",
    "version": 3
   },
   "file_extension": ".py",
   "mimetype": "text/x-python",
   "name": "python",
   "nbconvert_exporter": "python",
   "pygments_lexer": "ipython3",
   "version": "3.9.17"
  }
 },
 "nbformat": 4,
 "nbformat_minor": 5
}
