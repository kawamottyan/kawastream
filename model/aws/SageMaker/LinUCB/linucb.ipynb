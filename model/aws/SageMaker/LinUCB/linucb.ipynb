{
 "cells": [
  {
   "cell_type": "code",
   "execution_count": 1,
   "id": "d0ea1cfa",
   "metadata": {},
   "outputs": [
    {
     "name": "stderr",
     "output_type": "stream",
     "text": [
      "/home/ec2-user/anaconda3/envs/python3/lib/python3.10/site-packages/pandas/core/computation/expressions.py:21: UserWarning: Pandas requires version '2.8.0' or newer of 'numexpr' (version '2.7.3' currently installed).\n",
      "  from pandas.core.computation.check import NUMEXPR_INSTALLED\n"
     ]
    },
    {
     "name": "stdout",
     "output_type": "stream",
     "text": [
      "sagemaker.config INFO - Not applying SDK defaults from location: /etc/xdg/sagemaker/config.yaml\n",
      "sagemaker.config INFO - Not applying SDK defaults from location: /home/ec2-user/.config/sagemaker/config.yaml\n"
     ]
    }
   ],
   "source": [
    "import os\n",
    "from io import BytesIO\n",
    "\n",
    "import json\n",
    "import pandas as pd\n",
    "import numpy as np\n",
    "\n",
    "import boto3\n",
    "import sagemaker\n",
    "from sagemaker.sklearn import SKLearn\n",
    "\n",
    "from sagemaker.deserializers import JSONDeserializer\n",
    "from sagemaker.serializers import CSVSerializer\n",
    "from sagemaker.serverless import ServerlessInferenceConfig"
   ]
  },
  {
   "cell_type": "code",
   "execution_count": 2,
   "id": "18e48981",
   "metadata": {},
   "outputs": [],
   "source": [
    "sagemaker_client = boto3.client('sagemaker')"
   ]
  },
  {
   "cell_type": "code",
   "execution_count": 3,
   "id": "de70a1de",
   "metadata": {},
   "outputs": [],
   "source": [
    "s3 = boto3.client('s3')\n",
    "bucket = 'movielens-recommendation'"
   ]
  },
  {
   "cell_type": "code",
   "execution_count": 4,
   "id": "59f7c545",
   "metadata": {},
   "outputs": [],
   "source": [
    "train_channel = sagemaker.session.TrainingInput(\n",
    "    f\"s3://{bucket}/data/linucb/All.csv\", \n",
    "    distribution=\"FullyReplicated\",\n",
    "    content_type=\"text/csv\",\n",
    "    s3_data_type=\"S3Prefix\"\n",
    ")\n",
    "eval_channel = sagemaker.session.TrainingInput(\n",
    "    f\"s3://{bucket}/data/linucb/user_genre_matrix_df.csv\", \n",
    "    distribution=\"FullyReplicated\",\n",
    "    content_type=\"text/csv\",\n",
    "    s3_data_type=\"S3Prefix\"\n",
    ")"
   ]
  },
  {
   "cell_type": "code",
   "execution_count": 5,
   "id": "c1dca515",
   "metadata": {},
   "outputs": [
    {
     "name": "stdout",
     "output_type": "stream",
     "text": [
      "sagemaker.config INFO - Not applying SDK defaults from location: /etc/xdg/sagemaker/config.yaml\n",
      "sagemaker.config INFO - Not applying SDK defaults from location: /home/ec2-user/.config/sagemaker/config.yaml\n",
      "sagemaker.config INFO - Not applying SDK defaults from location: /etc/xdg/sagemaker/config.yaml\n",
      "sagemaker.config INFO - Not applying SDK defaults from location: /home/ec2-user/.config/sagemaker/config.yaml\n"
     ]
    }
   ],
   "source": [
    "script_path = \"inference.py\"\n",
    "source_dir = \"scripts\"\n",
    "role = sagemaker.get_execution_role()\n",
    "sagemaker_session = sagemaker.Session()"
   ]
  },
  {
   "cell_type": "code",
   "execution_count": 6,
   "id": "4d8892c1",
   "metadata": {},
   "outputs": [],
   "source": [
    "estimator = SKLearn(\n",
    "    framework_version='0.23-1',\n",
    "    py_version='py3',\n",
    "    entry_point=script_path,\n",
    "    source_dir=source_dir,\n",
    "    instance_type=\"ml.m5.2xlarge\",\n",
    "    instance_count=1,\n",
    "    role=role,\n",
    "    sagemaker_session=sagemaker_session,\n",
    "    output_path=f\"s3://{bucket}/output\",\n",
    ")"
   ]
  },
  {
   "cell_type": "code",
   "execution_count": 7,
   "id": "104ccae4",
   "metadata": {},
   "outputs": [
    {
     "name": "stderr",
     "output_type": "stream",
     "text": [
      "INFO:sagemaker:Creating training-job with name: sagemaker-scikit-learn-2024-01-08-10-21-22-975\n"
     ]
    },
    {
     "name": "stdout",
     "output_type": "stream",
     "text": [
      "Using provided s3_resource\n",
      "2024-01-08 10:21:23 Starting - Starting the training job...\n",
      "2024-01-08 10:21:46 Starting - Preparing the instances for training.........\n",
      "2024-01-08 10:23:05 Downloading - Downloading input data...\n",
      "2024-01-08 10:23:41 Training - Training image download completed. Training in progress...\u001b[34m2024-01-08 10:24:00,438 sagemaker-containers INFO     Imported framework sagemaker_sklearn_container.training\u001b[0m\n",
      "\u001b[34m2024-01-08 10:24:00,441 sagemaker-training-toolkit INFO     No GPUs detected (normal if no gpus installed)\u001b[0m\n",
      "\u001b[34m2024-01-08 10:24:00,478 sagemaker_sklearn_container.training INFO     Invoking user training script.\u001b[0m\n",
      "\u001b[34m2024-01-08 10:24:00,632 sagemaker-training-toolkit INFO     No GPUs detected (normal if no gpus installed)\u001b[0m\n",
      "\u001b[34m2024-01-08 10:24:00,644 sagemaker-training-toolkit INFO     No GPUs detected (normal if no gpus installed)\u001b[0m\n",
      "\u001b[34m2024-01-08 10:24:00,655 sagemaker-training-toolkit INFO     No GPUs detected (normal if no gpus installed)\u001b[0m\n",
      "\u001b[34m2024-01-08 10:24:00,664 sagemaker-training-toolkit INFO     Invoking user script\u001b[0m\n",
      "\u001b[34mTraining Env:\u001b[0m\n",
      "\u001b[34m{\n",
      "    \"additional_framework_parameters\": {},\n",
      "    \"channel_input_dirs\": {\n",
      "        \"eval\": \"/opt/ml/input/data/eval\",\n",
      "        \"train\": \"/opt/ml/input/data/train\"\n",
      "    },\n",
      "    \"current_host\": \"algo-1\",\n",
      "    \"framework_module\": \"sagemaker_sklearn_container.training:main\",\n",
      "    \"hosts\": [\n",
      "        \"algo-1\"\n",
      "    ],\n",
      "    \"hyperparameters\": {},\n",
      "    \"input_config_dir\": \"/opt/ml/input/config\",\n",
      "    \"input_data_config\": {\n",
      "        \"eval\": {\n",
      "            \"ContentType\": \"text/csv\",\n",
      "            \"TrainingInputMode\": \"File\",\n",
      "            \"S3DistributionType\": \"FullyReplicated\",\n",
      "            \"RecordWrapperType\": \"None\"\n",
      "        },\n",
      "        \"train\": {\n",
      "            \"ContentType\": \"text/csv\",\n",
      "            \"TrainingInputMode\": \"File\",\n",
      "            \"S3DistributionType\": \"FullyReplicated\",\n",
      "            \"RecordWrapperType\": \"None\"\n",
      "        }\n",
      "    },\n",
      "    \"input_dir\": \"/opt/ml/input\",\n",
      "    \"is_master\": true,\n",
      "    \"job_name\": \"sagemaker-scikit-learn-2024-01-08-10-21-22-975\",\n",
      "    \"log_level\": 20,\n",
      "    \"master_hostname\": \"algo-1\",\n",
      "    \"model_dir\": \"/opt/ml/model\",\n",
      "    \"module_dir\": \"s3://movielens-recommendation/sagemaker-scikit-learn-2024-01-08-10-21-22-975/source/sourcedir.tar.gz\",\n",
      "    \"module_name\": \"inference\",\n",
      "    \"network_interface_name\": \"eth0\",\n",
      "    \"num_cpus\": 8,\n",
      "    \"num_gpus\": 0,\n",
      "    \"output_data_dir\": \"/opt/ml/output/data\",\n",
      "    \"output_dir\": \"/opt/ml/output\",\n",
      "    \"output_intermediate_dir\": \"/opt/ml/output/intermediate\",\n",
      "    \"resource_config\": {\n",
      "        \"current_host\": \"algo-1\",\n",
      "        \"current_instance_type\": \"ml.m5.2xlarge\",\n",
      "        \"current_group_name\": \"homogeneousCluster\",\n",
      "        \"hosts\": [\n",
      "            \"algo-1\"\n",
      "        ],\n",
      "        \"instance_groups\": [\n",
      "            {\n",
      "                \"instance_group_name\": \"homogeneousCluster\",\n",
      "                \"instance_type\": \"ml.m5.2xlarge\",\n",
      "                \"hosts\": [\n",
      "                    \"algo-1\"\n",
      "                ]\n",
      "            }\n",
      "        ],\n",
      "        \"network_interface_name\": \"eth0\"\n",
      "    },\n",
      "    \"user_entry_point\": \"inference.py\"\u001b[0m\n",
      "\u001b[34m}\u001b[0m\n",
      "\u001b[34mEnvironment variables:\u001b[0m\n",
      "\u001b[34mSM_HOSTS=[\"algo-1\"]\u001b[0m\n",
      "\u001b[34mSM_NETWORK_INTERFACE_NAME=eth0\u001b[0m\n",
      "\u001b[34mSM_HPS={}\u001b[0m\n",
      "\u001b[34mSM_USER_ENTRY_POINT=inference.py\u001b[0m\n",
      "\u001b[34mSM_FRAMEWORK_PARAMS={}\u001b[0m\n",
      "\u001b[34mSM_RESOURCE_CONFIG={\"current_group_name\":\"homogeneousCluster\",\"current_host\":\"algo-1\",\"current_instance_type\":\"ml.m5.2xlarge\",\"hosts\":[\"algo-1\"],\"instance_groups\":[{\"hosts\":[\"algo-1\"],\"instance_group_name\":\"homogeneousCluster\",\"instance_type\":\"ml.m5.2xlarge\"}],\"network_interface_name\":\"eth0\"}\u001b[0m\n",
      "\u001b[34mSM_INPUT_DATA_CONFIG={\"eval\":{\"ContentType\":\"text/csv\",\"RecordWrapperType\":\"None\",\"S3DistributionType\":\"FullyReplicated\",\"TrainingInputMode\":\"File\"},\"train\":{\"ContentType\":\"text/csv\",\"RecordWrapperType\":\"None\",\"S3DistributionType\":\"FullyReplicated\",\"TrainingInputMode\":\"File\"}}\u001b[0m\n",
      "\u001b[34mSM_OUTPUT_DATA_DIR=/opt/ml/output/data\u001b[0m\n",
      "\u001b[34mSM_CHANNELS=[\"eval\",\"train\"]\u001b[0m\n",
      "\u001b[34mSM_CURRENT_HOST=algo-1\u001b[0m\n",
      "\u001b[34mSM_MODULE_NAME=inference\u001b[0m\n",
      "\u001b[34mSM_LOG_LEVEL=20\u001b[0m\n",
      "\u001b[34mSM_FRAMEWORK_MODULE=sagemaker_sklearn_container.training:main\u001b[0m\n",
      "\u001b[34mSM_INPUT_DIR=/opt/ml/input\u001b[0m\n",
      "\u001b[34mSM_INPUT_CONFIG_DIR=/opt/ml/input/config\u001b[0m\n",
      "\u001b[34mSM_OUTPUT_DIR=/opt/ml/output\u001b[0m\n",
      "\u001b[34mSM_NUM_CPUS=8\u001b[0m\n",
      "\u001b[34mSM_NUM_GPUS=0\u001b[0m\n",
      "\u001b[34mSM_MODEL_DIR=/opt/ml/model\u001b[0m\n",
      "\u001b[34mSM_MODULE_DIR=s3://movielens-recommendation/sagemaker-scikit-learn-2024-01-08-10-21-22-975/source/sourcedir.tar.gz\u001b[0m\n",
      "\u001b[34mSM_TRAINING_ENV={\"additional_framework_parameters\":{},\"channel_input_dirs\":{\"eval\":\"/opt/ml/input/data/eval\",\"train\":\"/opt/ml/input/data/train\"},\"current_host\":\"algo-1\",\"framework_module\":\"sagemaker_sklearn_container.training:main\",\"hosts\":[\"algo-1\"],\"hyperparameters\":{},\"input_config_dir\":\"/opt/ml/input/config\",\"input_data_config\":{\"eval\":{\"ContentType\":\"text/csv\",\"RecordWrapperType\":\"None\",\"S3DistributionType\":\"FullyReplicated\",\"TrainingInputMode\":\"File\"},\"train\":{\"ContentType\":\"text/csv\",\"RecordWrapperType\":\"None\",\"S3DistributionType\":\"FullyReplicated\",\"TrainingInputMode\":\"File\"}},\"input_dir\":\"/opt/ml/input\",\"is_master\":true,\"job_name\":\"sagemaker-scikit-learn-2024-01-08-10-21-22-975\",\"log_level\":20,\"master_hostname\":\"algo-1\",\"model_dir\":\"/opt/ml/model\",\"module_dir\":\"s3://movielens-recommendation/sagemaker-scikit-learn-2024-01-08-10-21-22-975/source/sourcedir.tar.gz\",\"module_name\":\"inference\",\"network_interface_name\":\"eth0\",\"num_cpus\":8,\"num_gpus\":0,\"output_data_dir\":\"/opt/ml/output/data\",\"output_dir\":\"/opt/ml/output\",\"output_intermediate_dir\":\"/opt/ml/output/intermediate\",\"resource_config\":{\"current_group_name\":\"homogeneousCluster\",\"current_host\":\"algo-1\",\"current_instance_type\":\"ml.m5.2xlarge\",\"hosts\":[\"algo-1\"],\"instance_groups\":[{\"hosts\":[\"algo-1\"],\"instance_group_name\":\"homogeneousCluster\",\"instance_type\":\"ml.m5.2xlarge\"}],\"network_interface_name\":\"eth0\"},\"user_entry_point\":\"inference.py\"}\u001b[0m\n",
      "\u001b[34mSM_USER_ARGS=[]\u001b[0m\n",
      "\u001b[34mSM_OUTPUT_INTERMEDIATE_DIR=/opt/ml/output/intermediate\u001b[0m\n",
      "\u001b[34mSM_CHANNEL_EVAL=/opt/ml/input/data/eval\u001b[0m\n",
      "\u001b[34mSM_CHANNEL_TRAIN=/opt/ml/input/data/train\u001b[0m\n",
      "\u001b[34mPYTHONPATH=/opt/ml/code:/miniconda3/bin:/miniconda3/lib/python37.zip:/miniconda3/lib/python3.7:/miniconda3/lib/python3.7/lib-dynload:/miniconda3/lib/python3.7/site-packages\u001b[0m\n",
      "\u001b[34mInvoking script with the following command:\u001b[0m\n",
      "\u001b[34m/miniconda3/bin/python inference.py\u001b[0m\n",
      "\u001b[34m### LOADING PARAMETER ###\u001b[0m\n",
      "\u001b[34mloaded parameter\u001b[0m\n",
      "\u001b[34m### LOADING TRAIN DATA ###\u001b[0m\n",
      "\u001b[34m--sparse_matrix--   (0, 4)#0111\n",
      "  (0, 15)#0111\n",
      "  (0, 21)#0111\n",
      "  (0, 42)#0111\n",
      "  (0, 48)#0111\n",
      "  (0, 61)#0111\n",
      "  (0, 62)#0111\n",
      "  (0, 68)#0111\n",
      "  (0, 80)#0111\n",
      "  (0, 81)#0111\n",
      "  (0, 82)#0111\n",
      "  (0, 90)#0111\n",
      "  (0, 92)#0111\n",
      "  (0, 102)#0111\n",
      "  (0, 109)#0111\n",
      "  (0, 117)#0111\n",
      "  (0, 164)#0111\n",
      "  (0, 180)#0111\n",
      "  (0, 219)#0111\n",
      "  (0, 220)#0111\n",
      "  (0, 279)#0111\n",
      "  (0, 296)#0111\n",
      "  (0, 388)#0111\n",
      "  (0, 397)#0111\n",
      "  (0, 407)#0111\n",
      "  :#011:\n",
      "  (136670, 4804)#0111\n",
      "  (136670, 4806)#0111\n",
      "  (136670, 4807)#0111\n",
      "  (136670, 4859)#0111\n",
      "  (136670, 4888)#0111\n",
      "  (136670, 4939)#0111\n",
      "  (136670, 4999)#0111\n",
      "  (136670, 5421)#0111\n",
      "  (136670, 5711)#0111\n",
      "  (136670, 6454)#0111\n",
      "  (136670, 6674)#0111\n",
      "  (136670, 6713)#0111\n",
      "  (136670, 6950)#0111\n",
      "  (136670, 6987)#0111\n",
      "  (136670, 9460)#0111\n",
      "  (136670, 11374)#0111\n",
      "  (136670, 11375)#0111\n",
      "  (136670, 11423)#0111\n",
      "  (136670, 11481)#0111\n",
      "  (136670, 11495)#0111\n",
      "  (136670, 13376)#0111\n",
      "  (136670, 13834)#0111\n",
      "  (136670, 15352)#0111\n",
      "  (136670, 15353)#0111\n",
      "  (136670, 17031)#0111\u001b[0m\n",
      "\u001b[34m--sparse_matrix shape-- (136671, 20571)\u001b[0m\n",
      "\u001b[34mloaded user_genre_matrix\n",
      " [[1. 1. 0. ... 0. 0. 0.]\n",
      " [0. 1. 0. ... 0. 0. 0.]\n",
      " [0. 1. 0. ... 0. 0. 0.]\n",
      " ...\n",
      " [0. 0. 0. ... 0. 0. 0.]\n",
      " [0. 0. 0. ... 0. 0. 0.]\n",
      " [0. 1. 0. ... 0. 0. 0.]]\u001b[0m\n",
      "\u001b[34mloaded user_movie_matrix\n",
      " [[ 3.17427057e+00 -8.58244435e-01  4.34779244e-01 ...  2.57092810e-01\n",
      "  -1.01597326e-01  1.72349404e-01]\n",
      " [ 1.41941929e+00  2.14979664e-01 -4.95166020e-01 ... -2.93989426e-01\n",
      "   3.86997529e-02  1.89468331e-02]\n",
      " [ 5.13197714e+00  1.75519488e+00  2.29704692e-01 ... -1.00370159e-01\n",
      "   2.48342995e-01  1.79762399e-01]\n",
      " ...\n",
      " [ 9.22071118e-02 -7.93075698e-02  5.56337997e-02 ... -5.14808701e-02\n",
      "  -8.97371622e-03 -3.38410579e-02]\n",
      " [ 2.32256462e+00 -7.91874595e-02  1.22511354e+00 ... -1.71150157e-01\n",
      "  -1.34328857e-01 -6.36031311e-01]\n",
      " [ 6.61991978e+00 -2.79042039e+00 -3.34848772e-01 ...  2.90888932e-03\n",
      "  -2.14973274e-02  1.41894412e-01]]\u001b[0m\n",
      "\u001b[34mnumber of users:  136671\u001b[0m\n",
      "\u001b[34mnumber of genres:  19\u001b[0m\n",
      "\u001b[34mnumber of items:  100\u001b[0m\n",
      "\u001b[34m### STARTING MODEL SETUP ###\u001b[0m\n",
      "\u001b[34mcreated model:  <lib.model.LinUCB object at 0x7fb865f7e590>\u001b[0m\n",
      "\u001b[34m### TRAINING MODEL ###\u001b[0m\n",
      "\u001b[34mstart epoch 0\u001b[0m\n"
     ]
    },
    {
     "name": "stdout",
     "output_type": "stream",
     "text": [
      "\u001b[34mfinish training\u001b[0m\n",
      "\u001b[34m### SAVING MODEL ###\u001b[0m\n",
      "\u001b[34mShape of A: (19, 119, 119), Data type: float32\u001b[0m\n",
      "\u001b[34mShape of b: (19, 119), Data type: float32\u001b[0m\n",
      "\u001b[34mEstimated memory usage of A: 1076236 bytes (1.035003662109375 MB)\u001b[0m\n",
      "\u001b[34mEstimated memory usage of b: 9044 bytes (1.035003662109375 MB)\u001b[0m\n",
      "\u001b[34mTotal estimated memory usage: 1.035003662109375 MB\u001b[0m\n",
      "\u001b[34mfinish saving\u001b[0m\n",
      "\u001b[34m### SAVING CODE ###\u001b[0m\n",
      "\u001b[34msaved code in  /opt/ml/model/code/\u001b[0m\n",
      "\u001b[34m### SAVING PARAMETER ###\u001b[0m\n",
      "\u001b[34msaved parameter at  <_io.TextIOWrapper name='/opt/ml/model/networkParams' mode='w' encoding='UTF-8'>\u001b[0m\n",
      "\u001b[34m### TRAINING END ###\u001b[0m\n",
      "\u001b[34m2024-01-08 10:26:10,890 sagemaker-containers INFO     Reporting training SUCCESS\u001b[0m\n",
      "\n",
      "2024-01-08 10:26:16 Uploading - Uploading generated training model\n",
      "2024-01-08 10:26:27 Completed - Training job completed\n",
      "Training seconds: 202\n",
      "Billable seconds: 202\n"
     ]
    }
   ],
   "source": [
    "estimator.fit({ \"train\": train_channel, \"eval\": eval_channel })"
   ]
  },
  {
   "cell_type": "code",
   "execution_count": 8,
   "id": "41ef04e1",
   "metadata": {},
   "outputs": [],
   "source": [
    "serverless_config = ServerlessInferenceConfig(\n",
    "    memory_size_in_mb = 2048,\n",
    "    max_concurrency = 3\n",
    ")"
   ]
  },
  {
   "cell_type": "code",
   "execution_count": 9,
   "id": "012099fb",
   "metadata": {},
   "outputs": [],
   "source": [
    "endpoint_name = \"LinUCB\""
   ]
  },
  {
   "cell_type": "code",
   "execution_count": 10,
   "id": "63dd5ec3",
   "metadata": {},
   "outputs": [
    {
     "name": "stdout",
     "output_type": "stream",
     "text": [
      "Deleting existing endpoint: LinUCB\n"
     ]
    }
   ],
   "source": [
    "try:\n",
    "    sagemaker_client.describe_endpoint(EndpointName=endpoint_name)\n",
    "    print(f\"Deleting existing endpoint: {endpoint_name}\")\n",
    "    sagemaker_client.delete_endpoint(EndpointName=endpoint_name)\n",
    "except sagemaker_client.exceptions.ClientError as e:\n",
    "    error_code = e.response['Error']['Code']\n",
    "    if error_code == 'ValidationException':\n",
    "        print(f\"No existing endpoint found with name: {endpoint_name}\")\n",
    "    else:\n",
    "        raise"
   ]
  },
  {
   "cell_type": "code",
   "execution_count": 11,
   "id": "bb4d59ea",
   "metadata": {},
   "outputs": [
    {
     "name": "stdout",
     "output_type": "stream",
     "text": [
      "Deleted endpoint configuration: LinUCB\n"
     ]
    }
   ],
   "source": [
    "try:\n",
    "    sagemaker_client.delete_endpoint_config(EndpointConfigName=endpoint_name)\n",
    "    print(f\"Deleted endpoint configuration: {endpoint_name}\")\n",
    "except sagemaker_client.exceptions.ClientError as e:\n",
    "    print(f\"Error deleting endpoint configuration: {e}\")"
   ]
  },
  {
   "cell_type": "code",
   "execution_count": 12,
   "id": "c5ff3965",
   "metadata": {},
   "outputs": [
    {
     "name": "stderr",
     "output_type": "stream",
     "text": [
      "INFO:sagemaker:Creating model with name: sagemaker-scikit-learn-2024-01-08-10-27-08-692\n",
      "INFO:sagemaker:Creating endpoint-config with name LinUCB\n",
      "INFO:sagemaker:Creating endpoint with name LinUCB\n"
     ]
    },
    {
     "name": "stdout",
     "output_type": "stream",
     "text": [
      "-----!"
     ]
    }
   ],
   "source": [
    "deployed_model = estimator.deploy(\n",
    "    endpoint_name=endpoint_name,\n",
    "    initial_instance_count=1,\n",
    "    instance_type=\"ml.m5.xlarge\",\n",
    "    serializer=CSVSerializer(),\n",
    "    deserializer=JSONDeserializer(),\n",
    "    serverless_inference_config=serverless_config\n",
    ")"
   ]
  }
 ],
 "metadata": {
  "kernelspec": {
   "display_name": "conda_python3",
   "language": "python",
   "name": "conda_python3"
  },
  "language_info": {
   "codemirror_mode": {
    "name": "ipython",
    "version": 3
   },
   "file_extension": ".py",
   "mimetype": "text/x-python",
   "name": "python",
   "nbconvert_exporter": "python",
   "pygments_lexer": "ipython3",
   "version": "3.10.13"
  }
 },
 "nbformat": 4,
 "nbformat_minor": 5
}
